{
 "cells": [
  {
   "cell_type": "markdown",
   "id": "b5ba2fcd-81b4-4f77-9ea4-4bd0ca876071",
   "metadata": {
    "tags": []
   },
   "source": [
    "# PROJET TECHNO DATA"
   ]
  },
  {
   "cell_type": "markdown",
   "id": "50e80422-4a5f-4d2b-a97b-f91893443d1b",
   "metadata": {},
   "source": [
    "## Auteurs\n",
    "\n",
    "Adrien Chaptal\n",
    "\n",
    "Gael Rousseau"
   ]
  },
  {
   "cell_type": "markdown",
   "id": "c01692ea-3219-461b-b2bb-0d15f79a849e",
   "metadata": {},
   "source": [
    "## Declaration librairies"
   ]
  },
  {
   "cell_type": "code",
   "execution_count": 174,
   "id": "721681a4-39e1-426d-97ad-8013313fed50",
   "metadata": {},
   "outputs": [],
   "source": [
    "# imports\n",
    "import numpy as np\n",
    "import pandas as pd\n",
    "import matplotlib.pyplot as plt\n",
    "# show plots in the notebook\n",
    "%matplotlib inline\n",
    "import seaborn as sns\n",
    "from sklearn.model_selection import train_test_split\n",
    "from sklearn.model_selection import cross_val_score\n",
    "from sklearn.linear_model import LogisticRegression\n",
    "from sklearn.metrics import classification_report, confusion_matrix\n",
    "from sklearn import preprocessing\n",
    "from sklearn import metrics\n",
    "from sklearn.tree import DecisionTreeClassifier\n",
    "\n",
    "import warnings\n",
    "warnings.filterwarnings('ignore')"
   ]
  },
  {
   "cell_type": "markdown",
   "id": "5df9451d-a89a-4da3-ae4a-bfcbbb276498",
   "metadata": {
    "tags": []
   },
   "source": [
    "## I - Analyse et Preparation des données"
   ]
  },
  {
   "cell_type": "markdown",
   "id": "0c70db99-3e20-4a50-9049-147ef9a2cf3a",
   "metadata": {
    "tags": []
   },
   "source": [
    "1. Etudier les données en affichants les informations correspondantes (colonnes, indice, etc) :"
   ]
  },
  {
   "cell_type": "code",
   "execution_count": 175,
   "id": "48c787e3-fbce-4495-84bd-0e3e4597e91d",
   "metadata": {},
   "outputs": [
    {
     "name": "stdout",
     "output_type": "stream",
     "text": [
      "(60701, 16)\n"
     ]
    }
   ],
   "source": [
    "## TO DO\n",
    "df_caracteristique = pd.read_csv('./bdd/caracteristiques-2017.csv', encoding ='latin1')\n",
    "print(df_caracteristique.shape)"
   ]
  },
  {
   "cell_type": "code",
   "execution_count": 176,
   "id": "43c78c27-1e42-4f65-8460-bc1c757e0bd3",
   "metadata": {},
   "outputs": [
    {
     "name": "stdout",
     "output_type": "stream",
     "text": [
      "(60701, 18)\n"
     ]
    }
   ],
   "source": [
    "df_lieux = pd.read_csv('./bdd/lieux-2017.csv', encoding ='latin1')\n",
    "\n",
    "print(df_lieux.shape)"
   ]
  },
  {
   "cell_type": "code",
   "execution_count": 177,
   "id": "aedcd54b-7d29-4869-825c-8b9c1f067cda",
   "metadata": {},
   "outputs": [
    {
     "name": "stdout",
     "output_type": "stream",
     "text": [
      "(136021, 12)\n"
     ]
    }
   ],
   "source": [
    "df_usagers = pd.read_csv('./bdd/usagers-2017.csv', encoding ='latin1')\n",
    "\n",
    "print(df_usagers.shape)"
   ]
  },
  {
   "cell_type": "code",
   "execution_count": 178,
   "id": "386154de-c509-4e40-96fa-5e6810f3997c",
   "metadata": {},
   "outputs": [
    {
     "name": "stdout",
     "output_type": "stream",
     "text": [
      "(103546, 9)\n"
     ]
    }
   ],
   "source": [
    "df_vehicules = pd.read_csv('./bdd/vehicules-2017.csv', encoding ='latin1')\n",
    "\n",
    "print(df_vehicules.shape)"
   ]
  },
  {
   "cell_type": "markdown",
   "id": "7fe73fdd-90a5-4efd-9388-b45d867d8724",
   "metadata": {},
   "source": [
    "2. Fusionner les fichiers de donnés "
   ]
  },
  {
   "cell_type": "code",
   "execution_count": 179,
   "id": "56382c46-c813-417e-9ee4-b5cd73accc88",
   "metadata": {},
   "outputs": [
    {
     "name": "stdout",
     "output_type": "stream",
     "text": [
      "(136021, 55)\n"
     ]
    }
   ],
   "source": [
    "frames = [df_caracteristique, df_lieux, df_usagers, df_vehicules]\n",
    "df_total = pd.concat(frames, axis=1)\n",
    "\n",
    "print(df_total.shape)"
   ]
  },
  {
   "cell_type": "markdown",
   "id": "d0a01f98-fd97-40e6-b4ed-93419ad199cc",
   "metadata": {},
   "source": [
    "3. Nettoyer la base de données\n",
    "\n",
    "Ex : Identifier le pourcentage de valeurs NaN dans la base et éliminez les colonnes où la majorité\n",
    "des valeurs sont NaN."
   ]
  },
  {
   "cell_type": "code",
   "execution_count": 180,
   "id": "b0e1e355-273b-4c6e-b87c-44f8d8bc2df4",
   "metadata": {},
   "outputs": [
    {
     "data": {
      "text/html": [
       "<div>\n",
       "<style scoped>\n",
       "    .dataframe tbody tr th:only-of-type {\n",
       "        vertical-align: middle;\n",
       "    }\n",
       "\n",
       "    .dataframe tbody tr th {\n",
       "        vertical-align: top;\n",
       "    }\n",
       "\n",
       "    .dataframe thead th {\n",
       "        text-align: right;\n",
       "    }\n",
       "</style>\n",
       "<table border=\"1\" class=\"dataframe\">\n",
       "  <thead>\n",
       "    <tr style=\"text-align: right;\">\n",
       "      <th></th>\n",
       "      <th>place</th>\n",
       "      <th>catu</th>\n",
       "      <th>grav</th>\n",
       "      <th>sexe</th>\n",
       "      <th>trajet</th>\n",
       "      <th>secu</th>\n",
       "      <th>locp</th>\n",
       "      <th>actp</th>\n",
       "      <th>etatp</th>\n",
       "      <th>an_nais</th>\n",
       "      <th>senc</th>\n",
       "      <th>catv</th>\n",
       "      <th>occutc</th>\n",
       "      <th>obs</th>\n",
       "      <th>obsm</th>\n",
       "      <th>choc</th>\n",
       "      <th>manv</th>\n",
       "    </tr>\n",
       "  </thead>\n",
       "  <tbody>\n",
       "    <tr>\n",
       "      <th>0</th>\n",
       "      <td>1.0</td>\n",
       "      <td>1</td>\n",
       "      <td>3</td>\n",
       "      <td>1</td>\n",
       "      <td>9.0</td>\n",
       "      <td>13.0</td>\n",
       "      <td>0.0</td>\n",
       "      <td>0.0</td>\n",
       "      <td>0.0</td>\n",
       "      <td>1968.0</td>\n",
       "      <td>0.0</td>\n",
       "      <td>7.0</td>\n",
       "      <td>0.0</td>\n",
       "      <td>0.0</td>\n",
       "      <td>2.0</td>\n",
       "      <td>3.0</td>\n",
       "      <td>9.0</td>\n",
       "    </tr>\n",
       "    <tr>\n",
       "      <th>1</th>\n",
       "      <td>2.0</td>\n",
       "      <td>2</td>\n",
       "      <td>3</td>\n",
       "      <td>2</td>\n",
       "      <td>9.0</td>\n",
       "      <td>11.0</td>\n",
       "      <td>0.0</td>\n",
       "      <td>0.0</td>\n",
       "      <td>0.0</td>\n",
       "      <td>1973.0</td>\n",
       "      <td>0.0</td>\n",
       "      <td>10.0</td>\n",
       "      <td>0.0</td>\n",
       "      <td>0.0</td>\n",
       "      <td>2.0</td>\n",
       "      <td>3.0</td>\n",
       "      <td>13.0</td>\n",
       "    </tr>\n",
       "    <tr>\n",
       "      <th>2</th>\n",
       "      <td>1.0</td>\n",
       "      <td>1</td>\n",
       "      <td>3</td>\n",
       "      <td>1</td>\n",
       "      <td>1.0</td>\n",
       "      <td>13.0</td>\n",
       "      <td>0.0</td>\n",
       "      <td>0.0</td>\n",
       "      <td>0.0</td>\n",
       "      <td>1967.0</td>\n",
       "      <td>0.0</td>\n",
       "      <td>7.0</td>\n",
       "      <td>0.0</td>\n",
       "      <td>0.0</td>\n",
       "      <td>0.0</td>\n",
       "      <td>1.0</td>\n",
       "      <td>16.0</td>\n",
       "    </tr>\n",
       "    <tr>\n",
       "      <th>3</th>\n",
       "      <td>1.0</td>\n",
       "      <td>1</td>\n",
       "      <td>1</td>\n",
       "      <td>1</td>\n",
       "      <td>0.0</td>\n",
       "      <td>11.0</td>\n",
       "      <td>0.0</td>\n",
       "      <td>0.0</td>\n",
       "      <td>0.0</td>\n",
       "      <td>1953.0</td>\n",
       "      <td>0.0</td>\n",
       "      <td>1.0</td>\n",
       "      <td>0.0</td>\n",
       "      <td>0.0</td>\n",
       "      <td>0.0</td>\n",
       "      <td>7.0</td>\n",
       "      <td>1.0</td>\n",
       "    </tr>\n",
       "    <tr>\n",
       "      <th>4</th>\n",
       "      <td>1.0</td>\n",
       "      <td>1</td>\n",
       "      <td>3</td>\n",
       "      <td>1</td>\n",
       "      <td>5.0</td>\n",
       "      <td>22.0</td>\n",
       "      <td>0.0</td>\n",
       "      <td>0.0</td>\n",
       "      <td>0.0</td>\n",
       "      <td>1960.0</td>\n",
       "      <td>0.0</td>\n",
       "      <td>10.0</td>\n",
       "      <td>0.0</td>\n",
       "      <td>0.0</td>\n",
       "      <td>2.0</td>\n",
       "      <td>1.0</td>\n",
       "      <td>1.0</td>\n",
       "    </tr>\n",
       "    <tr>\n",
       "      <th>...</th>\n",
       "      <td>...</td>\n",
       "      <td>...</td>\n",
       "      <td>...</td>\n",
       "      <td>...</td>\n",
       "      <td>...</td>\n",
       "      <td>...</td>\n",
       "      <td>...</td>\n",
       "      <td>...</td>\n",
       "      <td>...</td>\n",
       "      <td>...</td>\n",
       "      <td>...</td>\n",
       "      <td>...</td>\n",
       "      <td>...</td>\n",
       "      <td>...</td>\n",
       "      <td>...</td>\n",
       "      <td>...</td>\n",
       "      <td>...</td>\n",
       "    </tr>\n",
       "    <tr>\n",
       "      <th>136016</th>\n",
       "      <td>1.0</td>\n",
       "      <td>1</td>\n",
       "      <td>1</td>\n",
       "      <td>2</td>\n",
       "      <td>9.0</td>\n",
       "      <td>11.0</td>\n",
       "      <td>0.0</td>\n",
       "      <td>0.0</td>\n",
       "      <td>0.0</td>\n",
       "      <td>1974.0</td>\n",
       "      <td>NaN</td>\n",
       "      <td>NaN</td>\n",
       "      <td>NaN</td>\n",
       "      <td>NaN</td>\n",
       "      <td>NaN</td>\n",
       "      <td>NaN</td>\n",
       "      <td>NaN</td>\n",
       "    </tr>\n",
       "    <tr>\n",
       "      <th>136017</th>\n",
       "      <td>1.0</td>\n",
       "      <td>1</td>\n",
       "      <td>1</td>\n",
       "      <td>2</td>\n",
       "      <td>9.0</td>\n",
       "      <td>11.0</td>\n",
       "      <td>0.0</td>\n",
       "      <td>0.0</td>\n",
       "      <td>0.0</td>\n",
       "      <td>1987.0</td>\n",
       "      <td>NaN</td>\n",
       "      <td>NaN</td>\n",
       "      <td>NaN</td>\n",
       "      <td>NaN</td>\n",
       "      <td>NaN</td>\n",
       "      <td>NaN</td>\n",
       "      <td>NaN</td>\n",
       "    </tr>\n",
       "    <tr>\n",
       "      <th>136018</th>\n",
       "      <td>1.0</td>\n",
       "      <td>1</td>\n",
       "      <td>4</td>\n",
       "      <td>1</td>\n",
       "      <td>9.0</td>\n",
       "      <td>21.0</td>\n",
       "      <td>0.0</td>\n",
       "      <td>0.0</td>\n",
       "      <td>0.0</td>\n",
       "      <td>1991.0</td>\n",
       "      <td>NaN</td>\n",
       "      <td>NaN</td>\n",
       "      <td>NaN</td>\n",
       "      <td>NaN</td>\n",
       "      <td>NaN</td>\n",
       "      <td>NaN</td>\n",
       "      <td>NaN</td>\n",
       "    </tr>\n",
       "    <tr>\n",
       "      <th>136019</th>\n",
       "      <td>2.0</td>\n",
       "      <td>2</td>\n",
       "      <td>4</td>\n",
       "      <td>2</td>\n",
       "      <td>9.0</td>\n",
       "      <td>21.0</td>\n",
       "      <td>0.0</td>\n",
       "      <td>0.0</td>\n",
       "      <td>0.0</td>\n",
       "      <td>1990.0</td>\n",
       "      <td>NaN</td>\n",
       "      <td>NaN</td>\n",
       "      <td>NaN</td>\n",
       "      <td>NaN</td>\n",
       "      <td>NaN</td>\n",
       "      <td>NaN</td>\n",
       "      <td>NaN</td>\n",
       "    </tr>\n",
       "    <tr>\n",
       "      <th>136020</th>\n",
       "      <td>1.0</td>\n",
       "      <td>1</td>\n",
       "      <td>4</td>\n",
       "      <td>1</td>\n",
       "      <td>1.0</td>\n",
       "      <td>21.0</td>\n",
       "      <td>0.0</td>\n",
       "      <td>0.0</td>\n",
       "      <td>0.0</td>\n",
       "      <td>1992.0</td>\n",
       "      <td>NaN</td>\n",
       "      <td>NaN</td>\n",
       "      <td>NaN</td>\n",
       "      <td>NaN</td>\n",
       "      <td>NaN</td>\n",
       "      <td>NaN</td>\n",
       "      <td>NaN</td>\n",
       "    </tr>\n",
       "  </tbody>\n",
       "</table>\n",
       "<p>136021 rows × 17 columns</p>\n",
       "</div>"
      ],
      "text/plain": [
       "        place  catu  grav  sexe  trajet  secu  locp  actp  etatp  an_nais  \\\n",
       "0         1.0     1     3     1     9.0  13.0   0.0   0.0    0.0   1968.0   \n",
       "1         2.0     2     3     2     9.0  11.0   0.0   0.0    0.0   1973.0   \n",
       "2         1.0     1     3     1     1.0  13.0   0.0   0.0    0.0   1967.0   \n",
       "3         1.0     1     1     1     0.0  11.0   0.0   0.0    0.0   1953.0   \n",
       "4         1.0     1     3     1     5.0  22.0   0.0   0.0    0.0   1960.0   \n",
       "...       ...   ...   ...   ...     ...   ...   ...   ...    ...      ...   \n",
       "136016    1.0     1     1     2     9.0  11.0   0.0   0.0    0.0   1974.0   \n",
       "136017    1.0     1     1     2     9.0  11.0   0.0   0.0    0.0   1987.0   \n",
       "136018    1.0     1     4     1     9.0  21.0   0.0   0.0    0.0   1991.0   \n",
       "136019    2.0     2     4     2     9.0  21.0   0.0   0.0    0.0   1990.0   \n",
       "136020    1.0     1     4     1     1.0  21.0   0.0   0.0    0.0   1992.0   \n",
       "\n",
       "        senc  catv  occutc  obs  obsm  choc  manv  \n",
       "0        0.0   7.0     0.0  0.0   2.0   3.0   9.0  \n",
       "1        0.0  10.0     0.0  0.0   2.0   3.0  13.0  \n",
       "2        0.0   7.0     0.0  0.0   0.0   1.0  16.0  \n",
       "3        0.0   1.0     0.0  0.0   0.0   7.0   1.0  \n",
       "4        0.0  10.0     0.0  0.0   2.0   1.0   1.0  \n",
       "...      ...   ...     ...  ...   ...   ...   ...  \n",
       "136016   NaN   NaN     NaN  NaN   NaN   NaN   NaN  \n",
       "136017   NaN   NaN     NaN  NaN   NaN   NaN   NaN  \n",
       "136018   NaN   NaN     NaN  NaN   NaN   NaN   NaN  \n",
       "136019   NaN   NaN     NaN  NaN   NaN   NaN   NaN  \n",
       "136020   NaN   NaN     NaN  NaN   NaN   NaN   NaN  \n",
       "\n",
       "[136021 rows x 17 columns]"
      ]
     },
     "execution_count": 180,
     "metadata": {},
     "output_type": "execute_result"
    }
   ],
   "source": [
    "\n",
    "df = df_total.loc[:, df_total.isnull().mean() < .5]\n",
    "\n",
    "#Also we remove the colums in named \"num_veh\" et Num_Acc because we will not need it and it's not numerical values   \n",
    "df = df.loc[:,~df.columns.duplicated()]\n",
    "df.drop(['num_veh'], axis=1, inplace=True)\n",
    "df.drop(['Num_Acc'], axis=1, inplace=True)\n",
    "\n",
    "df"
   ]
  },
  {
   "cell_type": "markdown",
   "id": "5c4157e8-543f-4428-8803-7bd30cfa2fa1",
   "metadata": {},
   "source": [
    "4. Supprimer les variables dont la majorité des observations sont manquantes"
   ]
  },
  {
   "cell_type": "code",
   "execution_count": 181,
   "id": "2dcb3008-d789-4edd-8583-b08538003001",
   "metadata": {},
   "outputs": [
    {
     "name": "stdout",
     "output_type": "stream",
     "text": [
      "Removing column  locp\n",
      "Removing column  actp\n",
      "Removing column  etatp\n",
      "Removing column  occutc\n",
      "Removing column  obs\n"
     ]
    },
    {
     "data": {
      "text/html": [
       "<div>\n",
       "<style scoped>\n",
       "    .dataframe tbody tr th:only-of-type {\n",
       "        vertical-align: middle;\n",
       "    }\n",
       "\n",
       "    .dataframe tbody tr th {\n",
       "        vertical-align: top;\n",
       "    }\n",
       "\n",
       "    .dataframe thead th {\n",
       "        text-align: right;\n",
       "    }\n",
       "</style>\n",
       "<table border=\"1\" class=\"dataframe\">\n",
       "  <thead>\n",
       "    <tr style=\"text-align: right;\">\n",
       "      <th></th>\n",
       "      <th>place</th>\n",
       "      <th>catu</th>\n",
       "      <th>grav</th>\n",
       "      <th>sexe</th>\n",
       "      <th>trajet</th>\n",
       "      <th>secu</th>\n",
       "      <th>an_nais</th>\n",
       "      <th>senc</th>\n",
       "      <th>catv</th>\n",
       "      <th>obsm</th>\n",
       "      <th>choc</th>\n",
       "      <th>manv</th>\n",
       "    </tr>\n",
       "  </thead>\n",
       "  <tbody>\n",
       "    <tr>\n",
       "      <th>0</th>\n",
       "      <td>1.0</td>\n",
       "      <td>1</td>\n",
       "      <td>3</td>\n",
       "      <td>1</td>\n",
       "      <td>9.0</td>\n",
       "      <td>13.0</td>\n",
       "      <td>1968.0</td>\n",
       "      <td>0.0</td>\n",
       "      <td>7.0</td>\n",
       "      <td>2.0</td>\n",
       "      <td>3.0</td>\n",
       "      <td>9.0</td>\n",
       "    </tr>\n",
       "    <tr>\n",
       "      <th>1</th>\n",
       "      <td>2.0</td>\n",
       "      <td>2</td>\n",
       "      <td>3</td>\n",
       "      <td>2</td>\n",
       "      <td>9.0</td>\n",
       "      <td>11.0</td>\n",
       "      <td>1973.0</td>\n",
       "      <td>0.0</td>\n",
       "      <td>10.0</td>\n",
       "      <td>2.0</td>\n",
       "      <td>3.0</td>\n",
       "      <td>13.0</td>\n",
       "    </tr>\n",
       "    <tr>\n",
       "      <th>2</th>\n",
       "      <td>1.0</td>\n",
       "      <td>1</td>\n",
       "      <td>3</td>\n",
       "      <td>1</td>\n",
       "      <td>1.0</td>\n",
       "      <td>13.0</td>\n",
       "      <td>1967.0</td>\n",
       "      <td>0.0</td>\n",
       "      <td>7.0</td>\n",
       "      <td>0.0</td>\n",
       "      <td>1.0</td>\n",
       "      <td>16.0</td>\n",
       "    </tr>\n",
       "    <tr>\n",
       "      <th>3</th>\n",
       "      <td>1.0</td>\n",
       "      <td>1</td>\n",
       "      <td>1</td>\n",
       "      <td>1</td>\n",
       "      <td>0.0</td>\n",
       "      <td>11.0</td>\n",
       "      <td>1953.0</td>\n",
       "      <td>0.0</td>\n",
       "      <td>1.0</td>\n",
       "      <td>0.0</td>\n",
       "      <td>7.0</td>\n",
       "      <td>1.0</td>\n",
       "    </tr>\n",
       "    <tr>\n",
       "      <th>4</th>\n",
       "      <td>1.0</td>\n",
       "      <td>1</td>\n",
       "      <td>3</td>\n",
       "      <td>1</td>\n",
       "      <td>5.0</td>\n",
       "      <td>22.0</td>\n",
       "      <td>1960.0</td>\n",
       "      <td>0.0</td>\n",
       "      <td>10.0</td>\n",
       "      <td>2.0</td>\n",
       "      <td>1.0</td>\n",
       "      <td>1.0</td>\n",
       "    </tr>\n",
       "    <tr>\n",
       "      <th>...</th>\n",
       "      <td>...</td>\n",
       "      <td>...</td>\n",
       "      <td>...</td>\n",
       "      <td>...</td>\n",
       "      <td>...</td>\n",
       "      <td>...</td>\n",
       "      <td>...</td>\n",
       "      <td>...</td>\n",
       "      <td>...</td>\n",
       "      <td>...</td>\n",
       "      <td>...</td>\n",
       "      <td>...</td>\n",
       "    </tr>\n",
       "    <tr>\n",
       "      <th>136016</th>\n",
       "      <td>1.0</td>\n",
       "      <td>1</td>\n",
       "      <td>1</td>\n",
       "      <td>2</td>\n",
       "      <td>9.0</td>\n",
       "      <td>11.0</td>\n",
       "      <td>1974.0</td>\n",
       "      <td>NaN</td>\n",
       "      <td>NaN</td>\n",
       "      <td>NaN</td>\n",
       "      <td>NaN</td>\n",
       "      <td>NaN</td>\n",
       "    </tr>\n",
       "    <tr>\n",
       "      <th>136017</th>\n",
       "      <td>1.0</td>\n",
       "      <td>1</td>\n",
       "      <td>1</td>\n",
       "      <td>2</td>\n",
       "      <td>9.0</td>\n",
       "      <td>11.0</td>\n",
       "      <td>1987.0</td>\n",
       "      <td>NaN</td>\n",
       "      <td>NaN</td>\n",
       "      <td>NaN</td>\n",
       "      <td>NaN</td>\n",
       "      <td>NaN</td>\n",
       "    </tr>\n",
       "    <tr>\n",
       "      <th>136018</th>\n",
       "      <td>1.0</td>\n",
       "      <td>1</td>\n",
       "      <td>4</td>\n",
       "      <td>1</td>\n",
       "      <td>9.0</td>\n",
       "      <td>21.0</td>\n",
       "      <td>1991.0</td>\n",
       "      <td>NaN</td>\n",
       "      <td>NaN</td>\n",
       "      <td>NaN</td>\n",
       "      <td>NaN</td>\n",
       "      <td>NaN</td>\n",
       "    </tr>\n",
       "    <tr>\n",
       "      <th>136019</th>\n",
       "      <td>2.0</td>\n",
       "      <td>2</td>\n",
       "      <td>4</td>\n",
       "      <td>2</td>\n",
       "      <td>9.0</td>\n",
       "      <td>21.0</td>\n",
       "      <td>1990.0</td>\n",
       "      <td>NaN</td>\n",
       "      <td>NaN</td>\n",
       "      <td>NaN</td>\n",
       "      <td>NaN</td>\n",
       "      <td>NaN</td>\n",
       "    </tr>\n",
       "    <tr>\n",
       "      <th>136020</th>\n",
       "      <td>1.0</td>\n",
       "      <td>1</td>\n",
       "      <td>4</td>\n",
       "      <td>1</td>\n",
       "      <td>1.0</td>\n",
       "      <td>21.0</td>\n",
       "      <td>1992.0</td>\n",
       "      <td>NaN</td>\n",
       "      <td>NaN</td>\n",
       "      <td>NaN</td>\n",
       "      <td>NaN</td>\n",
       "      <td>NaN</td>\n",
       "    </tr>\n",
       "  </tbody>\n",
       "</table>\n",
       "<p>136021 rows × 12 columns</p>\n",
       "</div>"
      ],
      "text/plain": [
       "        place  catu  grav  sexe  trajet  secu  an_nais  senc  catv  obsm  \\\n",
       "0         1.0     1     3     1     9.0  13.0   1968.0   0.0   7.0   2.0   \n",
       "1         2.0     2     3     2     9.0  11.0   1973.0   0.0  10.0   2.0   \n",
       "2         1.0     1     3     1     1.0  13.0   1967.0   0.0   7.0   0.0   \n",
       "3         1.0     1     1     1     0.0  11.0   1953.0   0.0   1.0   0.0   \n",
       "4         1.0     1     3     1     5.0  22.0   1960.0   0.0  10.0   2.0   \n",
       "...       ...   ...   ...   ...     ...   ...      ...   ...   ...   ...   \n",
       "136016    1.0     1     1     2     9.0  11.0   1974.0   NaN   NaN   NaN   \n",
       "136017    1.0     1     1     2     9.0  11.0   1987.0   NaN   NaN   NaN   \n",
       "136018    1.0     1     4     1     9.0  21.0   1991.0   NaN   NaN   NaN   \n",
       "136019    2.0     2     4     2     9.0  21.0   1990.0   NaN   NaN   NaN   \n",
       "136020    1.0     1     4     1     1.0  21.0   1992.0   NaN   NaN   NaN   \n",
       "\n",
       "        choc  manv  \n",
       "0        3.0   9.0  \n",
       "1        3.0  13.0  \n",
       "2        1.0  16.0  \n",
       "3        7.0   1.0  \n",
       "4        1.0   1.0  \n",
       "...      ...   ...  \n",
       "136016   NaN   NaN  \n",
       "136017   NaN   NaN  \n",
       "136018   NaN   NaN  \n",
       "136019   NaN   NaN  \n",
       "136020   NaN   NaN  \n",
       "\n",
       "[136021 rows x 12 columns]"
      ]
     },
     "execution_count": 181,
     "metadata": {},
     "output_type": "execute_result"
    }
   ],
   "source": [
    "# Count number of zeros in all columns of Dataframe\n",
    "for column_name in df.columns:\n",
    "    shape=df.shape[0]\n",
    "    column = df[column_name]\n",
    "    # Get the count of Zeros in column \n",
    "    count = (column == 0).sum()\n",
    "    pct=count/df.shape[0]\n",
    "    if(isinstance(pct, pd.Series)):\n",
    "        print(\"Can't process Series...\")\n",
    "    elif(pct > 0.5):\n",
    "        df.drop([column_name], axis=1, inplace=True)\n",
    "        print(\"Removing column \", column_name)\n",
    "    \n",
    "df"
   ]
  },
  {
   "cell_type": "markdown",
   "id": "a08aebc4-ccf4-45ad-8100-a5d3570b0f0e",
   "metadata": {},
   "source": [
    "5. Remplir les valeurs NaN par différentes méthodes"
   ]
  },
  {
   "cell_type": "code",
   "execution_count": 207,
   "id": "a7298fcc-a803-4d81-89f2-909b42520370",
   "metadata": {},
   "outputs": [
    {
     "name": "stdout",
     "output_type": "stream",
     "text": [
      "place        0\n",
      "catu         0\n",
      "grav         0\n",
      "sexe         0\n",
      "trajet       0\n",
      "secu         0\n",
      "an_nais      0\n",
      "senc         0\n",
      "catv         0\n",
      "obsm         0\n",
      "choc         0\n",
      "manv         0\n",
      "mortalite    0\n",
      "dtype: int64\n",
      "0\n",
      "0\n",
      "place        0\n",
      "catu         0\n",
      "grav         0\n",
      "sexe         0\n",
      "trajet       0\n",
      "secu         0\n",
      "an_nais      0\n",
      "senc         0\n",
      "catv         0\n",
      "obsm         0\n",
      "choc         0\n",
      "manv         0\n",
      "mortalite    0\n",
      "dtype: int64\n"
     ]
    }
   ],
   "source": [
    "def fill_nas_by_type(df, col_name):\n",
    "    \"\"\"Fill null values in df according to col_name type\n",
    "    \n",
    "    Parameters\n",
    "    ----------\n",
    "    df : dataframe, (default=None)\n",
    "        input dataframe\n",
    "    col_name : str, (default=None)\n",
    "        column with null values to fill\n",
    "        \n",
    "    Returns\n",
    "    -------\n",
    "    df with filled values in col_name\n",
    "    \"\"\"\n",
    "    if (col_name == \"trajet\"):\n",
    "        df[col_name] = df[col_name].fillna(value=9)\n",
    "    elif (col_name == \"place\"):\n",
    "        df[col_name] = df[col_name].fillna(df[col_name].value_counts()[:1].index.tolist()[0])\n",
    "    elif (col_name == \"an_nais\"):\n",
    "        df[col_name] = df[col_name].fillna(float(df[col_name].median()))\n",
    "    elif (col_name == \"catv\"):\n",
    "        df[col_name] = df[col_name].fillna(value=99)\n",
    "    elif (col_name == \"obsm\"):\n",
    "        df[col_name] = df[col_name].fillna(value=99)\n",
    "    elif (col_name == \"choc\"):\n",
    "        df[col_name] = df[col_name].fillna(value=9)\n",
    "    elif (col_name == \"manv\"):\n",
    "        df[col_name] = df[col_name].fillna(value=25)\n",
    "    elif (col_name == \"senc\"):\n",
    "        df[col_name] = df[col_name].fillna(df[col_name].value_counts()[:1].index.tolist()[0])\n",
    "    elif (col_name == \"Num_Acc\"):\n",
    "        df[col_name] = df[col_name].fillna(method='ffill')\n",
    "    elif (col_name == \"secu\"):\n",
    "        df[col_name] = df[col_name].fillna(df[col_name].value_counts()[:1].index.tolist()[0])\n",
    "    return df\n",
    "\n",
    "cols_to_fill = list(df.columns)\n",
    "\n",
    "print(df.isnull().sum(axis = 0))\n",
    "\n",
    "print(df.isnull().sum().sum())\n",
    "for x in cols_to_fill:\n",
    "    df = fill_nas_by_type(df, x)\n",
    "print(df.isnull().sum().sum())\n",
    "print(df.isnull().sum(axis = 0))"
   ]
  },
  {
   "cell_type": "markdown",
   "id": "d60f6098-892c-427d-bbab-47eb8cc14f91",
   "metadata": {},
   "source": [
    "6. Analyser les données par les statistiques (min, max, médiane)"
   ]
  },
  {
   "cell_type": "code",
   "execution_count": 208,
   "id": "1f269676-c715-4fe3-9f7b-3caa66a60860",
   "metadata": {},
   "outputs": [
    {
     "name": "stdout",
     "output_type": "stream",
     "text": [
      "Column: place\n",
      "count    136021.000000\n",
      "mean          1.393300\n",
      "std           1.233188\n",
      "min           1.000000\n",
      "25%           1.000000\n",
      "50%           1.000000\n",
      "75%           1.000000\n",
      "max           9.000000\n",
      "Name: place, dtype: float64\n",
      "\n",
      " \n",
      "\n",
      "Column: catu\n",
      "count    136021.000000\n",
      "mean          1.349814\n",
      "std           0.639996\n",
      "min           1.000000\n",
      "25%           1.000000\n",
      "50%           1.000000\n",
      "75%           2.000000\n",
      "max           4.000000\n",
      "Name: catu, dtype: float64\n",
      "\n",
      " \n",
      "\n",
      "Column: grav\n",
      "count    136021.000000\n",
      "mean          2.492858\n",
      "std           1.330687\n",
      "min           1.000000\n",
      "25%           1.000000\n",
      "50%           3.000000\n",
      "75%           4.000000\n",
      "max           4.000000\n",
      "Name: grav, dtype: float64\n",
      "\n",
      " \n",
      "\n",
      "Column: sexe\n",
      "count    136021.000000\n",
      "mean          1.323016\n",
      "std           0.467631\n",
      "min           1.000000\n",
      "25%           1.000000\n",
      "50%           1.000000\n",
      "75%           2.000000\n",
      "max           2.000000\n",
      "Name: sexe, dtype: float64\n",
      "\n",
      " \n",
      "\n",
      "Column: trajet\n",
      "count    136021.000000\n",
      "mean          3.476713\n",
      "std           2.647390\n",
      "min           0.000000\n",
      "25%           1.000000\n",
      "50%           4.000000\n",
      "75%           5.000000\n",
      "max           9.000000\n",
      "Name: trajet, dtype: float64\n",
      "\n",
      " \n",
      "\n",
      "Column: secu\n",
      "count    136021.000000\n",
      "mean         17.393175\n",
      "std          17.277594\n",
      "min           1.000000\n",
      "25%          11.000000\n",
      "50%          11.000000\n",
      "75%          21.000000\n",
      "max          93.000000\n",
      "Name: secu, dtype: float64\n",
      "\n",
      " \n",
      "\n",
      "Column: an_nais\n",
      "count    136021.000000\n",
      "mean       1978.317797\n",
      "std          18.883170\n",
      "min        1914.000000\n",
      "25%        1965.000000\n",
      "50%        1982.000000\n",
      "75%        1993.000000\n",
      "max        2017.000000\n",
      "Name: an_nais, dtype: float64\n",
      "\n",
      " \n",
      "\n",
      "Column: senc\n",
      "count    136021.000000\n",
      "mean          1.114401\n",
      "std           0.612836\n",
      "min           0.000000\n",
      "25%           1.000000\n",
      "50%           1.000000\n",
      "75%           2.000000\n",
      "max           2.000000\n",
      "Name: senc, dtype: float64\n",
      "\n",
      " \n",
      "\n",
      "Column: catv\n",
      "count    136021.000000\n",
      "mean         32.817205\n",
      "std          38.390817\n",
      "min           1.000000\n",
      "25%           7.000000\n",
      "50%           7.000000\n",
      "75%          36.000000\n",
      "max          99.000000\n",
      "Name: catv, dtype: float64\n",
      "\n",
      " \n",
      "\n",
      "Column: obsm\n",
      "count    136021.000000\n",
      "mean         24.930540\n",
      "std          41.530365\n",
      "min           0.000000\n",
      "25%           2.000000\n",
      "50%           2.000000\n",
      "75%           9.000000\n",
      "max          99.000000\n",
      "Name: obsm, dtype: float64\n",
      "\n",
      " \n",
      "\n",
      "Column: choc\n",
      "count    136021.000000\n",
      "mean          4.377677\n",
      "std           3.353667\n",
      "min           0.000000\n",
      "25%           1.000000\n",
      "50%           3.000000\n",
      "75%           9.000000\n",
      "max           9.000000\n",
      "Name: choc, dtype: float64\n",
      "\n",
      " \n",
      "\n",
      "Column: manv\n",
      "count    136021.000000\n",
      "mean         10.862845\n",
      "std          10.156319\n",
      "min           0.000000\n",
      "25%           1.000000\n",
      "50%           9.000000\n",
      "75%          23.000000\n",
      "max          25.000000\n",
      "Name: manv, dtype: float64\n",
      "\n",
      " \n",
      "\n",
      "Column: mortalite\n",
      "count    136021.000000\n",
      "mean          0.026467\n",
      "std           0.160519\n",
      "min           0.000000\n",
      "25%           0.000000\n",
      "50%           0.000000\n",
      "75%           0.000000\n",
      "max           1.000000\n",
      "Name: mortalite, dtype: float64\n",
      "\n",
      " \n",
      "\n"
     ]
    }
   ],
   "source": [
    "## TO DO\n",
    "\n",
    "for col_name in df.columns:\n",
    "    \n",
    "    if(col_name != \"Num_Acc\"):\n",
    "        print(\"Column: \" + col_name)\n",
    "\n",
    "        print(df[col_name].describe())\n",
    "        print(\"\\n \\n\")"
   ]
  },
  {
   "cell_type": "markdown",
   "id": "86dcddf0-1b40-404f-a2b5-68e1816bec31",
   "metadata": {},
   "source": [
    "7. Expliquer la gravité des accidents en fonction des autres variables (créer une nouvelle variable \"mortalité\" qui indique si la victime est décédée ou non suite à l'accident : tué=1 non=0)"
   ]
  },
  {
   "cell_type": "code",
   "execution_count": 209,
   "id": "0a0c4ed9-f654-4858-b583-a3ec0db0a3e1",
   "metadata": {},
   "outputs": [
    {
     "data": {
      "text/html": [
       "<div>\n",
       "<style scoped>\n",
       "    .dataframe tbody tr th:only-of-type {\n",
       "        vertical-align: middle;\n",
       "    }\n",
       "\n",
       "    .dataframe tbody tr th {\n",
       "        vertical-align: top;\n",
       "    }\n",
       "\n",
       "    .dataframe thead th {\n",
       "        text-align: right;\n",
       "    }\n",
       "</style>\n",
       "<table border=\"1\" class=\"dataframe\">\n",
       "  <thead>\n",
       "    <tr style=\"text-align: right;\">\n",
       "      <th></th>\n",
       "      <th>place</th>\n",
       "      <th>catu</th>\n",
       "      <th>grav</th>\n",
       "      <th>sexe</th>\n",
       "      <th>trajet</th>\n",
       "      <th>secu</th>\n",
       "      <th>an_nais</th>\n",
       "      <th>senc</th>\n",
       "      <th>catv</th>\n",
       "      <th>obsm</th>\n",
       "      <th>choc</th>\n",
       "      <th>manv</th>\n",
       "      <th>mortalite</th>\n",
       "    </tr>\n",
       "  </thead>\n",
       "  <tbody>\n",
       "    <tr>\n",
       "      <th>0</th>\n",
       "      <td>1.0</td>\n",
       "      <td>1</td>\n",
       "      <td>3</td>\n",
       "      <td>1</td>\n",
       "      <td>9.0</td>\n",
       "      <td>13.0</td>\n",
       "      <td>1968.0</td>\n",
       "      <td>0.0</td>\n",
       "      <td>7.0</td>\n",
       "      <td>2.0</td>\n",
       "      <td>3.0</td>\n",
       "      <td>9.0</td>\n",
       "      <td>0.0</td>\n",
       "    </tr>\n",
       "    <tr>\n",
       "      <th>1</th>\n",
       "      <td>2.0</td>\n",
       "      <td>2</td>\n",
       "      <td>3</td>\n",
       "      <td>2</td>\n",
       "      <td>9.0</td>\n",
       "      <td>11.0</td>\n",
       "      <td>1973.0</td>\n",
       "      <td>0.0</td>\n",
       "      <td>10.0</td>\n",
       "      <td>2.0</td>\n",
       "      <td>3.0</td>\n",
       "      <td>13.0</td>\n",
       "      <td>0.0</td>\n",
       "    </tr>\n",
       "    <tr>\n",
       "      <th>2</th>\n",
       "      <td>1.0</td>\n",
       "      <td>1</td>\n",
       "      <td>3</td>\n",
       "      <td>1</td>\n",
       "      <td>1.0</td>\n",
       "      <td>13.0</td>\n",
       "      <td>1967.0</td>\n",
       "      <td>0.0</td>\n",
       "      <td>7.0</td>\n",
       "      <td>0.0</td>\n",
       "      <td>1.0</td>\n",
       "      <td>16.0</td>\n",
       "      <td>0.0</td>\n",
       "    </tr>\n",
       "    <tr>\n",
       "      <th>3</th>\n",
       "      <td>1.0</td>\n",
       "      <td>1</td>\n",
       "      <td>1</td>\n",
       "      <td>1</td>\n",
       "      <td>0.0</td>\n",
       "      <td>11.0</td>\n",
       "      <td>1953.0</td>\n",
       "      <td>0.0</td>\n",
       "      <td>1.0</td>\n",
       "      <td>0.0</td>\n",
       "      <td>7.0</td>\n",
       "      <td>1.0</td>\n",
       "      <td>0.0</td>\n",
       "    </tr>\n",
       "    <tr>\n",
       "      <th>4</th>\n",
       "      <td>1.0</td>\n",
       "      <td>1</td>\n",
       "      <td>3</td>\n",
       "      <td>1</td>\n",
       "      <td>5.0</td>\n",
       "      <td>22.0</td>\n",
       "      <td>1960.0</td>\n",
       "      <td>0.0</td>\n",
       "      <td>10.0</td>\n",
       "      <td>2.0</td>\n",
       "      <td>1.0</td>\n",
       "      <td>1.0</td>\n",
       "      <td>0.0</td>\n",
       "    </tr>\n",
       "    <tr>\n",
       "      <th>...</th>\n",
       "      <td>...</td>\n",
       "      <td>...</td>\n",
       "      <td>...</td>\n",
       "      <td>...</td>\n",
       "      <td>...</td>\n",
       "      <td>...</td>\n",
       "      <td>...</td>\n",
       "      <td>...</td>\n",
       "      <td>...</td>\n",
       "      <td>...</td>\n",
       "      <td>...</td>\n",
       "      <td>...</td>\n",
       "      <td>...</td>\n",
       "    </tr>\n",
       "    <tr>\n",
       "      <th>136016</th>\n",
       "      <td>1.0</td>\n",
       "      <td>1</td>\n",
       "      <td>1</td>\n",
       "      <td>2</td>\n",
       "      <td>9.0</td>\n",
       "      <td>11.0</td>\n",
       "      <td>1974.0</td>\n",
       "      <td>1.0</td>\n",
       "      <td>99.0</td>\n",
       "      <td>99.0</td>\n",
       "      <td>9.0</td>\n",
       "      <td>25.0</td>\n",
       "      <td>0.0</td>\n",
       "    </tr>\n",
       "    <tr>\n",
       "      <th>136017</th>\n",
       "      <td>1.0</td>\n",
       "      <td>1</td>\n",
       "      <td>1</td>\n",
       "      <td>2</td>\n",
       "      <td>9.0</td>\n",
       "      <td>11.0</td>\n",
       "      <td>1987.0</td>\n",
       "      <td>1.0</td>\n",
       "      <td>99.0</td>\n",
       "      <td>99.0</td>\n",
       "      <td>9.0</td>\n",
       "      <td>25.0</td>\n",
       "      <td>0.0</td>\n",
       "    </tr>\n",
       "    <tr>\n",
       "      <th>136018</th>\n",
       "      <td>1.0</td>\n",
       "      <td>1</td>\n",
       "      <td>4</td>\n",
       "      <td>1</td>\n",
       "      <td>9.0</td>\n",
       "      <td>21.0</td>\n",
       "      <td>1991.0</td>\n",
       "      <td>1.0</td>\n",
       "      <td>99.0</td>\n",
       "      <td>99.0</td>\n",
       "      <td>9.0</td>\n",
       "      <td>25.0</td>\n",
       "      <td>0.0</td>\n",
       "    </tr>\n",
       "    <tr>\n",
       "      <th>136019</th>\n",
       "      <td>2.0</td>\n",
       "      <td>2</td>\n",
       "      <td>4</td>\n",
       "      <td>2</td>\n",
       "      <td>9.0</td>\n",
       "      <td>21.0</td>\n",
       "      <td>1990.0</td>\n",
       "      <td>1.0</td>\n",
       "      <td>99.0</td>\n",
       "      <td>99.0</td>\n",
       "      <td>9.0</td>\n",
       "      <td>25.0</td>\n",
       "      <td>0.0</td>\n",
       "    </tr>\n",
       "    <tr>\n",
       "      <th>136020</th>\n",
       "      <td>1.0</td>\n",
       "      <td>1</td>\n",
       "      <td>4</td>\n",
       "      <td>1</td>\n",
       "      <td>1.0</td>\n",
       "      <td>21.0</td>\n",
       "      <td>1992.0</td>\n",
       "      <td>1.0</td>\n",
       "      <td>99.0</td>\n",
       "      <td>99.0</td>\n",
       "      <td>9.0</td>\n",
       "      <td>25.0</td>\n",
       "      <td>0.0</td>\n",
       "    </tr>\n",
       "  </tbody>\n",
       "</table>\n",
       "<p>136021 rows × 13 columns</p>\n",
       "</div>"
      ],
      "text/plain": [
       "        place  catu  grav  sexe  trajet  secu  an_nais  senc  catv  obsm  \\\n",
       "0         1.0     1     3     1     9.0  13.0   1968.0   0.0   7.0   2.0   \n",
       "1         2.0     2     3     2     9.0  11.0   1973.0   0.0  10.0   2.0   \n",
       "2         1.0     1     3     1     1.0  13.0   1967.0   0.0   7.0   0.0   \n",
       "3         1.0     1     1     1     0.0  11.0   1953.0   0.0   1.0   0.0   \n",
       "4         1.0     1     3     1     5.0  22.0   1960.0   0.0  10.0   2.0   \n",
       "...       ...   ...   ...   ...     ...   ...      ...   ...   ...   ...   \n",
       "136016    1.0     1     1     2     9.0  11.0   1974.0   1.0  99.0  99.0   \n",
       "136017    1.0     1     1     2     9.0  11.0   1987.0   1.0  99.0  99.0   \n",
       "136018    1.0     1     4     1     9.0  21.0   1991.0   1.0  99.0  99.0   \n",
       "136019    2.0     2     4     2     9.0  21.0   1990.0   1.0  99.0  99.0   \n",
       "136020    1.0     1     4     1     1.0  21.0   1992.0   1.0  99.0  99.0   \n",
       "\n",
       "        choc  manv  mortalite  \n",
       "0        3.0   9.0        0.0  \n",
       "1        3.0  13.0        0.0  \n",
       "2        1.0  16.0        0.0  \n",
       "3        7.0   1.0        0.0  \n",
       "4        1.0   1.0        0.0  \n",
       "...      ...   ...        ...  \n",
       "136016   9.0  25.0        0.0  \n",
       "136017   9.0  25.0        0.0  \n",
       "136018   9.0  25.0        0.0  \n",
       "136019   9.0  25.0        0.0  \n",
       "136020   9.0  25.0        0.0  \n",
       "\n",
       "[136021 rows x 13 columns]"
      ]
     },
     "execution_count": 209,
     "metadata": {},
     "output_type": "execute_result"
    }
   ],
   "source": [
    "tue = df.grav == 2\n",
    "\n",
    "df['mortalite'] = np.where(tue, 1, np.where(np.logical_not(tue), 0, np.NaN))\n",
    "df"
   ]
  },
  {
   "cell_type": "code",
   "execution_count": 210,
   "id": "3d705d02-fb9d-47c0-aff7-c1bb06dc2571",
   "metadata": {},
   "outputs": [
    {
     "data": {
      "text/plain": [
       "0.0    97.35335\n",
       "1.0     2.64665\n",
       "Name: mortalite, dtype: float64"
      ]
     },
     "execution_count": 210,
     "metadata": {},
     "output_type": "execute_result"
    }
   ],
   "source": [
    "df['mortalite'].value_counts(normalize=True) * 100"
   ]
  },
  {
   "cell_type": "markdown",
   "id": "728c60f6-7342-42cb-be0d-dc63f831e2d3",
   "metadata": {},
   "source": [
    "## II - Visualisation et modélisation"
   ]
  },
  {
   "cell_type": "markdown",
   "id": "5412b25d-babe-4a56-b430-f748cf24cf49",
   "metadata": {},
   "source": [
    "1. Mettre en place les modèles de machine learning pour prédire et classifier la mortalité : Régression logistique, Decision Tree, Random Forest, etc"
   ]
  },
  {
   "cell_type": "code",
   "execution_count": 211,
   "id": "88f225aa-3c90-4ae8-8d44-5a2a8e102f9b",
   "metadata": {},
   "outputs": [
    {
     "name": "stdout",
     "output_type": "stream",
     "text": [
      "train shape (95214, 12) (95214,)\n",
      "test shape (40807, 12) (95214,)\n"
     ]
    }
   ],
   "source": [
    "y = df[\"mortalite\"]\n",
    "x = df.drop('mortalite', axis=1)\n",
    "\n",
    "x_train, x_test, y_train, y_test = train_test_split(x, y, test_size=0.3, random_state=100)\n",
    "print (\"train shape\", x_train.shape, y_train.shape)\n",
    "print (\"test shape\", x_test.shape, y_train.shape)"
   ]
  },
  {
   "cell_type": "markdown",
   "id": "cd98d2b4-e1c9-4980-beba-e63bb2b247bc",
   "metadata": {},
   "source": [
    "**Régression Logistique**"
   ]
  },
  {
   "cell_type": "code",
   "execution_count": 212,
   "id": "334f7217-7256-42be-bc3c-6f2a2edfd9a2",
   "metadata": {},
   "outputs": [
    {
     "name": "stdout",
     "output_type": "stream",
     "text": [
      "Precision \n",
      "97.36074693067366\n"
     ]
    }
   ],
   "source": [
    "modele_regLog = LogisticRegression(random_state = 0, solver = 'liblinear', multi_class = 'auto')\n",
    "modele_regLog.fit(x_train,y_train)\n",
    "precision = modele_regLog.score(x_test,y_test)\n",
    "print(\"Precision \")\n",
    "print(precision*100)\n"
   ]
  },
  {
   "cell_type": "markdown",
   "id": "b90a46d7-378a-4f30-bbff-e0936b5b90ba",
   "metadata": {},
   "source": [
    "**Decision Tree**"
   ]
  },
  {
   "cell_type": "code",
   "execution_count": 213,
   "id": "f26e72c0-4ddd-4617-b801-c80ece13ad1e",
   "metadata": {},
   "outputs": [
    {
     "name": "stdout",
     "output_type": "stream",
     "text": [
      "1.0\n"
     ]
    }
   ],
   "source": [
    "clf = DecisionTreeClassifier()\n",
    "clf.fit(x_train, y_train)\n",
    "\n",
    "predictions = clf.predict(x_test)\n",
    "print(metrics.accuracy_score(y_test, predictions))\n"
   ]
  },
  {
   "cell_type": "code",
   "execution_count": 214,
   "id": "385aa5d5-7140-48db-b13c-46c8855e321a",
   "metadata": {},
   "outputs": [
    {
     "name": "stdout",
     "output_type": "stream",
     "text": [
      "Fitting 5 folds for each of 168 candidates, totalling 840 fits\n",
      "{'criterion': 'gini', 'max_depth': None, 'max_features': None, 'splitter': 'best'}\n"
     ]
    }
   ],
   "source": [
    "from sklearn.model_selection import GridSearchCV\n",
    "\n",
    "params = {\n",
    "    'criterion':  ['gini', 'entropy'],\n",
    "    'max_depth':  [None, 2, 4, 6, 8, 10],\n",
    "    'max_features': [None, 'sqrt', 'log2', 0.2, 0.4, 0.6, 0.8],\n",
    "    'splitter': ['best', 'random']\n",
    "}\n",
    "\n",
    "clf = GridSearchCV(\n",
    "    estimator=DecisionTreeClassifier(),\n",
    "    param_grid=params,\n",
    "    cv=5,\n",
    "    n_jobs=5,\n",
    "    verbose=1,\n",
    ")\n",
    "\n",
    "clf.fit(x_train, y_train)\n",
    "print(clf.best_params_)"
   ]
  },
  {
   "cell_type": "code",
   "execution_count": 215,
   "id": "0758d2a8-78dd-476d-a783-f8e4ba56dd06",
   "metadata": {},
   "outputs": [
    {
     "name": "stdout",
     "output_type": "stream",
     "text": [
      "1.0\n"
     ]
    }
   ],
   "source": [
    "clf = DecisionTreeClassifier(criterion='gini', splitter='best')\n",
    "clf.fit(x_train, y_train)\n",
    "predictions = clf.predict(x_test)\n",
    "\n",
    "print(metrics.accuracy_score(y_test, predictions))\n"
   ]
  },
  {
   "cell_type": "markdown",
   "id": "8fa11e43-6c58-449e-9220-3ecd3771b40d",
   "metadata": {},
   "source": [
    "**Random Forest**"
   ]
  },
  {
   "cell_type": "code",
   "execution_count": 216,
   "id": "010f86e5-b960-4b47-97de-85be38444333",
   "metadata": {},
   "outputs": [
    {
     "name": "stdout",
     "output_type": "stream",
     "text": [
      "Precision: 0.974 (0.000)\n"
     ]
    }
   ],
   "source": [
    "from sklearn.ensemble import RandomForestClassifier\n",
    "\n",
    "clf = RandomForestClassifier(random_state=1, max_depth=2)\n",
    "\n",
    "# your code here\n",
    "n_scores = cross_val_score(clf, x, y, scoring='accuracy', cv=5)\n",
    "print('Precision: %.3f (%.3f)' % (np.mean(n_scores), np.std(n_scores)))"
   ]
  },
  {
   "cell_type": "markdown",
   "id": "1c9d3762-d026-4421-bca7-21ef94653fcc",
   "metadata": {},
   "source": [
    "2. Visualiser et expliquer la distribution de la variable 'mortalité' selon les différentes variables (le genre des victimes, l'Age, etc)"
   ]
  },
  {
   "cell_type": "markdown",
   "id": "831ce92a-4200-476a-b691-2556007b68fa",
   "metadata": {},
   "source": [
    "**Mortalité selon le genre des victimes**"
   ]
  },
  {
   "cell_type": "code",
   "execution_count": 217,
   "id": "a06670e4-65c5-4f93-ac2b-1714902466ca",
   "metadata": {},
   "outputs": [
    {
     "data": {
      "text/plain": [
       "<AxesSubplot:xlabel='genre', ylabel='percentage'>"
      ]
     },
     "execution_count": 217,
     "metadata": {},
     "output_type": "execute_result"
    },
    {
     "data": {
      "image/png": "[encoded data removed]",
      "text/plain": [
       "<Figure size 432x288 with 1 Axes>"
      ]
     },
     "metadata": {},
     "output_type": "display_data"
    }
   ],
   "source": [
    "pct_genre = df[df['mortalite'] == 1]['sexe'].value_counts(normalize=True) * 100\n",
    "\n",
    "sns.set_theme(style=\"whitegrid\");\n",
    "g = pd.DataFrame(columns=['percentage', 'genre'])\n",
    "g['percentage'] = pct_genre\n",
    "g['genre'][:1] = \"Men\"\n",
    "g['genre'][1:2] = \"Women\"\n",
    "sns.barplot(x=\"genre\", y=\"percentage\", data=g)"
   ]
  },
  {
   "cell_type": "markdown",
   "id": "6483c4d7-a422-4289-95d7-f987c7476067",
   "metadata": {},
   "source": [
    "**Mortalité selon l'age**"
   ]
  },
  {
   "cell_type": "code",
   "execution_count": 218,
   "id": "459ef184-a10d-4e35-8ee9-344e147e78bb",
   "metadata": {},
   "outputs": [
    {
     "name": "stdout",
     "output_type": "stream",
     "text": [
      "         an_nais\n",
      "1996.0  2.861111\n",
      "1995.0  2.750000\n",
      "1997.0  2.722222\n",
      "1992.0  2.388889\n",
      "1998.0  2.111111\n",
      "...          ...\n",
      "2010.0  0.111111\n",
      "2009.0  0.083333\n",
      "1923.0  0.055556\n",
      "1921.0  0.055556\n",
      "1920.0  0.027778\n",
      "\n",
      "[98 rows x 1 columns]\n",
      "        an_nais   percent\n",
      "1996.0   1996.0  2.861111\n",
      "1995.0   1995.0  2.750000\n",
      "1997.0   1997.0  2.722222\n",
      "1992.0   1992.0  2.388889\n",
      "1998.0   1998.0  2.111111\n"
     ]
    },
    {
     "data": {
      "text/plain": [
       "<AxesSubplot:xlabel='an_nais', ylabel='percent'>"
      ]
     },
     "execution_count": 218,
     "metadata": {},
     "output_type": "execute_result"
    },
    {
     "data": {
      "image/png": "[encoded data removed]",
      "text/plain": [
       "<Figure size 432x288 with 1 Axes>"
      ]
     },
     "metadata": {},
     "output_type": "display_data"
    }
   ],
   "source": [
    "pct_age = df_total[df['mortalite'] == 1]['an_nais'].value_counts(normalize=True) * 100\n",
    "print(pct_age.to_frame())\n",
    "\n",
    "sns.set_theme(style=\"whitegrid\");\n",
    "a = pd.DataFrame(columns=['an_nais', 'mortalite'])\n",
    "a['percent'] = pct_age\n",
    "a['an_nais'] = a.index\n",
    "a.reset_index()\n",
    "a.drop(['mortalite'], axis=1, inplace=True)\n",
    "print(a.head())\n",
    "sns.barplot(x=\"an_nais\", y=\"percent\", data=a)"
   ]
  },
  {
   "cell_type": "markdown",
   "id": "09346b6f-5304-4a7d-833a-952e35bf19b0",
   "metadata": {},
   "source": [
    "3. Normaliser les données et les appliquer aux modèles"
   ]
  },
  {
   "cell_type": "code",
   "execution_count": 219,
   "id": "5f82c9f1-13d5-4c4d-9f6b-934790203eab",
   "metadata": {},
   "outputs": [
    {
     "name": "stdout",
     "output_type": "stream",
     "text": [
      "['place', 'catu', 'grav', 'sexe', 'trajet', 'secu', 'an_nais', 'senc', 'catv', 'obsm', 'choc', 'manv', 'mortalite']\n"
     ]
    },
    {
     "data": {
      "text/html": [
       "<div>\n",
       "<style scoped>\n",
       "    .dataframe tbody tr th:only-of-type {\n",
       "        vertical-align: middle;\n",
       "    }\n",
       "\n",
       "    .dataframe tbody tr th {\n",
       "        vertical-align: top;\n",
       "    }\n",
       "\n",
       "    .dataframe thead th {\n",
       "        text-align: right;\n",
       "    }\n",
       "</style>\n",
       "<table border=\"1\" class=\"dataframe\">\n",
       "  <thead>\n",
       "    <tr style=\"text-align: right;\">\n",
       "      <th></th>\n",
       "      <th>place</th>\n",
       "      <th>catu</th>\n",
       "      <th>grav</th>\n",
       "      <th>sexe</th>\n",
       "      <th>trajet</th>\n",
       "      <th>secu</th>\n",
       "      <th>an_nais</th>\n",
       "      <th>senc</th>\n",
       "      <th>catv</th>\n",
       "      <th>obsm</th>\n",
       "      <th>choc</th>\n",
       "      <th>manv</th>\n",
       "      <th>mortalite</th>\n",
       "    </tr>\n",
       "  </thead>\n",
       "  <tbody>\n",
       "    <tr>\n",
       "      <th>0</th>\n",
       "      <td>0.000</td>\n",
       "      <td>0.000000</td>\n",
       "      <td>0.666667</td>\n",
       "      <td>0.0</td>\n",
       "      <td>1.000000</td>\n",
       "      <td>0.130435</td>\n",
       "      <td>0.524272</td>\n",
       "      <td>0.0</td>\n",
       "      <td>0.061224</td>\n",
       "      <td>0.020202</td>\n",
       "      <td>0.333333</td>\n",
       "      <td>0.36</td>\n",
       "      <td>0.0</td>\n",
       "    </tr>\n",
       "    <tr>\n",
       "      <th>1</th>\n",
       "      <td>0.125</td>\n",
       "      <td>0.333333</td>\n",
       "      <td>0.666667</td>\n",
       "      <td>1.0</td>\n",
       "      <td>1.000000</td>\n",
       "      <td>0.108696</td>\n",
       "      <td>0.572816</td>\n",
       "      <td>0.0</td>\n",
       "      <td>0.091837</td>\n",
       "      <td>0.020202</td>\n",
       "      <td>0.333333</td>\n",
       "      <td>0.52</td>\n",
       "      <td>0.0</td>\n",
       "    </tr>\n",
       "    <tr>\n",
       "      <th>2</th>\n",
       "      <td>0.000</td>\n",
       "      <td>0.000000</td>\n",
       "      <td>0.666667</td>\n",
       "      <td>0.0</td>\n",
       "      <td>0.111111</td>\n",
       "      <td>0.130435</td>\n",
       "      <td>0.514563</td>\n",
       "      <td>0.0</td>\n",
       "      <td>0.061224</td>\n",
       "      <td>0.000000</td>\n",
       "      <td>0.111111</td>\n",
       "      <td>0.64</td>\n",
       "      <td>0.0</td>\n",
       "    </tr>\n",
       "    <tr>\n",
       "      <th>3</th>\n",
       "      <td>0.000</td>\n",
       "      <td>0.000000</td>\n",
       "      <td>0.000000</td>\n",
       "      <td>0.0</td>\n",
       "      <td>0.000000</td>\n",
       "      <td>0.108696</td>\n",
       "      <td>0.378641</td>\n",
       "      <td>0.0</td>\n",
       "      <td>0.000000</td>\n",
       "      <td>0.000000</td>\n",
       "      <td>0.777778</td>\n",
       "      <td>0.04</td>\n",
       "      <td>0.0</td>\n",
       "    </tr>\n",
       "    <tr>\n",
       "      <th>4</th>\n",
       "      <td>0.000</td>\n",
       "      <td>0.000000</td>\n",
       "      <td>0.666667</td>\n",
       "      <td>0.0</td>\n",
       "      <td>0.555556</td>\n",
       "      <td>0.228261</td>\n",
       "      <td>0.446602</td>\n",
       "      <td>0.0</td>\n",
       "      <td>0.091837</td>\n",
       "      <td>0.020202</td>\n",
       "      <td>0.111111</td>\n",
       "      <td>0.04</td>\n",
       "      <td>0.0</td>\n",
       "    </tr>\n",
       "    <tr>\n",
       "      <th>...</th>\n",
       "      <td>...</td>\n",
       "      <td>...</td>\n",
       "      <td>...</td>\n",
       "      <td>...</td>\n",
       "      <td>...</td>\n",
       "      <td>...</td>\n",
       "      <td>...</td>\n",
       "      <td>...</td>\n",
       "      <td>...</td>\n",
       "      <td>...</td>\n",
       "      <td>...</td>\n",
       "      <td>...</td>\n",
       "      <td>...</td>\n",
       "    </tr>\n",
       "    <tr>\n",
       "      <th>136016</th>\n",
       "      <td>0.000</td>\n",
       "      <td>0.000000</td>\n",
       "      <td>0.000000</td>\n",
       "      <td>1.0</td>\n",
       "      <td>1.000000</td>\n",
       "      <td>0.108696</td>\n",
       "      <td>0.582524</td>\n",
       "      <td>0.5</td>\n",
       "      <td>1.000000</td>\n",
       "      <td>1.000000</td>\n",
       "      <td>1.000000</td>\n",
       "      <td>1.00</td>\n",
       "      <td>0.0</td>\n",
       "    </tr>\n",
       "    <tr>\n",
       "      <th>136017</th>\n",
       "      <td>0.000</td>\n",
       "      <td>0.000000</td>\n",
       "      <td>0.000000</td>\n",
       "      <td>1.0</td>\n",
       "      <td>1.000000</td>\n",
       "      <td>0.108696</td>\n",
       "      <td>0.708738</td>\n",
       "      <td>0.5</td>\n",
       "      <td>1.000000</td>\n",
       "      <td>1.000000</td>\n",
       "      <td>1.000000</td>\n",
       "      <td>1.00</td>\n",
       "      <td>0.0</td>\n",
       "    </tr>\n",
       "    <tr>\n",
       "      <th>136018</th>\n",
       "      <td>0.000</td>\n",
       "      <td>0.000000</td>\n",
       "      <td>1.000000</td>\n",
       "      <td>0.0</td>\n",
       "      <td>1.000000</td>\n",
       "      <td>0.217391</td>\n",
       "      <td>0.747573</td>\n",
       "      <td>0.5</td>\n",
       "      <td>1.000000</td>\n",
       "      <td>1.000000</td>\n",
       "      <td>1.000000</td>\n",
       "      <td>1.00</td>\n",
       "      <td>0.0</td>\n",
       "    </tr>\n",
       "    <tr>\n",
       "      <th>136019</th>\n",
       "      <td>0.125</td>\n",
       "      <td>0.333333</td>\n",
       "      <td>1.000000</td>\n",
       "      <td>1.0</td>\n",
       "      <td>1.000000</td>\n",
       "      <td>0.217391</td>\n",
       "      <td>0.737864</td>\n",
       "      <td>0.5</td>\n",
       "      <td>1.000000</td>\n",
       "      <td>1.000000</td>\n",
       "      <td>1.000000</td>\n",
       "      <td>1.00</td>\n",
       "      <td>0.0</td>\n",
       "    </tr>\n",
       "    <tr>\n",
       "      <th>136020</th>\n",
       "      <td>0.000</td>\n",
       "      <td>0.000000</td>\n",
       "      <td>1.000000</td>\n",
       "      <td>0.0</td>\n",
       "      <td>0.111111</td>\n",
       "      <td>0.217391</td>\n",
       "      <td>0.757282</td>\n",
       "      <td>0.5</td>\n",
       "      <td>1.000000</td>\n",
       "      <td>1.000000</td>\n",
       "      <td>1.000000</td>\n",
       "      <td>1.00</td>\n",
       "      <td>0.0</td>\n",
       "    </tr>\n",
       "  </tbody>\n",
       "</table>\n",
       "<p>136021 rows × 13 columns</p>\n",
       "</div>"
      ],
      "text/plain": [
       "        place      catu      grav  sexe    trajet      secu   an_nais  senc  \\\n",
       "0       0.000  0.000000  0.666667   0.0  1.000000  0.130435  0.524272   0.0   \n",
       "1       0.125  0.333333  0.666667   1.0  1.000000  0.108696  0.572816   0.0   \n",
       "2       0.000  0.000000  0.666667   0.0  0.111111  0.130435  0.514563   0.0   \n",
       "3       0.000  0.000000  0.000000   0.0  0.000000  0.108696  0.378641   0.0   \n",
       "4       0.000  0.000000  0.666667   0.0  0.555556  0.228261  0.446602   0.0   \n",
       "...       ...       ...       ...   ...       ...       ...       ...   ...   \n",
       "136016  0.000  0.000000  0.000000   1.0  1.000000  0.108696  0.582524   0.5   \n",
       "136017  0.000  0.000000  0.000000   1.0  1.000000  0.108696  0.708738   0.5   \n",
       "136018  0.000  0.000000  1.000000   0.0  1.000000  0.217391  0.747573   0.5   \n",
       "136019  0.125  0.333333  1.000000   1.0  1.000000  0.217391  0.737864   0.5   \n",
       "136020  0.000  0.000000  1.000000   0.0  0.111111  0.217391  0.757282   0.5   \n",
       "\n",
       "            catv      obsm      choc  manv  mortalite  \n",
       "0       0.061224  0.020202  0.333333  0.36        0.0  \n",
       "1       0.091837  0.020202  0.333333  0.52        0.0  \n",
       "2       0.061224  0.000000  0.111111  0.64        0.0  \n",
       "3       0.000000  0.000000  0.777778  0.04        0.0  \n",
       "4       0.091837  0.020202  0.111111  0.04        0.0  \n",
       "...          ...       ...       ...   ...        ...  \n",
       "136016  1.000000  1.000000  1.000000  1.00        0.0  \n",
       "136017  1.000000  1.000000  1.000000  1.00        0.0  \n",
       "136018  1.000000  1.000000  1.000000  1.00        0.0  \n",
       "136019  1.000000  1.000000  1.000000  1.00        0.0  \n",
       "136020  1.000000  1.000000  1.000000  1.00        0.0  \n",
       "\n",
       "[136021 rows x 13 columns]"
      ]
     },
     "execution_count": 219,
     "metadata": {},
     "output_type": "execute_result"
    }
   ],
   "source": [
    "min_max_scaler = preprocessing.MinMaxScaler()\n",
    "x_scaled = min_max_scaler.fit_transform(df)\n",
    "df_normalized = pd.DataFrame(x_scaled)\n",
    "print(df.columns.tolist())\n",
    "df_normalized.columns = df.columns.tolist()\n",
    "df_normalized\n"
   ]
  },
  {
   "cell_type": "markdown",
   "id": "3c5cf0ee-4a1d-42c2-82c6-82d9c0e3ac16",
   "metadata": {},
   "source": [
    "**Application des modèles sur les donéées normalisés**"
   ]
  },
  {
   "cell_type": "code",
   "execution_count": 220,
   "id": "27fe7536-5214-4ecc-8130-03c811aece2a",
   "metadata": {},
   "outputs": [
    {
     "name": "stdout",
     "output_type": "stream",
     "text": [
      "train shape (95214, 12) (95214,)\n",
      "test shape (40807, 12) (95214,)\n"
     ]
    }
   ],
   "source": [
    "y = df_normalized[\"mortalite\"]\n",
    "x = df_normalized.drop('mortalite', axis=1)\n",
    "\n",
    "x_train, x_test, y_train, y_test = train_test_split(x, y, test_size=0.3, random_state=100)\n",
    "print (\"train shape\", x_train.shape, y_train.shape)\n",
    "print (\"test shape\", x_test.shape, y_train.shape)"
   ]
  },
  {
   "cell_type": "markdown",
   "id": "fa778805-c879-474f-9337-7654ab570107",
   "metadata": {},
   "source": [
    "**Régression Logistique**"
   ]
  },
  {
   "cell_type": "code",
   "execution_count": 221,
   "id": "61783e99-cdaf-4748-a200-8f2436f6109e",
   "metadata": {},
   "outputs": [
    {
     "name": "stdout",
     "output_type": "stream",
     "text": [
      "Precision \n",
      "0.9736074693067366\n"
     ]
    }
   ],
   "source": [
    "modele_regLog = LogisticRegression(random_state = 0, solver = 'liblinear', multi_class = 'auto')\n",
    "modele_regLog.fit(x_train,y_train)\n",
    "y_pred = modele_regLog.predict(x_test)\n",
    "precision = modele_regLog.score(x_test,y_test)\n",
    "print(\"Precision \")\n",
    "print(precision)"
   ]
  },
  {
   "cell_type": "code",
   "execution_count": 222,
   "id": "e34520ee-b74a-4730-aaf9-2730b1512fb7",
   "metadata": {},
   "outputs": [
    {
     "data": {
      "image/png": "[encoded data removed]",
      "text/plain": [
       "<Figure size 432x288 with 2 Axes>"
      ]
     },
     "metadata": {},
     "output_type": "display_data"
    }
   ],
   "source": [
    "confusion_matrix = pd.crosstab(y_test, y_pred, rownames=['Actual'], colnames=['Predicted'])\n",
    "\n",
    "sns.heatmap(confusion_matrix, annot=True)\n",
    "plt.show()"
   ]
  },
  {
   "cell_type": "code",
   "execution_count": 223,
   "id": "c300bb59-a972-43c4-a4f9-5b56e2add5ea",
   "metadata": {},
   "outputs": [
    {
     "name": "stdout",
     "output_type": "stream",
     "text": [
      "0.02639253069326341\n",
      "0.02639253069326341\n"
     ]
    }
   ],
   "source": [
    "mae = metrics.mean_absolute_error(y_test, y_pred)\n",
    "print(mae)\n",
    "mse = np.square(np.subtract(y_test,y_pred)).mean()\n",
    "print(mse)"
   ]
  },
  {
   "cell_type": "markdown",
   "id": "0a192727-4787-4938-8f18-ae2014f573b9",
   "metadata": {},
   "source": [
    "**Decision Tree**"
   ]
  },
  {
   "cell_type": "code",
   "execution_count": 224,
   "id": "2113b4c7-464b-4249-b405-c271d9a44f00",
   "metadata": {},
   "outputs": [
    {
     "name": "stdout",
     "output_type": "stream",
     "text": [
      "Fitting 5 folds for each of 168 candidates, totalling 840 fits\n",
      "{'criterion': 'gini', 'max_depth': None, 'max_features': None, 'splitter': 'best'}\n"
     ]
    }
   ],
   "source": [
    "from sklearn.model_selection import GridSearchCV\n",
    "\n",
    "params = {\n",
    "    'criterion':  ['gini', 'entropy'],\n",
    "    'max_depth':  [None, 2, 4, 6, 8, 10],\n",
    "    'max_features': [None, 'sqrt', 'log2', 0.2, 0.4, 0.6, 0.8],\n",
    "    'splitter': ['best', 'random']\n",
    "}\n",
    "\n",
    "clf = GridSearchCV(\n",
    "    estimator=DecisionTreeClassifier(),\n",
    "    param_grid=params,\n",
    "    cv=5,\n",
    "    n_jobs=5,\n",
    "    verbose=1,\n",
    ")\n",
    "\n",
    "clf.fit(x_train, y_train)\n",
    "print(clf.best_params_)"
   ]
  },
  {
   "cell_type": "code",
   "execution_count": 225,
   "id": "77e037fb-abfb-48af-84e5-970e8632cdac",
   "metadata": {},
   "outputs": [
    {
     "name": "stdout",
     "output_type": "stream",
     "text": [
      "1.0\n"
     ]
    }
   ],
   "source": [
    "clf = DecisionTreeClassifier(criterion='gini', splitter='best')\n",
    "clf.fit(x_train, y_train)\n",
    "predictions = clf.predict(x_test)\n",
    "print(metrics.accuracy_score(y_test, predictions))"
   ]
  },
  {
   "cell_type": "code",
   "execution_count": 226,
   "id": "0ff44a3d-6c64-4f12-9cb1-c068750f7165",
   "metadata": {},
   "outputs": [
    {
     "data": {
      "image/png": "[encoded data removed]",
      "text/plain": [
       "<Figure size 432x288 with 2 Axes>"
      ]
     },
     "metadata": {},
     "output_type": "display_data"
    },
    {
     "name": "stdout",
     "output_type": "stream",
     "text": [
      "0.0\n",
      "0.0\n"
     ]
    }
   ],
   "source": [
    "confusion_matrix = pd.crosstab(y_test, predictions, rownames=['Actual'], colnames=['Predicted'])\n",
    "\n",
    "sns.heatmap(confusion_matrix, annot=True)\n",
    "plt.show()\n",
    "\n",
    "mae = metrics.mean_absolute_error(y_test, predictions)\n",
    "print(mae)\n",
    "mse = metrics.mean_squared_error(y_test, predictions)\n",
    "print(mse)\n"
   ]
  },
  {
   "cell_type": "markdown",
   "id": "ae4475c0-458b-4f1b-9637-12f7f9e23d93",
   "metadata": {},
   "source": [
    "**Random Forest**"
   ]
  },
  {
   "cell_type": "code",
   "execution_count": 232,
   "id": "af442519-2bd9-470c-94fa-387073f0c930",
   "metadata": {},
   "outputs": [
    {
     "name": "stdout",
     "output_type": "stream",
     "text": [
      "Precision: 0.974 (0.000)\n"
     ]
    }
   ],
   "source": [
    "from sklearn.ensemble import RandomForestClassifier\n",
    "\n",
    "clf = RandomForestClassifier(random_state=1, max_depth=2)\n",
    "clf.fit(x_train,y_train)\n",
    "n_scores = cross_val_score(clf, x, y, scoring='accuracy', cv=5)\n",
    "print('Precision: %.3f (%.3f)' % (np.mean(n_scores), np.std(n_scores)))"
   ]
  },
  {
   "cell_type": "code",
   "execution_count": 233,
   "id": "cefddd2d-d957-48e5-b5ea-36003f906341",
   "metadata": {},
   "outputs": [
    {
     "data": {
      "image/png": "[encoded data removed]",
      "text/plain": [
       "<Figure size 432x288 with 2 Axes>"
      ]
     },
     "metadata": {},
     "output_type": "display_data"
    },
    {
     "name": "stdout",
     "output_type": "stream",
     "text": [
      "0.02639253069326341\n",
      "0.02639253069326341\n"
     ]
    }
   ],
   "source": [
    "y_pred = clf.predict(x_test)\n",
    "confusion_matrix = pd.crosstab(y_test, y_pred, rownames=['Actual'], colnames=['Predicted'])\n",
    "\n",
    "sns.heatmap(confusion_matrix, annot=True)\n",
    "plt.show()\n",
    "\n",
    "mae = metrics.mean_absolute_error(y_test, y_pred)\n",
    "print(mae)\n",
    "mse = metrics.mean_squared_error(y_test, y_pred)\n",
    "print(mse)"
   ]
  },
  {
   "cell_type": "markdown",
   "id": "28bb6620-7c05-428a-9591-ff097c5fdb01",
   "metadata": {},
   "source": [
    "4. Analyser, visualiser et expliquer le niveau de corrélation entre les variables"
   ]
  },
  {
   "cell_type": "code",
   "execution_count": 234,
   "id": "c3944275-1713-4f74-a579-ffc54e1455df",
   "metadata": {},
   "outputs": [
    {
     "name": "stdout",
     "output_type": "stream",
     "text": [
      "mortalite    1.000000\n",
      "secu         0.037220\n",
      "catu         0.023449\n",
      "trajet       0.020204\n",
      "senc         0.001282\n",
      "place       -0.005195\n",
      "sexe        -0.035637\n",
      "choc        -0.045022\n",
      "manv        -0.049638\n",
      "grav        -0.061069\n",
      "obsm        -0.061198\n",
      "catv        -0.061970\n",
      "an_nais     -0.064513\n",
      "Name: mortalite, dtype: float64\n"
     ]
    }
   ],
   "source": [
    "print(df_normalized.corr(method ='pearson')['mortalite'].sort_values(ascending=False))"
   ]
  },
  {
   "cell_type": "markdown",
   "id": "dd3fa450-0c1f-46c4-8517-7e5c9a5cfc9f",
   "metadata": {},
   "source": [
    "5. Analyser à la base du temps : Nombre d'accidents en années, Nombre d'accidents en mois, etc"
   ]
  },
  {
   "cell_type": "code",
   "execution_count": 235,
   "id": "caef3999-c324-41d8-a91e-f1baa176c98c",
   "metadata": {},
   "outputs": [
    {
     "data": {
      "text/plain": [
       "<AxesSubplot:xlabel='mois', ylabel='percent'>"
      ]
     },
     "execution_count": 235,
     "metadata": {},
     "output_type": "execute_result"
    },
    {
     "data": {
      "image/png": "[encoded data removed]",
      "text/plain": [
       "<Figure size 432x288 with 1 Axes>"
      ]
     },
     "metadata": {},
     "output_type": "display_data"
    }
   ],
   "source": [
    "pct_mois = df_total['mois'].value_counts(normalize=True) * 100\n",
    "mort = df_total['grav']\n",
    "\n",
    "sns.set_theme(style=\"whitegrid\");\n",
    "d_mois = pd.DataFrame(columns=['mois', 'pct','grav'])\n",
    "d_mois['percent'] = pct_mois\n",
    "d_mois['mois'] = d_mois.index\n",
    "d_mois['grav'] = mort\n",
    "d_mois.reset_index()\n",
    "d_mois.drop(['pct'], axis=1, inplace=True)\n",
    "sns.barplot(x=\"mois\", y=\"percent\", hue=\"grav\", data=d_mois)\n"
   ]
  },
  {
   "cell_type": "markdown",
   "id": "a2cb4ea1-759f-4498-81ad-60dd8143870d",
   "metadata": {},
   "source": [
    "6. Trouver l’heure de la journée la plus dangereuse"
   ]
  },
  {
   "cell_type": "code",
   "execution_count": 236,
   "id": "1d38d536-d156-4a66-8407-a7c86a6649d1",
   "metadata": {},
   "outputs": [
    {
     "data": {
      "text/plain": [
       "<AxesSubplot:xlabel='hrmn', ylabel='percent'>"
      ]
     },
     "execution_count": 236,
     "metadata": {},
     "output_type": "execute_result"
    },
    {
     "data": {
      "image/png": "[encoded data removed]",
      "text/plain": [
       "<Figure size 432x288 with 1 Axes>"
      ]
     },
     "metadata": {},
     "output_type": "display_data"
    }
   ],
   "source": [
    "pct_heure = df_total['hrmn'].value_counts(normalize=True) * 100\n",
    "mort = df_total['grav']\n",
    "\n",
    "sns.set_theme(style=\"whitegrid\");\n",
    "d_heure = pd.DataFrame(columns=['heure', 'pct','grav'])\n",
    "d_heure['percent'] = pct_heure\n",
    "d_heure['hrmn'] = d_heure.index\n",
    "d_heure['grav'] = mort\n",
    "d_heure.reset_index()\n",
    "d_heure.drop(['pct'], axis=1, inplace=True)\n",
    "sns.scatterplot(x=\"hrmn\", y=\"percent\", hue=\"grav\", data=d_heure)\n"
   ]
  }
 ],
 "metadata": {
  "kernelspec": {
   "display_name": "Python 3 (ipykernel)",
   "language": "python",
   "name": "python3"
  },
  "language_info": {
   "codemirror_mode": {
    "name": "ipython",
    "version": 3
   },
   "file_extension": ".py",
   "mimetype": "text/x-python",
   "name": "python",
   "nbconvert_exporter": "python",
   "pygments_lexer": "ipython3",
   "version": "3.9.7"
  }
 },
 "nbformat": 4,
 "nbformat_minor": 5
}
