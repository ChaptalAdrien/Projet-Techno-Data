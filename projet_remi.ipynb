{
 "cells": [
  {
   "cell_type": "markdown",
   "id": "b5ba2fcd-81b4-4f77-9ea4-4bd0ca876071",
   "metadata": {
    "tags": []
   },
   "source": [
    "# PROJET TECHNO DATA"
   ]
  },
  {
   "cell_type": "markdown",
   "id": "50e80422-4a5f-4d2b-a97b-f91893443d1b",
   "metadata": {},
   "source": [
    "## Auteurs\n",
    "\n",
    "Rémi Mokrane\n",
    "\n",
    "Aymen Zamoum"
   ]
  },
  {
   "cell_type": "markdown",
   "id": "c01692ea-3219-461b-b2bb-0d15f79a849e",
   "metadata": {},
   "source": [
    "## Declaration librairies"
   ]
  },
  {
   "cell_type": "code",
   "execution_count": 201,
   "id": "721681a4-39e1-426d-97ad-8013313fed50",
   "metadata": {},
   "outputs": [],
   "source": [
    "# imports\n",
    "import numpy as np\n",
    "import pandas as pd\n",
    "import matplotlib.pyplot as plt\n",
    "# show plots in the notebook\n",
    "%matplotlib inline\n",
    "import glob"
   ]
  },
  {
   "cell_type": "markdown",
   "id": "5df9451d-a89a-4da3-ae4a-bfcbbb276498",
   "metadata": {
    "tags": []
   },
   "source": [
    "## I - Analyse et Preparation des données"
   ]
  },
  {
   "cell_type": "markdown",
   "id": "0c70db99-3e20-4a50-9049-147ef9a2cf3a",
   "metadata": {
    "tags": []
   },
   "source": [
    "1. Etudier les données en affichants les informations correspondantes (colonnes, indice, etc) :"
   ]
  },
  {
   "cell_type": "code",
   "execution_count": 202,
   "id": "48c787e3-fbce-4495-84bd-0e3e4597e91d",
   "metadata": {},
   "outputs": [
    {
     "name": "stdout",
     "output_type": "stream",
     "text": [
      "['./bdd/caracteristiques-2017.csv']\n"
     ]
    },
    {
     "data": {
      "text/plain": [
       "(60701, 16)"
      ]
     },
     "execution_count": 202,
     "metadata": {},
     "output_type": "execute_result"
    }
   ],
   "source": [
    "## TO DO\n",
    "filenames = glob.glob('./bdd/caracteristiques-2017.csv')\n",
    "print(filenames)\n",
    "list_of_dfs = [pd.read_csv(filename, encoding=\"latin1\") for filename in filenames]\n",
    "df_caracteristiques = pd.concat(list_of_dfs, ignore_index=True)\n",
    "df_caracteristiques.shape"
   ]
  },
  {
   "cell_type": "code",
   "execution_count": 203,
   "id": "43c78c27-1e42-4f65-8460-bc1c757e0bd3",
   "metadata": {},
   "outputs": [
    {
     "name": "stdout",
     "output_type": "stream",
     "text": [
      "['./bdd/lieux-2017.csv']\n"
     ]
    },
    {
     "name": "stderr",
     "output_type": "stream",
     "text": [
      "C:\\Users\\mimip\\AppData\\Local\\Temp/ipykernel_17796/1916315995.py:3: DtypeWarning: Columns (2) have mixed types.Specify dtype option on import or set low_memory=False.\n",
      "  list_of_dfs = [pd.read_csv(filename, encoding=\"latin1\") for filename in filenames]\n"
     ]
    },
    {
     "data": {
      "text/plain": [
       "(60701, 18)"
      ]
     },
     "execution_count": 203,
     "metadata": {},
     "output_type": "execute_result"
    }
   ],
   "source": [
    "filenames = glob.glob('./bdd/lieux-2017.csv')\n",
    "print(filenames)\n",
    "list_of_dfs = [pd.read_csv(filename, encoding=\"latin1\") for filename in filenames]\n",
    "df_lieux = pd.concat(list_of_dfs, ignore_index=True)\n",
    "df_lieux.shape"
   ]
  },
  {
   "cell_type": "code",
   "execution_count": 204,
   "id": "aedcd54b-7d29-4869-825c-8b9c1f067cda",
   "metadata": {},
   "outputs": [
    {
     "name": "stdout",
     "output_type": "stream",
     "text": [
      "['./bdd/usagers-2017.csv']\n"
     ]
    },
    {
     "data": {
      "text/plain": [
       "(136021, 12)"
      ]
     },
     "execution_count": 204,
     "metadata": {},
     "output_type": "execute_result"
    }
   ],
   "source": [
    "filenames = glob.glob('./bdd/usagers-2017.csv')\n",
    "print(filenames)\n",
    "list_of_dfs = [pd.read_csv(filename, encoding=\"latin1\") for filename in filenames]\n",
    "df_usagers = pd.concat(list_of_dfs, ignore_index=True)\n",
    "df_usagers.shape"
   ]
  },
  {
   "cell_type": "code",
   "execution_count": 205,
   "id": "386154de-c509-4e40-96fa-5e6810f3997c",
   "metadata": {},
   "outputs": [
    {
     "name": "stdout",
     "output_type": "stream",
     "text": [
      "['./bdd/vehicules-2017.csv']\n"
     ]
    },
    {
     "data": {
      "text/plain": [
       "(103546, 9)"
      ]
     },
     "execution_count": 205,
     "metadata": {},
     "output_type": "execute_result"
    }
   ],
   "source": [
    "filenames = glob.glob('./bdd/vehicules-2017.csv')\n",
    "print(filenames)\n",
    "list_of_dfs = [pd.read_csv(filename, encoding=\"latin1\") for filename in filenames]\n",
    "df_vehicules = pd.concat(list_of_dfs)\n",
    "df_vehicules.shape"
   ]
  },
  {
   "cell_type": "markdown",
   "id": "7fe73fdd-90a5-4efd-9388-b45d867d8724",
   "metadata": {},
   "source": [
    "2. Fusionner les fichiers de donnés "
   ]
  },
  {
   "cell_type": "code",
   "execution_count": 206,
   "id": "56382c46-c813-417e-9ee4-b5cd73accc88",
   "metadata": {},
   "outputs": [
    {
     "name": "stdout",
     "output_type": "stream",
     "text": [
      "(136021, 55)\n"
     ]
    }
   ],
   "source": [
    "frames = [df_caracteristiques, df_lieux, df_usagers, df_vehicules]\n",
    "accident_df = pd.concat(frames, axis=1)\n",
    "print(accident_df.shape)\n",
    "\n"
   ]
  },
  {
   "cell_type": "markdown",
   "id": "d0a01f98-fd97-40e6-b4ed-93419ad199cc",
   "metadata": {},
   "source": [
    "3. Nettoyer la base de données\n",
    "\n",
    "Ex : Identifier le pourcentage de valeurs NaN dans la base et éliminez les colonnes où la majorité\n",
    "des valeurs sont NaN."
   ]
  },
  {
   "cell_type": "code",
   "execution_count": 207,
   "id": "b0e1e355-273b-4c6e-b87c-44f8d8bc2df4",
   "metadata": {},
   "outputs": [
    {
     "name": "stdout",
     "output_type": "stream",
     "text": [
      "(136021, 21)\n"
     ]
    }
   ],
   "source": [
    "perc = 50.0 # Like N %\n",
    "min_count =  int(((100-perc)/100)*accident_df.shape[0] + 1)\n",
    "accident_df = accident_df.dropna( axis=1, \n",
    "                thresh=min_count)\n",
    "print(accident_df.shape)"
   ]
  },
  {
   "cell_type": "markdown",
   "id": "5c4157e8-543f-4428-8803-7bd30cfa2fa1",
   "metadata": {},
   "source": [
    "4. Supprimer les variables dont la majorité des observations sont manquantes"
   ]
  },
  {
   "cell_type": "code",
   "execution_count": 208,
   "id": "2dcb3008-d789-4edd-8583-b08538003001",
   "metadata": {},
   "outputs": [
    {
     "name": "stdout",
     "output_type": "stream",
     "text": [
      "Can't process Series...\n",
      "Removing column  locp\n",
      "Removing column  actp\n",
      "Removing column  etatp\n",
      "Can't process Series...\n",
      "Can't process Series...\n",
      "Removing column  occutc\n",
      "Removing column  obs\n",
      "Can't process Series...\n"
     ]
    }
   ],
   "source": [
    "# Count number of zeros in all columns of Dataframe\n",
    "for column_name in accident_df.columns:\n",
    "    shape=accident_df.shape[0]\n",
    "    column = accident_df[column_name]\n",
    "    # Get the count of Zeros in column \n",
    "    count = (column == 0).sum()\n",
    "    pct=count/accident_df.shape[0]\n",
    "    if(isinstance(pct, pd.Series)):\n",
    "        print(\"Can't process Series...\")\n",
    "    elif(pct > 0.5):\n",
    "        accident_df.drop([column_name], axis=1, inplace=True)\n",
    "        print(\"Removing column \", column_name)"
   ]
  },
  {
   "cell_type": "markdown",
   "id": "a08aebc4-ccf4-45ad-8100-a5d3570b0f0e",
   "metadata": {},
   "source": [
    "5. Remplir les valeurs NaN par différentes méthodes"
   ]
  },
  {
   "cell_type": "code",
   "execution_count": 209,
   "id": "a7298fcc-a803-4d81-89f2-909b42520370",
   "metadata": {
    "scrolled": true
   },
   "outputs": [
    {
     "name": "stdout",
     "output_type": "stream",
     "text": [
      "Num_Acc        0\n",
      "place      11802\n",
      "catu           0\n",
      "grav           0\n",
      "sexe           0\n",
      "trajet        11\n",
      "secu        8950\n",
      "an_nais       37\n",
      "num_veh        0\n",
      "Num_Acc    32475\n",
      "senc       32543\n",
      "catv       32475\n",
      "obsm       32517\n",
      "choc       32510\n",
      "manv       32505\n",
      "num_veh    32475\n",
      "dtype: int64\n",
      "248300\n",
      "0\n",
      "Num_Acc    0\n",
      "place      0\n",
      "catu       0\n",
      "grav       0\n",
      "sexe       0\n",
      "trajet     0\n",
      "secu       0\n",
      "an_nais    0\n",
      "num_veh    0\n",
      "Num_Acc    0\n",
      "senc       0\n",
      "catv       0\n",
      "obsm       0\n",
      "choc       0\n",
      "manv       0\n",
      "num_veh    0\n",
      "dtype: int64\n"
     ]
    }
   ],
   "source": [
    "def fill_nas_by_type(df, col_name):\n",
    "    \"\"\"Fill null values in df according to col_name type\n",
    "    \n",
    "    Parameters\n",
    "    ----------\n",
    "    df : dataframe, (default=None)\n",
    "        input dataframe\n",
    "    col_name : str, (default=None)\n",
    "        column with null values to fill\n",
    "        \n",
    "    Returns\n",
    "    -------\n",
    "    df with filled values in col_name\n",
    "    \"\"\"\n",
    "    if (col_name == \"trajet\"):\n",
    "        df[col_name] = df[col_name].fillna(value=9)\n",
    "    elif (col_name == \"place\"):\n",
    "        df[col_name] = df[col_name].fillna(df[col_name].value_counts()[:1].index.tolist()[0])\n",
    "    elif (col_name == \"an_nais\"):\n",
    "        df[col_name] = df[col_name].fillna(float(df[col_name].median()))\n",
    "    elif (col_name == \"catv\"):\n",
    "        df[col_name] = df[col_name].fillna(value=99)\n",
    "    elif (col_name == \"obsm\"):\n",
    "        df[col_name] = df[col_name].fillna(value=99)\n",
    "    elif (col_name == \"choc\"):\n",
    "        df[col_name] = df[col_name].fillna(value=9)\n",
    "    elif (col_name == \"manv\"):\n",
    "        df[col_name] = df[col_name].fillna(value=25)\n",
    "    elif (col_name == \"senc\"):\n",
    "        df[col_name] = df[col_name].fillna(df[col_name].value_counts()[:1].index.tolist()[0])\n",
    "    elif (col_name == \"num_veh\"):\n",
    "        df[col_name] = df[col_name].iloc[:, 0].fillna(pd.Series(np.random.choice(['A01', 'B01', 'C01'], p=[0.52, 0.30, 0.18], size=len(df))))\n",
    "        df[col_name] = df[col_name].iloc[:, 1].fillna(pd.Series(np.random.choice(['A01', 'B01', 'C01'], p=[0.52, 0.30, 0.18], size=len(df))))\n",
    "    elif (col_name == \"Num_Acc\"):\n",
    "        df[col_name] = df[col_name].fillna(method='ffill')\n",
    "    elif (col_name == \"secu\"):\n",
    "        df[col_name] = df[col_name].fillna(df[col_name].value_counts()[:1].index.tolist()[0])\n",
    "    return df\n",
    "\n",
    "cols_to_fill = list(accident_df.columns)\n",
    "\n",
    "print(accident_df.isnull().sum(axis = 0))\n",
    "\n",
    "print(accident_df.isnull().sum().sum())\n",
    "for x in cols_to_fill:\n",
    "    accident_df = fill_nas_by_type(accident_df, x)\n",
    "print(accident_df.isnull().sum().sum())\n",
    "print(accident_df.isnull().sum(axis = 0))"
   ]
  },
  {
   "cell_type": "markdown",
   "id": "d60f6098-892c-427d-bbab-47eb8cc14f91",
   "metadata": {},
   "source": [
    "6. Analyser les données par les statistiques (min, max, médiane)"
   ]
  },
  {
   "cell_type": "code",
   "execution_count": null,
   "id": "1f269676-c715-4fe3-9f7b-3caa66a60860",
   "metadata": {},
   "outputs": [],
   "source": [
    "## TO DO\n"
   ]
  },
  {
   "cell_type": "markdown",
   "id": "86dcddf0-1b40-404f-a2b5-68e1816bec31",
   "metadata": {},
   "source": [
    "7. Expliquer la gravité des accidents en fonction des autres variables (créer une nouvelle variable \"mortalité\" qui indique si la victime est décédée ou non suite à l'accident : tué=1 non=0)"
   ]
  },
  {
   "cell_type": "code",
   "execution_count": null,
   "id": "0a0c4ed9-f654-4858-b583-a3ec0db0a3e1",
   "metadata": {},
   "outputs": [],
   "source": [
    "## TO DO "
   ]
  },
  {
   "cell_type": "markdown",
   "id": "728c60f6-7342-42cb-be0d-dc63f831e2d3",
   "metadata": {},
   "source": [
    "## II - Visualisation et modélisation"
   ]
  },
  {
   "cell_type": "code",
   "execution_count": null,
   "id": "b46fa9e3-494a-42ad-ba47-66b271878137",
   "metadata": {},
   "outputs": [],
   "source": []
  }
 ],
 "metadata": {
  "kernelspec": {
   "display_name": "Python 3 (ipykernel)",
   "language": "python",
   "name": "python3"
  },
  "language_info": {
   "codemirror_mode": {
    "name": "ipython",
    "version": 3
   },
   "file_extension": ".py",
   "mimetype": "text/x-python",
   "name": "python",
   "nbconvert_exporter": "python",
   "pygments_lexer": "ipython3",
   "version": "3.9.7"
  }
 },
 "nbformat": 4,
 "nbformat_minor": 5
}
