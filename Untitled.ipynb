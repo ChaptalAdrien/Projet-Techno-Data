{
 "cells": [
  {
   "cell_type": "markdown",
   "id": "b5ba2fcd-81b4-4f77-9ea4-4bd0ca876071",
   "metadata": {
    "tags": []
   },
   "source": [
    "# PROJET TECHNO DATA"
   ]
  },
  {
   "cell_type": "markdown",
   "id": "50e80422-4a5f-4d2b-a97b-f91893443d1b",
   "metadata": {},
   "source": [
    "## Auteurs\n",
    "\n",
    "Adrien Chaptal\n",
    "\n",
    "Gael Rousseau"
   ]
  },
  {
   "cell_type": "markdown",
   "id": "c01692ea-3219-461b-b2bb-0d15f79a849e",
   "metadata": {},
   "source": [
    "## Declaration librairies"
   ]
  },
  {
   "cell_type": "code",
   "execution_count": 5,
   "id": "721681a4-39e1-426d-97ad-8013313fed50",
   "metadata": {},
   "outputs": [],
   "source": [
    "# imports\n",
    "import numpy as np\n",
    "import pandas as pd\n",
    "import matplotlib.pyplot as plt\n",
    "# show plots in the notebook\n",
    "%matplotlib inline"
   ]
  },
  {
   "cell_type": "markdown",
   "id": "5df9451d-a89a-4da3-ae4a-bfcbbb276498",
   "metadata": {
    "tags": []
   },
   "source": [
    "## I - Analyse et Preparation des données"
   ]
  },
  {
   "cell_type": "markdown",
   "id": "0c70db99-3e20-4a50-9049-147ef9a2cf3a",
   "metadata": {
    "tags": []
   },
   "source": [
    "1. Etudier les données en affichants les informations correspondantes (colonnes, indice, etc) :"
   ]
  },
  {
   "cell_type": "code",
   "execution_count": 6,
   "id": "48c787e3-fbce-4495-84bd-0e3e4597e91d",
   "metadata": {},
   "outputs": [],
   "source": [
    "## TO DO\n"
   ]
  },
  {
   "cell_type": "markdown",
   "id": "7fe73fdd-90a5-4efd-9388-b45d867d8724",
   "metadata": {},
   "source": [
    "2. Fusionner les fichiers de donnés "
   ]
  },
  {
   "cell_type": "code",
   "execution_count": 7,
   "id": "56382c46-c813-417e-9ee4-b5cd73accc88",
   "metadata": {},
   "outputs": [],
   "source": [
    "## TO DO "
   ]
  },
  {
   "cell_type": "markdown",
   "id": "d0a01f98-fd97-40e6-b4ed-93419ad199cc",
   "metadata": {},
   "source": [
    "3. Nettoyer la base de données\n",
    "\n",
    "Ex : Identifier le pourcentage de valeurs NaN dans la base et éliminez les colonnes où la majorité\n",
    "des valeurs sont NaN."
   ]
  },
  {
   "cell_type": "code",
   "execution_count": 8,
   "id": "b0e1e355-273b-4c6e-b87c-44f8d8bc2df4",
   "metadata": {},
   "outputs": [],
   "source": [
    "## TO DO \n"
   ]
  },
  {
   "cell_type": "markdown",
   "id": "5c4157e8-543f-4428-8803-7bd30cfa2fa1",
   "metadata": {},
   "source": [
    "4. Supprimer les variables dont la majorité des observations sont manquantes"
   ]
  },
  {
   "cell_type": "code",
   "execution_count": 9,
   "id": "2dcb3008-d789-4edd-8583-b08538003001",
   "metadata": {},
   "outputs": [],
   "source": [
    "## TO DO\n"
   ]
  },
  {
   "cell_type": "markdown",
   "id": "a08aebc4-ccf4-45ad-8100-a5d3570b0f0e",
   "metadata": {},
   "source": [
    "5. Remplir les valeurs NaN par différentes méthodes"
   ]
  },
  {
   "cell_type": "code",
   "execution_count": 10,
   "id": "a7298fcc-a803-4d81-89f2-909b42520370",
   "metadata": {},
   "outputs": [],
   "source": [
    "## TO DO "
   ]
  },
  {
   "cell_type": "markdown",
   "id": "d60f6098-892c-427d-bbab-47eb8cc14f91",
   "metadata": {},
   "source": [
    "6. Analyser les données par les statistiques (min, max, médiane)"
   ]
  },
  {
   "cell_type": "code",
   "execution_count": 11,
   "id": "1f269676-c715-4fe3-9f7b-3caa66a60860",
   "metadata": {},
   "outputs": [],
   "source": [
    "## TO DO\n"
   ]
  },
  {
   "cell_type": "markdown",
   "id": "86dcddf0-1b40-404f-a2b5-68e1816bec31",
   "metadata": {},
   "source": [
    "7. Expliquer la gravité des accidents en fonction des autres variables (créer une nouvelle variable \"mortalité\" qui indique si la victime est décédée ou non suite à l'accident : tué=1 non=0)"
   ]
  },
  {
   "cell_type": "code",
   "execution_count": 12,
   "id": "0a0c4ed9-f654-4858-b583-a3ec0db0a3e1",
   "metadata": {},
   "outputs": [],
   "source": [
    "## TO DO "
   ]
  },
  {
   "cell_type": "markdown",
   "id": "728c60f6-7342-42cb-be0d-dc63f831e2d3",
   "metadata": {},
   "source": [
    "## II - Visualisation et modélisation"
   ]
  },
  {
   "cell_type": "code",
   "execution_count": null,
   "id": "b46fa9e3-494a-42ad-ba47-66b271878137",
   "metadata": {},
   "outputs": [],
   "source": []
  }
 ],
 "metadata": {
  "kernelspec": {
   "display_name": "Python 3 (ipykernel)",
   "language": "python",
   "name": "python3"
  },
  "language_info": {
   "codemirror_mode": {
    "name": "ipython",
    "version": 3
   },
   "file_extension": ".py",
   "mimetype": "text/x-python",
   "name": "python",
   "nbconvert_exporter": "python",
   "pygments_lexer": "ipython3",
   "version": "3.9.7"
  }
 },
 "nbformat": 4,
 "nbformat_minor": 5
}
