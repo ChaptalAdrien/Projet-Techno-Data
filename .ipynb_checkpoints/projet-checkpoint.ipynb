{
 "cells": [
  {
   "cell_type": "markdown",
   "id": "b5ba2fcd-81b4-4f77-9ea4-4bd0ca876071",
   "metadata": {
    "tags": []
   },
   "source": [
    "# PROJET TECHNO DATA"
   ]
  },
  {
   "cell_type": "markdown",
   "id": "50e80422-4a5f-4d2b-a97b-f91893443d1b",
   "metadata": {},
   "source": [
    "## Auteurs\n",
    "\n",
    "Adrien Chaptal\n",
    "\n",
    "Gael Rousseau"
   ]
  },
  {
   "cell_type": "markdown",
   "id": "c01692ea-3219-461b-b2bb-0d15f79a849e",
   "metadata": {},
   "source": [
    "## Declaration librairies"
   ]
  },
  {
   "cell_type": "code",
   "execution_count": 13,
   "id": "721681a4-39e1-426d-97ad-8013313fed50",
   "metadata": {},
   "outputs": [],
   "source": [
    "# imports\n",
    "import numpy as np\n",
    "import pandas as pd\n",
    "import matplotlib.pyplot as plt\n",
    "# show plots in the notebook\n",
    "%matplotlib inline"
   ]
  },
  {
   "cell_type": "markdown",
   "id": "5df9451d-a89a-4da3-ae4a-bfcbbb276498",
   "metadata": {
    "tags": []
   },
   "source": [
    "## I - Analyse et Preparation des données"
   ]
  },
  {
   "cell_type": "markdown",
   "id": "0c70db99-3e20-4a50-9049-147ef9a2cf3a",
   "metadata": {
    "tags": []
   },
   "source": [
    "1. Etudier les données en affichants les informations correspondantes (colonnes, indice, etc) :"
   ]
  },
  {
   "cell_type": "code",
   "execution_count": 17,
   "id": "48c787e3-fbce-4495-84bd-0e3e4597e91d",
   "metadata": {},
   "outputs": [
    {
     "name": "stdout",
     "output_type": "stream",
     "text": [
      "              an  mois  jour  hrmn  lum  agg  int  atm  col  com  \\\n",
      "Num_Acc                                                            \n",
      "201700000001  17     1    11  1820    5    2    1  1.0  1.0  477   \n",
      "201700000002  17     2    13  1630    1    2    3  1.0  3.0    5   \n",
      "201700000003  17     3     7  1150    1    2    9  1.0  5.0   52   \n",
      "201700000004  17     4    22  1300    1    2    1  1.0  6.0    5   \n",
      "201700000005  17     5    20  1230    1    2    1  1.0  2.0   11   \n",
      "...           ..   ...   ...   ...  ...  ...  ...  ...  ...  ...   \n",
      "201700060697  17    11    19  1030    1    2    1  1.0  6.0  611   \n",
      "201700060698  17    11    25   624    1    1    6  1.0  7.0  611   \n",
      "201700060699  17    11    26  1745    2    2    1  1.0  3.0  611   \n",
      "201700060700  17    11    28  1405    1    2    1  1.0  3.0  611   \n",
      "201700060701  17    11    30  1939    3    2    1  1.0  6.0  611   \n",
      "\n",
      "                                   adr gps        lat       long  dep  \n",
      "Num_Acc                                                                \n",
      "201700000001             rue nationale   M  5051326.0   292191.0  590  \n",
      "201700000002          5 rue sonneville   M  5053611.0   295314.0  590  \n",
      "201700000003          rue Jules Guesde   M  5052174.0   288786.0  590  \n",
      "201700000004         46 rue Sonneville   M  5053723.0   295700.0  590  \n",
      "201700000005        Rue roger salengro   M  5052999.0   293798.0  590  \n",
      "...                                ...  ..        ...        ...  ...  \n",
      "201700060697  1, tsoundzou-Baraka (rue   Y  1280703.0  4520703.0  976  \n",
      "201700060698  1, mamoudzou centre-Adri   Y  1278296.0  4523434.0  976  \n",
      "201700060699  1, tsoundzou-Abdallah So   Y  1280711.0  4520617.0  976  \n",
      "201700060700   1, kaweni-Kaweni nord (   Y  1276210.0  4522609.0  976  \n",
      "201700060701     tsoundzou-Stara (rue)   Y  1281342.0  4520169.0  976  \n",
      "\n",
      "[60701 rows x 15 columns]\n"
     ]
    }
   ],
   "source": [
    "## TO DO\n",
    "df_caracteristique = pd.read_csv('./bdd/caracteristiques-2017.csv',index_col=0, encoding ='latin1')\n",
    "print(df_caracteristique)"
   ]
  },
  {
   "cell_type": "code",
   "execution_count": 18,
   "id": "43c78c27-1e42-4f65-8460-bc1c757e0bd3",
   "metadata": {},
   "outputs": [
    {
     "name": "stdout",
     "output_type": "stream",
     "text": [
      "              catr voie   v1   v2  circ  nbv   pr    pr1  vosp  prof  plan  \\\n",
      "Num_Acc                                                                      \n",
      "201700000001     3   39  NaN  NaN   2.0  2.0  NaN    NaN   2.0   1.0   1.0   \n",
      "201700000002     3   39  NaN  NaN   2.0  2.0  NaN    NaN   0.0   1.0   0.0   \n",
      "201700000003     3   39  NaN  NaN   2.0  2.0  NaN    NaN   0.0   1.0   0.0   \n",
      "201700000004     3   39  NaN    D   2.0  2.0  NaN    NaN   0.0   1.0   0.0   \n",
      "201700000005     3   39  NaN  NaN   2.0  2.0  NaN    NaN   0.0   1.0   0.0   \n",
      "...            ...  ...  ...  ...   ...  ...  ...    ...   ...   ...   ...   \n",
      "201700060697     2  NaN  2.0  NaN   2.0  2.0  4.0  936.0   0.0   1.0   1.0   \n",
      "201700060698     2  NaN  NaN  NaN   2.0  2.0  NaN    NaN   0.0   1.0   1.0   \n",
      "201700060699     2  2.0  2.0  NaN   2.0  2.0  4.0  820.0   0.0   1.0   1.0   \n",
      "201700060700     2  1.0  2.0  NaN   2.0  2.0  2.0  890.0   0.0   2.0   1.0   \n",
      "201700060701     2  2.0  2.0  NaN   2.0  2.0  3.0  980.0   0.0   1.0   1.0   \n",
      "\n",
      "              lartpc  larrout  surf  infra  situ  env1  \n",
      "Num_Acc                                                 \n",
      "201700000001     0.0     70.0   1.0    0.0   1.0  99.0  \n",
      "201700000002     6.0     10.0   1.0    NaN   NaN   NaN  \n",
      "201700000003     0.0     10.0   1.0    NaN   NaN   NaN  \n",
      "201700000004     0.0     10.0   1.0    NaN   NaN   NaN  \n",
      "201700000005     0.0      0.0   1.0    0.0   1.0  99.0  \n",
      "...              ...      ...   ...    ...   ...   ...  \n",
      "201700060697     0.0      0.0   1.0    0.0   1.0  99.0  \n",
      "201700060698     0.0      0.0   1.0    0.0   1.0   0.0  \n",
      "201700060699     0.0      0.0   1.0    0.0   1.0  99.0  \n",
      "201700060700     0.0      0.0   1.0    0.0   1.0  99.0  \n",
      "201700060701     0.0      0.0   1.0    0.0   1.0  99.0  \n",
      "\n",
      "[60701 rows x 17 columns]\n"
     ]
    },
    {
     "name": "stderr",
     "output_type": "stream",
     "text": [
      "C:\\Users\\Adrien\\anaconda3\\lib\\site-packages\\IPython\\core\\interactiveshell.py:3444: DtypeWarning: Columns (2) have mixed types.Specify dtype option on import or set low_memory=False.\n",
      "  exec(code_obj, self.user_global_ns, self.user_ns)\n"
     ]
    }
   ],
   "source": [
    "df_lieux = pd.read_csv('./bdd/lieux-2017.csv',index_col=0, encoding ='latin1')\n",
    "print(df_lieux)"
   ]
  },
  {
   "cell_type": "code",
   "execution_count": 19,
   "id": "aedcd54b-7d29-4869-825c-8b9c1f067cda",
   "metadata": {},
   "outputs": [
    {
     "name": "stdout",
     "output_type": "stream",
     "text": [
      "              place  catu  grav  sexe  trajet  secu  locp  actp  etatp  \\\n",
      "Num_Acc                                                                  \n",
      "201700000001    1.0     1     3     1     9.0  13.0   0.0   0.0    0.0   \n",
      "201700000001    2.0     2     3     2     9.0  11.0   0.0   0.0    0.0   \n",
      "201700000001    1.0     1     3     1     1.0  13.0   0.0   0.0    0.0   \n",
      "201700000002    1.0     1     1     1     0.0  11.0   0.0   0.0    0.0   \n",
      "201700000002    1.0     1     3     1     5.0  22.0   0.0   0.0    0.0   \n",
      "...             ...   ...   ...   ...     ...   ...   ...   ...    ...   \n",
      "201700060699    1.0     1     1     2     9.0  11.0   0.0   0.0    0.0   \n",
      "201700060700    1.0     1     1     2     9.0  11.0   0.0   0.0    0.0   \n",
      "201700060700    1.0     1     4     1     9.0  21.0   0.0   0.0    0.0   \n",
      "201700060700    2.0     2     4     2     9.0  21.0   0.0   0.0    0.0   \n",
      "201700060701    1.0     1     4     1     1.0  21.0   0.0   0.0    0.0   \n",
      "\n",
      "              an_nais num_veh  \n",
      "Num_Acc                        \n",
      "201700000001   1968.0     B01  \n",
      "201700000001   1973.0     B01  \n",
      "201700000001   1967.0     A01  \n",
      "201700000002   1953.0     A01  \n",
      "201700000002   1960.0     B01  \n",
      "...               ...     ...  \n",
      "201700060699   1974.0     B01  \n",
      "201700060700   1987.0     A01  \n",
      "201700060700   1991.0     B01  \n",
      "201700060700   1990.0     B01  \n",
      "201700060701   1992.0     A01  \n",
      "\n",
      "[136021 rows x 11 columns]\n"
     ]
    }
   ],
   "source": [
    "df_usagers = pd.read_csv('./bdd/usagers-2017.csv',index_col=0, encoding ='latin1')\n",
    "print(df_usagers)"
   ]
  },
  {
   "cell_type": "code",
   "execution_count": 20,
   "id": "386154de-c509-4e40-96fa-5e6810f3997c",
   "metadata": {},
   "outputs": [
    {
     "name": "stdout",
     "output_type": "stream",
     "text": [
      "              senc  catv  occutc  obs  obsm  choc  manv num_veh\n",
      "Num_Acc                                                        \n",
      "201700000001   0.0     7       0  0.0   2.0   3.0   9.0     B01\n",
      "201700000001   0.0    10       0  0.0   2.0   3.0  13.0     A01\n",
      "201700000002   0.0     7       0  0.0   0.0   1.0  16.0     A01\n",
      "201700000002   0.0     1       0  0.0   0.0   7.0   1.0     B01\n",
      "201700000003   0.0    10       0  0.0   2.0   1.0   1.0     C01\n",
      "...            ...   ...     ...  ...   ...   ...   ...     ...\n",
      "201700060699   2.0     7       0  0.0   2.0   2.0  14.0     A01\n",
      "201700060699   1.0     7       0  0.0   2.0   7.0  14.0     B01\n",
      "201700060700   2.0     7       0  0.0   2.0   3.0   6.0     A01\n",
      "201700060700   2.0    31       0  0.0   2.0   8.0   2.0     B01\n",
      "201700060701   1.0    31       0  0.0   9.0   1.0   2.0     A01\n",
      "\n",
      "[103546 rows x 8 columns]\n"
     ]
    }
   ],
   "source": [
    "df_vehicules = pd.read_csv('./bdd/vehicules-2017.csv',index_col=0, encoding ='latin1')\n",
    "print(df_vehicules)"
   ]
  },
  {
   "cell_type": "markdown",
   "id": "7fe73fdd-90a5-4efd-9388-b45d867d8724",
   "metadata": {},
   "source": [
    "2. Fusionner les fichiers de donnés "
   ]
  },
  {
   "cell_type": "code",
   "execution_count": 7,
   "id": "56382c46-c813-417e-9ee4-b5cd73accc88",
   "metadata": {},
   "outputs": [],
   "source": [
    "frames = [df_caracteristique, df_lieux, df_usagers, df_vehicules]\n",
    "df = pd.concat(frames)\n",
    "\n",
    "print(df)"
   ]
  },
  {
   "cell_type": "markdown",
   "id": "d0a01f98-fd97-40e6-b4ed-93419ad199cc",
   "metadata": {},
   "source": [
    "3. Nettoyer la base de données\n",
    "\n",
    "Ex : Identifier le pourcentage de valeurs NaN dans la base et éliminez les colonnes où la majorité\n",
    "des valeurs sont NaN."
   ]
  },
  {
   "cell_type": "code",
   "execution_count": 8,
   "id": "b0e1e355-273b-4c6e-b87c-44f8d8bc2df4",
   "metadata": {},
   "outputs": [],
   "source": [
    "## TO DO \n"
   ]
  },
  {
   "cell_type": "markdown",
   "id": "5c4157e8-543f-4428-8803-7bd30cfa2fa1",
   "metadata": {},
   "source": [
    "4. Supprimer les variables dont la majorité des observations sont manquantes"
   ]
  },
  {
   "cell_type": "code",
   "execution_count": 9,
   "id": "2dcb3008-d789-4edd-8583-b08538003001",
   "metadata": {},
   "outputs": [],
   "source": [
    "## TO DO\n"
   ]
  },
  {
   "cell_type": "markdown",
   "id": "a08aebc4-ccf4-45ad-8100-a5d3570b0f0e",
   "metadata": {},
   "source": [
    "5. Remplir les valeurs NaN par différentes méthodes"
   ]
  },
  {
   "cell_type": "code",
   "execution_count": 10,
   "id": "a7298fcc-a803-4d81-89f2-909b42520370",
   "metadata": {},
   "outputs": [],
   "source": [
    "## TO DO "
   ]
  },
  {
   "cell_type": "markdown",
   "id": "d60f6098-892c-427d-bbab-47eb8cc14f91",
   "metadata": {},
   "source": [
    "6. Analyser les données par les statistiques (min, max, médiane)"
   ]
  },
  {
   "cell_type": "code",
   "execution_count": 11,
   "id": "1f269676-c715-4fe3-9f7b-3caa66a60860",
   "metadata": {},
   "outputs": [],
   "source": [
    "## TO DO\n"
   ]
  },
  {
   "cell_type": "markdown",
   "id": "86dcddf0-1b40-404f-a2b5-68e1816bec31",
   "metadata": {},
   "source": [
    "7. Expliquer la gravité des accidents en fonction des autres variables (créer une nouvelle variable \"mortalité\" qui indique si la victime est décédée ou non suite à l'accident : tué=1 non=0)"
   ]
  },
  {
   "cell_type": "code",
   "execution_count": 12,
   "id": "0a0c4ed9-f654-4858-b583-a3ec0db0a3e1",
   "metadata": {},
   "outputs": [],
   "source": [
    "## TO DO "
   ]
  },
  {
   "cell_type": "markdown",
   "id": "728c60f6-7342-42cb-be0d-dc63f831e2d3",
   "metadata": {},
   "source": [
    "## II - Visualisation et modélisation"
   ]
  },
  {
   "cell_type": "code",
   "execution_count": null,
   "id": "b46fa9e3-494a-42ad-ba47-66b271878137",
   "metadata": {},
   "outputs": [],
   "source": []
  }
 ],
 "metadata": {
  "kernelspec": {
   "display_name": "Python 3 (ipykernel)",
   "language": "python",
   "name": "python3"
  },
  "language_info": {
   "codemirror_mode": {
    "name": "ipython",
    "version": 3
   },
   "file_extension": ".py",
   "mimetype": "text/x-python",
   "name": "python",
   "nbconvert_exporter": "python",
   "pygments_lexer": "ipython3",
   "version": "3.9.7"
  }
 },
 "nbformat": 4,
 "nbformat_minor": 5
}
