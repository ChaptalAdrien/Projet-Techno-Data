{
 "cells": [
  {
   "cell_type": "markdown",
   "id": "b5ba2fcd-81b4-4f77-9ea4-4bd0ca876071",
   "metadata": {
    "tags": []
   },
   "source": [
    "# PROJET TECHNO DATA"
   ]
  },
  {
   "cell_type": "markdown",
   "id": "50e80422-4a5f-4d2b-a97b-f91893443d1b",
   "metadata": {},
   "source": [
    "## Auteurs\n",
    "\n",
    "Adrien Chaptal\n",
    "\n",
    "Gael Rousseau"
   ]
  },
  {
   "cell_type": "markdown",
   "id": "c01692ea-3219-461b-b2bb-0d15f79a849e",
   "metadata": {},
   "source": [
    "## Declaration librairies"
   ]
  },
  {
   "cell_type": "code",
   "execution_count": 1,
   "id": "721681a4-39e1-426d-97ad-8013313fed50",
   "metadata": {},
   "outputs": [],
   "source": [
    "# imports\n",
    "import numpy as np\n",
    "import pandas as pd\n",
    "import matplotlib.pyplot as plt\n",
    "# show plots in the notebook\n",
    "%matplotlib inline"
   ]
  },
  {
   "cell_type": "markdown",
   "id": "5df9451d-a89a-4da3-ae4a-bfcbbb276498",
   "metadata": {
    "tags": []
   },
   "source": [
    "## I - Analyse et Preparation des données"
   ]
  },
  {
   "cell_type": "markdown",
   "id": "0c70db99-3e20-4a50-9049-147ef9a2cf3a",
   "metadata": {
    "tags": []
   },
   "source": [
    "1. Etudier les données en affichants les informations correspondantes (colonnes, indice, etc) :"
   ]
  },
  {
   "cell_type": "code",
   "execution_count": 2,
   "id": "48c787e3-fbce-4495-84bd-0e3e4597e91d",
   "metadata": {},
   "outputs": [
    {
     "name": "stdout",
     "output_type": "stream",
     "text": [
      "(60701, 16)\n"
     ]
    }
   ],
   "source": [
    "## TO DO\n",
    "df_caracteristique = pd.read_csv('./bdd/caracteristiques-2017.csv', encoding ='latin1')\n",
    "print(df_caracteristique.shape)"
   ]
  },
  {
   "cell_type": "code",
   "execution_count": 3,
   "id": "43c78c27-1e42-4f65-8460-bc1c757e0bd3",
   "metadata": {},
   "outputs": [
    {
     "name": "stdout",
     "output_type": "stream",
     "text": [
      "(60701, 18)\n"
     ]
    },
    {
     "name": "stderr",
     "output_type": "stream",
     "text": [
      "C:\\Users\\Adrien\\anaconda3\\lib\\site-packages\\IPython\\core\\interactiveshell.py:3444: DtypeWarning: Columns (2) have mixed types.Specify dtype option on import or set low_memory=False.\n",
      "  exec(code_obj, self.user_global_ns, self.user_ns)\n"
     ]
    }
   ],
   "source": [
    "df_lieux = pd.read_csv('./bdd/lieux-2017.csv', encoding ='latin1')\n",
    "\n",
    "print(df_lieux.shape)"
   ]
  },
  {
   "cell_type": "code",
   "execution_count": 4,
   "id": "aedcd54b-7d29-4869-825c-8b9c1f067cda",
   "metadata": {},
   "outputs": [
    {
     "name": "stdout",
     "output_type": "stream",
     "text": [
      "(136021, 12)\n"
     ]
    }
   ],
   "source": [
    "df_usagers = pd.read_csv('./bdd/usagers-2017.csv', encoding ='latin1')\n",
    "\n",
    "print(df_usagers.shape)"
   ]
  },
  {
   "cell_type": "code",
   "execution_count": 5,
   "id": "386154de-c509-4e40-96fa-5e6810f3997c",
   "metadata": {},
   "outputs": [
    {
     "name": "stdout",
     "output_type": "stream",
     "text": [
      "(103546, 9)\n"
     ]
    }
   ],
   "source": [
    "df_vehicules = pd.read_csv('./bdd/vehicules-2017.csv', encoding ='latin1')\n",
    "\n",
    "print(df_vehicules.shape)"
   ]
  },
  {
   "cell_type": "markdown",
   "id": "7fe73fdd-90a5-4efd-9388-b45d867d8724",
   "metadata": {},
   "source": [
    "2. Fusionner les fichiers de donnés "
   ]
  },
  {
   "cell_type": "code",
   "execution_count": 6,
   "id": "56382c46-c813-417e-9ee4-b5cd73accc88",
   "metadata": {},
   "outputs": [
    {
     "name": "stdout",
     "output_type": "stream",
     "text": [
      "(136021, 55)\n"
     ]
    }
   ],
   "source": [
    "frames = [df_caracteristique, df_lieux, df_usagers, df_vehicules]\n",
    "df = pd.concat(frames, axis=1)\n",
    "\n",
    "print(df.shape)"
   ]
  },
  {
   "cell_type": "markdown",
   "id": "d0a01f98-fd97-40e6-b4ed-93419ad199cc",
   "metadata": {},
   "source": [
    "3. Nettoyer la base de données\n",
    "\n",
    "Ex : Identifier le pourcentage de valeurs NaN dans la base et éliminez les colonnes où la majorité\n",
    "des valeurs sont NaN."
   ]
  },
  {
   "cell_type": "code",
   "execution_count": 11,
   "id": "b0e1e355-273b-4c6e-b87c-44f8d8bc2df4",
   "metadata": {},
   "outputs": [
    {
     "name": "stdout",
     "output_type": "stream",
     "text": [
      "(136021, 21)\n",
      "<bound method NDFrame.head of              Num_Acc  place  catu  grav  sexe  trajet  secu  locp  actp  \\\n",
      "0       201700000001    1.0     1     3     1     9.0  13.0   0.0   0.0   \n",
      "1       201700000001    2.0     2     3     2     9.0  11.0   0.0   0.0   \n",
      "2       201700000001    1.0     1     3     1     1.0  13.0   0.0   0.0   \n",
      "3       201700000002    1.0     1     1     1     0.0  11.0   0.0   0.0   \n",
      "4       201700000002    1.0     1     3     1     5.0  22.0   0.0   0.0   \n",
      "...              ...    ...   ...   ...   ...     ...   ...   ...   ...   \n",
      "136016  201700060699    1.0     1     1     2     9.0  11.0   0.0   0.0   \n",
      "136017  201700060700    1.0     1     1     2     9.0  11.0   0.0   0.0   \n",
      "136018  201700060700    1.0     1     4     1     9.0  21.0   0.0   0.0   \n",
      "136019  201700060700    2.0     2     4     2     9.0  21.0   0.0   0.0   \n",
      "136020  201700060701    1.0     1     4     1     1.0  21.0   0.0   0.0   \n",
      "\n",
      "        etatp  ...  num_veh       Num_Acc  senc  catv  occutc  obs  obsm  \\\n",
      "0         0.0  ...      B01  2.017000e+11   0.0   7.0     0.0  0.0   2.0   \n",
      "1         0.0  ...      B01  2.017000e+11   0.0  10.0     0.0  0.0   2.0   \n",
      "2         0.0  ...      A01  2.017000e+11   0.0   7.0     0.0  0.0   0.0   \n",
      "3         0.0  ...      A01  2.017000e+11   0.0   1.0     0.0  0.0   0.0   \n",
      "4         0.0  ...      B01  2.017000e+11   0.0  10.0     0.0  0.0   2.0   \n",
      "...       ...  ...      ...           ...   ...   ...     ...  ...   ...   \n",
      "136016    0.0  ...      B01           NaN   NaN   NaN     NaN  NaN   NaN   \n",
      "136017    0.0  ...      A01           NaN   NaN   NaN     NaN  NaN   NaN   \n",
      "136018    0.0  ...      B01           NaN   NaN   NaN     NaN  NaN   NaN   \n",
      "136019    0.0  ...      B01           NaN   NaN   NaN     NaN  NaN   NaN   \n",
      "136020    0.0  ...      A01           NaN   NaN   NaN     NaN  NaN   NaN   \n",
      "\n",
      "        choc  manv  num_veh  \n",
      "0        3.0   9.0      B01  \n",
      "1        3.0  13.0      A01  \n",
      "2        1.0  16.0      A01  \n",
      "3        7.0   1.0      B01  \n",
      "4        1.0   1.0      C01  \n",
      "...      ...   ...      ...  \n",
      "136016   NaN   NaN      NaN  \n",
      "136017   NaN   NaN      NaN  \n",
      "136018   NaN   NaN      NaN  \n",
      "136019   NaN   NaN      NaN  \n",
      "136020   NaN   NaN      NaN  \n",
      "\n",
      "[136021 rows x 21 columns]>\n"
     ]
    }
   ],
   "source": [
    "\"\"\"\n",
    "qty_of_nuls = np.ceil(df.shape[1]/2)\n",
    "df.iloc[df[(df.isnull().sum(axis=1) >=qty_of_nuls)].index]\n",
    "\"\"\"\n",
    "\n",
    "df = df.loc[:, df.isnull().mean() < .5]\n",
    "print(df.shape)\n",
    "print(df.head)"
   ]
  },
  {
   "cell_type": "markdown",
   "id": "5c4157e8-543f-4428-8803-7bd30cfa2fa1",
   "metadata": {},
   "source": [
    "4. Supprimer les variables dont la majorité des observations sont manquantes"
   ]
  },
  {
   "cell_type": "code",
   "execution_count": 17,
   "id": "2dcb3008-d789-4edd-8583-b08538003001",
   "metadata": {},
   "outputs": [
    {
     "ename": "ValueError",
     "evalue": "Boolean array expected for the condition, not int64",
     "output_type": "error",
     "traceback": [
      "\u001b[1;31m---------------------------------------------------------------------------\u001b[0m",
      "\u001b[1;31mValueError\u001b[0m                                Traceback (most recent call last)",
      "\u001b[1;32m~\\AppData\\Local\\Temp/ipykernel_26916/2137286992.py\u001b[0m in \u001b[0;36m<module>\u001b[1;34m\u001b[0m\n\u001b[0;32m      4\u001b[0m     \u001b[0mcolumn\u001b[0m \u001b[1;33m=\u001b[0m \u001b[0mdf\u001b[0m\u001b[1;33m[\u001b[0m\u001b[0mcolumn\u001b[0m\u001b[1;33m]\u001b[0m\u001b[1;33m\u001b[0m\u001b[1;33m\u001b[0m\u001b[0m\n\u001b[0;32m      5\u001b[0m     \u001b[1;31m# Get the count of Zeros in column\u001b[0m\u001b[1;33m\u001b[0m\u001b[1;33m\u001b[0m\u001b[0m\n\u001b[1;32m----> 6\u001b[1;33m     \u001b[0mcount\u001b[0m \u001b[1;33m=\u001b[0m \u001b[1;33m(\u001b[0m\u001b[0mdf\u001b[0m\u001b[1;33m[\u001b[0m\u001b[0mcolumn\u001b[0m\u001b[1;33m]\u001b[0m \u001b[1;33m==\u001b[0m \u001b[1;36m0\u001b[0m\u001b[1;33m)\u001b[0m\u001b[1;33m.\u001b[0m\u001b[0msum\u001b[0m\u001b[1;33m(\u001b[0m\u001b[1;33m)\u001b[0m\u001b[1;33m\u001b[0m\u001b[1;33m\u001b[0m\u001b[0m\n\u001b[0m\u001b[0;32m      7\u001b[0m     \u001b[0mprint\u001b[0m\u001b[1;33m(\u001b[0m\u001b[0mcount\u001b[0m\u001b[1;33m)\u001b[0m\u001b[1;33m;\u001b[0m\u001b[1;33m\u001b[0m\u001b[1;33m\u001b[0m\u001b[0m\n\u001b[0;32m      8\u001b[0m     \u001b[0mpct\u001b[0m\u001b[1;33m=\u001b[0m\u001b[0mcount\u001b[0m\u001b[1;33m/\u001b[0m\u001b[0mshape\u001b[0m\u001b[1;33m\u001b[0m\u001b[1;33m\u001b[0m\u001b[0m\n",
      "\u001b[1;32m~\\anaconda3\\lib\\site-packages\\pandas\\core\\frame.py\u001b[0m in \u001b[0;36m__getitem__\u001b[1;34m(self, key)\u001b[0m\n\u001b[0;32m   3443\u001b[0m         \u001b[1;31m# Do we have a (boolean) DataFrame?\u001b[0m\u001b[1;33m\u001b[0m\u001b[1;33m\u001b[0m\u001b[0m\n\u001b[0;32m   3444\u001b[0m         \u001b[1;32mif\u001b[0m \u001b[0misinstance\u001b[0m\u001b[1;33m(\u001b[0m\u001b[0mkey\u001b[0m\u001b[1;33m,\u001b[0m \u001b[0mDataFrame\u001b[0m\u001b[1;33m)\u001b[0m\u001b[1;33m:\u001b[0m\u001b[1;33m\u001b[0m\u001b[1;33m\u001b[0m\u001b[0m\n\u001b[1;32m-> 3445\u001b[1;33m             \u001b[1;32mreturn\u001b[0m \u001b[0mself\u001b[0m\u001b[1;33m.\u001b[0m\u001b[0mwhere\u001b[0m\u001b[1;33m(\u001b[0m\u001b[0mkey\u001b[0m\u001b[1;33m)\u001b[0m\u001b[1;33m\u001b[0m\u001b[1;33m\u001b[0m\u001b[0m\n\u001b[0m\u001b[0;32m   3446\u001b[0m \u001b[1;33m\u001b[0m\u001b[0m\n\u001b[0;32m   3447\u001b[0m         \u001b[1;31m# Do we have a (boolean) 1d indexer?\u001b[0m\u001b[1;33m\u001b[0m\u001b[1;33m\u001b[0m\u001b[0m\n",
      "\u001b[1;32m~\\anaconda3\\lib\\site-packages\\pandas\\util\\_decorators.py\u001b[0m in \u001b[0;36mwrapper\u001b[1;34m(*args, **kwargs)\u001b[0m\n\u001b[0;32m    309\u001b[0m                     \u001b[0mstacklevel\u001b[0m\u001b[1;33m=\u001b[0m\u001b[0mstacklevel\u001b[0m\u001b[1;33m,\u001b[0m\u001b[1;33m\u001b[0m\u001b[1;33m\u001b[0m\u001b[0m\n\u001b[0;32m    310\u001b[0m                 )\n\u001b[1;32m--> 311\u001b[1;33m             \u001b[1;32mreturn\u001b[0m \u001b[0mfunc\u001b[0m\u001b[1;33m(\u001b[0m\u001b[1;33m*\u001b[0m\u001b[0margs\u001b[0m\u001b[1;33m,\u001b[0m \u001b[1;33m**\u001b[0m\u001b[0mkwargs\u001b[0m\u001b[1;33m)\u001b[0m\u001b[1;33m\u001b[0m\u001b[1;33m\u001b[0m\u001b[0m\n\u001b[0m\u001b[0;32m    312\u001b[0m \u001b[1;33m\u001b[0m\u001b[0m\n\u001b[0;32m    313\u001b[0m         \u001b[1;32mreturn\u001b[0m \u001b[0mwrapper\u001b[0m\u001b[1;33m\u001b[0m\u001b[1;33m\u001b[0m\u001b[0m\n",
      "\u001b[1;32m~\\anaconda3\\lib\\site-packages\\pandas\\core\\frame.py\u001b[0m in \u001b[0;36mwhere\u001b[1;34m(self, cond, other, inplace, axis, level, errors, try_cast)\u001b[0m\n\u001b[0;32m  10734\u001b[0m         \u001b[0mtry_cast\u001b[0m\u001b[1;33m=\u001b[0m\u001b[0mlib\u001b[0m\u001b[1;33m.\u001b[0m\u001b[0mno_default\u001b[0m\u001b[1;33m,\u001b[0m\u001b[1;33m\u001b[0m\u001b[1;33m\u001b[0m\u001b[0m\n\u001b[0;32m  10735\u001b[0m     ):\n\u001b[1;32m> 10736\u001b[1;33m         \u001b[1;32mreturn\u001b[0m \u001b[0msuper\u001b[0m\u001b[1;33m(\u001b[0m\u001b[1;33m)\u001b[0m\u001b[1;33m.\u001b[0m\u001b[0mwhere\u001b[0m\u001b[1;33m(\u001b[0m\u001b[0mcond\u001b[0m\u001b[1;33m,\u001b[0m \u001b[0mother\u001b[0m\u001b[1;33m,\u001b[0m \u001b[0minplace\u001b[0m\u001b[1;33m,\u001b[0m \u001b[0maxis\u001b[0m\u001b[1;33m,\u001b[0m \u001b[0mlevel\u001b[0m\u001b[1;33m,\u001b[0m \u001b[0merrors\u001b[0m\u001b[1;33m,\u001b[0m \u001b[0mtry_cast\u001b[0m\u001b[1;33m)\u001b[0m\u001b[1;33m\u001b[0m\u001b[1;33m\u001b[0m\u001b[0m\n\u001b[0m\u001b[0;32m  10737\u001b[0m \u001b[1;33m\u001b[0m\u001b[0m\n\u001b[0;32m  10738\u001b[0m     @deprecate_nonkeyword_arguments(\n",
      "\u001b[1;32m~\\anaconda3\\lib\\site-packages\\pandas\\core\\generic.py\u001b[0m in \u001b[0;36mwhere\u001b[1;34m(self, cond, other, inplace, axis, level, errors, try_cast)\u001b[0m\n\u001b[0;32m   9030\u001b[0m             )\n\u001b[0;32m   9031\u001b[0m \u001b[1;33m\u001b[0m\u001b[0m\n\u001b[1;32m-> 9032\u001b[1;33m         \u001b[1;32mreturn\u001b[0m \u001b[0mself\u001b[0m\u001b[1;33m.\u001b[0m\u001b[0m_where\u001b[0m\u001b[1;33m(\u001b[0m\u001b[0mcond\u001b[0m\u001b[1;33m,\u001b[0m \u001b[0mother\u001b[0m\u001b[1;33m,\u001b[0m \u001b[0minplace\u001b[0m\u001b[1;33m,\u001b[0m \u001b[0maxis\u001b[0m\u001b[1;33m,\u001b[0m \u001b[0mlevel\u001b[0m\u001b[1;33m,\u001b[0m \u001b[0merrors\u001b[0m\u001b[1;33m=\u001b[0m\u001b[0merrors\u001b[0m\u001b[1;33m)\u001b[0m\u001b[1;33m\u001b[0m\u001b[1;33m\u001b[0m\u001b[0m\n\u001b[0m\u001b[0;32m   9033\u001b[0m \u001b[1;33m\u001b[0m\u001b[0m\n\u001b[0;32m   9034\u001b[0m     \u001b[1;33m@\u001b[0m\u001b[0mfinal\u001b[0m\u001b[1;33m\u001b[0m\u001b[1;33m\u001b[0m\u001b[0m\n",
      "\u001b[1;32m~\\anaconda3\\lib\\site-packages\\pandas\\core\\generic.py\u001b[0m in \u001b[0;36m_where\u001b[1;34m(self, cond, other, inplace, axis, level, errors)\u001b[0m\n\u001b[0;32m   8786\u001b[0m                 \u001b[1;32mfor\u001b[0m \u001b[0mdt\u001b[0m \u001b[1;32min\u001b[0m \u001b[0mcond\u001b[0m\u001b[1;33m.\u001b[0m\u001b[0mdtypes\u001b[0m\u001b[1;33m:\u001b[0m\u001b[1;33m\u001b[0m\u001b[1;33m\u001b[0m\u001b[0m\n\u001b[0;32m   8787\u001b[0m                     \u001b[1;32mif\u001b[0m \u001b[1;32mnot\u001b[0m \u001b[0mis_bool_dtype\u001b[0m\u001b[1;33m(\u001b[0m\u001b[0mdt\u001b[0m\u001b[1;33m)\u001b[0m\u001b[1;33m:\u001b[0m\u001b[1;33m\u001b[0m\u001b[1;33m\u001b[0m\u001b[0m\n\u001b[1;32m-> 8788\u001b[1;33m                         \u001b[1;32mraise\u001b[0m \u001b[0mValueError\u001b[0m\u001b[1;33m(\u001b[0m\u001b[0mmsg\u001b[0m\u001b[1;33m.\u001b[0m\u001b[0mformat\u001b[0m\u001b[1;33m(\u001b[0m\u001b[0mdtype\u001b[0m\u001b[1;33m=\u001b[0m\u001b[0mdt\u001b[0m\u001b[1;33m)\u001b[0m\u001b[1;33m)\u001b[0m\u001b[1;33m\u001b[0m\u001b[1;33m\u001b[0m\u001b[0m\n\u001b[0m\u001b[0;32m   8789\u001b[0m         \u001b[1;32melse\u001b[0m\u001b[1;33m:\u001b[0m\u001b[1;33m\u001b[0m\u001b[1;33m\u001b[0m\u001b[0m\n\u001b[0;32m   8790\u001b[0m             \u001b[1;31m# GH#21947 we have an empty DataFrame/Series, could be object-dtype\u001b[0m\u001b[1;33m\u001b[0m\u001b[1;33m\u001b[0m\u001b[0m\n",
      "\u001b[1;31mValueError\u001b[0m: Boolean array expected for the condition, not int64"
     ]
    }
   ],
   "source": [
    "# Count number of zeros in all columns of Dataframe\n",
    "for column in df.columns:\n",
    "    shape= df.shape[0]\n",
    "    column = df[column]\n",
    "    # Get the count of Zeros in column \n",
    "    count = (df[column] == 0).sum()\n",
    "    print(count);\n",
    "    \"\"\"\n",
    "    pct=count/shape\n",
    "    if(isinstance(pct, pd.Series)):\n",
    "        print(\"Can't process Series...\")\n",
    "    elif(pct > 0.5):\n",
    "        df.drop([column], axis=1, inplace=True)\n",
    "        print(\"Removing column \", column)\n",
    "    \"\"\""
   ]
  },
  {
   "cell_type": "markdown",
   "id": "a08aebc4-ccf4-45ad-8100-a5d3570b0f0e",
   "metadata": {},
   "source": [
    "5. Remplir les valeurs NaN par différentes méthodes"
   ]
  },
  {
   "cell_type": "code",
   "execution_count": 10,
   "id": "a7298fcc-a803-4d81-89f2-909b42520370",
   "metadata": {},
   "outputs": [],
   "source": [
    "## TO DO "
   ]
  },
  {
   "cell_type": "markdown",
   "id": "d60f6098-892c-427d-bbab-47eb8cc14f91",
   "metadata": {},
   "source": [
    "6. Analyser les données par les statistiques (min, max, médiane)"
   ]
  },
  {
   "cell_type": "code",
   "execution_count": 11,
   "id": "1f269676-c715-4fe3-9f7b-3caa66a60860",
   "metadata": {},
   "outputs": [],
   "source": [
    "## TO DO\n"
   ]
  },
  {
   "cell_type": "markdown",
   "id": "86dcddf0-1b40-404f-a2b5-68e1816bec31",
   "metadata": {},
   "source": [
    "7. Expliquer la gravité des accidents en fonction des autres variables (créer une nouvelle variable \"mortalité\" qui indique si la victime est décédée ou non suite à l'accident : tué=1 non=0)"
   ]
  },
  {
   "cell_type": "code",
   "execution_count": 12,
   "id": "0a0c4ed9-f654-4858-b583-a3ec0db0a3e1",
   "metadata": {},
   "outputs": [],
   "source": [
    "## TO DO "
   ]
  },
  {
   "cell_type": "markdown",
   "id": "728c60f6-7342-42cb-be0d-dc63f831e2d3",
   "metadata": {},
   "source": [
    "## II - Visualisation et modélisation"
   ]
  },
  {
   "cell_type": "code",
   "execution_count": null,
   "id": "b46fa9e3-494a-42ad-ba47-66b271878137",
   "metadata": {},
   "outputs": [],
   "source": []
  }
 ],
 "metadata": {
  "kernelspec": {
   "display_name": "Python 3 (ipykernel)",
   "language": "python",
   "name": "python3"
  },
  "language_info": {
   "codemirror_mode": {
    "name": "ipython",
    "version": 3
   },
   "file_extension": ".py",
   "mimetype": "text/x-python",
   "name": "python",
   "nbconvert_exporter": "python",
   "pygments_lexer": "ipython3",
   "version": "3.9.7"
  }
 },
 "nbformat": 4,
 "nbformat_minor": 5
}
