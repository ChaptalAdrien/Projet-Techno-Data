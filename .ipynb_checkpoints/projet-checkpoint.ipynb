{
 "cells": [
  {
   "cell_type": "markdown",
   "id": "b5ba2fcd-81b4-4f77-9ea4-4bd0ca876071",
   "metadata": {
    "tags": []
   },
   "source": [
    "# PROJET TECHNO DATA"
   ]
  },
  {
   "cell_type": "markdown",
   "id": "50e80422-4a5f-4d2b-a97b-f91893443d1b",
   "metadata": {},
   "source": [
    "## Auteurs\n",
    "\n",
    "Adrien Chaptal\n",
    "\n",
    "Gael Rousseau"
   ]
  },
  {
   "cell_type": "markdown",
   "id": "c01692ea-3219-461b-b2bb-0d15f79a849e",
   "metadata": {},
   "source": [
    "## Declaration librairies"
   ]
  },
  {
   "cell_type": "code",
<<<<<<< Updated upstream
   "execution_count": 7,
=======
   "execution_count": 2,
>>>>>>> Stashed changes
   "id": "721681a4-39e1-426d-97ad-8013313fed50",
   "metadata": {},
   "outputs": [],
   "source": [
    "# imports\n",
    "import numpy as np\n",
    "import pandas as pd\n",
    "import matplotlib.pyplot as plt\n",
    "# show plots in the notebook\n",
    "%matplotlib inline\n",
    "import seaborn as sns\n",
    "from sklearn.model_selection import train_test_split\n",
    "from sklearn.model_selection import cross_val_score\n",
    "from sklearn.linear_model import LogisticRegression\n",
    "from sklearn.metrics import classification_report, confusion_matrix\n",
    "from sklearn import preprocessing\n",
    "from sklearn import metrics\n",
    "from sklearn.tree import DecisionTreeClassifier\n",
    "\n",
    "import warnings\n",
    "warnings.filterwarnings('ignore')"
   ]
  },
  {
   "cell_type": "markdown",
   "id": "5df9451d-a89a-4da3-ae4a-bfcbbb276498",
   "metadata": {
    "tags": []
   },
   "source": [
    "## I - Analyse et Preparation des données"
   ]
  },
  {
   "cell_type": "markdown",
   "id": "0c70db99-3e20-4a50-9049-147ef9a2cf3a",
   "metadata": {
    "tags": []
   },
   "source": [
    "1. Etudier les données en affichants les informations correspondantes (colonnes, indice, etc) :"
   ]
  },
  {
   "cell_type": "code",
<<<<<<< Updated upstream
   "execution_count": 8,
=======
   "execution_count": 3,
>>>>>>> Stashed changes
   "id": "48c787e3-fbce-4495-84bd-0e3e4597e91d",
   "metadata": {},
   "outputs": [
    {
     "name": "stdout",
     "output_type": "stream",
     "text": [
      "(60701, 16)\n"
     ]
    }
   ],
   "source": [
    "df_caracteristique = pd.read_csv('./bdd/caracteristiques-2017.csv', encoding ='latin1')\n",
    "print(df_caracteristique.shape)"
   ]
  },
  {
   "cell_type": "code",
<<<<<<< Updated upstream
   "execution_count": 9,
=======
   "execution_count": 4,
>>>>>>> Stashed changes
   "id": "43c78c27-1e42-4f65-8460-bc1c757e0bd3",
   "metadata": {},
   "outputs": [
    {
     "name": "stdout",
     "output_type": "stream",
     "text": [
      "(60701, 18)\n"
     ]
    }
   ],
   "source": [
    "df_lieux = pd.read_csv('./bdd/lieux-2017.csv', encoding ='latin1')\n",
    "\n",
    "print(df_lieux.shape)"
   ]
  },
  {
   "cell_type": "code",
<<<<<<< Updated upstream
   "execution_count": 10,
=======
   "execution_count": 5,
>>>>>>> Stashed changes
   "id": "aedcd54b-7d29-4869-825c-8b9c1f067cda",
   "metadata": {},
   "outputs": [
    {
     "name": "stdout",
     "output_type": "stream",
     "text": [
      "(136021, 12)\n"
     ]
    }
   ],
   "source": [
    "df_usagers = pd.read_csv('./bdd/usagers-2017.csv', encoding ='latin1')\n",
    "\n",
    "print(df_usagers.shape)"
   ]
  },
  {
   "cell_type": "code",
<<<<<<< Updated upstream
   "execution_count": 11,
=======
   "execution_count": 6,
>>>>>>> Stashed changes
   "id": "386154de-c509-4e40-96fa-5e6810f3997c",
   "metadata": {},
   "outputs": [
    {
     "name": "stdout",
     "output_type": "stream",
     "text": [
      "(103546, 9)\n"
     ]
    }
   ],
   "source": [
    "df_vehicules = pd.read_csv('./bdd/vehicules-2017.csv', encoding ='latin1')\n",
    "\n",
    "print(df_vehicules.shape)"
   ]
  },
  {
   "cell_type": "markdown",
   "id": "7fe73fdd-90a5-4efd-9388-b45d867d8724",
   "metadata": {},
   "source": [
    "2. Fusionner les fichiers de donnés "
   ]
  },
  {
   "cell_type": "code",
<<<<<<< Updated upstream
   "execution_count": 12,
=======
   "execution_count": 7,
>>>>>>> Stashed changes
   "id": "56382c46-c813-417e-9ee4-b5cd73accc88",
   "metadata": {},
   "outputs": [
    {
     "name": "stdout",
     "output_type": "stream",
     "text": [
      "(136021, 55)\n"
     ]
    }
   ],
   "source": [
    "frames = [df_caracteristique, df_lieux, df_usagers, df_vehicules]\n",
    "df_total = pd.concat(frames, axis=1)\n",
    "\n",
    "print(df_total.shape)"
   ]
  },
  {
   "cell_type": "markdown",
   "id": "d0a01f98-fd97-40e6-b4ed-93419ad199cc",
   "metadata": {},
   "source": [
    "3. Nettoyer la base de données\n",
    "\n",
    "Ex : Identifier le pourcentage de valeurs NaN dans la base et éliminez les colonnes où la majorité\n",
    "des valeurs sont NaN."
   ]
  },
  {
   "cell_type": "code",
<<<<<<< Updated upstream
   "execution_count": 13,
=======
   "execution_count": 8,
>>>>>>> Stashed changes
   "id": "b0e1e355-273b-4c6e-b87c-44f8d8bc2df4",
   "metadata": {},
   "outputs": [
    {
     "data": {
      "text/html": [
       "<div>\n",
       "<style scoped>\n",
       "    .dataframe tbody tr th:only-of-type {\n",
       "        vertical-align: middle;\n",
       "    }\n",
       "\n",
       "    .dataframe tbody tr th {\n",
       "        vertical-align: top;\n",
       "    }\n",
       "\n",
       "    .dataframe thead th {\n",
       "        text-align: right;\n",
       "    }\n",
       "</style>\n",
       "<table border=\"1\" class=\"dataframe\">\n",
       "  <thead>\n",
       "    <tr style=\"text-align: right;\">\n",
       "      <th></th>\n",
       "      <th>Num_Acc</th>\n",
       "      <th>place</th>\n",
       "      <th>catu</th>\n",
       "      <th>grav</th>\n",
       "      <th>sexe</th>\n",
       "      <th>trajet</th>\n",
       "      <th>secu</th>\n",
       "      <th>locp</th>\n",
       "      <th>actp</th>\n",
       "      <th>etatp</th>\n",
       "      <th>an_nais</th>\n",
       "      <th>senc</th>\n",
       "      <th>catv</th>\n",
       "      <th>occutc</th>\n",
       "      <th>obs</th>\n",
       "      <th>obsm</th>\n",
       "      <th>choc</th>\n",
       "      <th>manv</th>\n",
       "    </tr>\n",
       "  </thead>\n",
       "  <tbody>\n",
       "    <tr>\n",
       "      <th>0</th>\n",
       "      <td>201700000001</td>\n",
       "      <td>1.0</td>\n",
       "      <td>1</td>\n",
       "      <td>3</td>\n",
       "      <td>1</td>\n",
       "      <td>9.0</td>\n",
       "      <td>13.0</td>\n",
       "      <td>0.0</td>\n",
       "      <td>0.0</td>\n",
       "      <td>0.0</td>\n",
       "      <td>1968.0</td>\n",
       "      <td>0.0</td>\n",
       "      <td>7.0</td>\n",
       "      <td>0.0</td>\n",
       "      <td>0.0</td>\n",
       "      <td>2.0</td>\n",
       "      <td>3.0</td>\n",
       "      <td>9.0</td>\n",
       "    </tr>\n",
       "    <tr>\n",
       "      <th>1</th>\n",
       "      <td>201700000001</td>\n",
       "      <td>2.0</td>\n",
       "      <td>2</td>\n",
       "      <td>3</td>\n",
       "      <td>2</td>\n",
       "      <td>9.0</td>\n",
       "      <td>11.0</td>\n",
       "      <td>0.0</td>\n",
       "      <td>0.0</td>\n",
       "      <td>0.0</td>\n",
       "      <td>1973.0</td>\n",
       "      <td>0.0</td>\n",
       "      <td>10.0</td>\n",
       "      <td>0.0</td>\n",
       "      <td>0.0</td>\n",
       "      <td>2.0</td>\n",
       "      <td>3.0</td>\n",
       "      <td>13.0</td>\n",
       "    </tr>\n",
       "    <tr>\n",
       "      <th>2</th>\n",
       "      <td>201700000001</td>\n",
       "      <td>1.0</td>\n",
       "      <td>1</td>\n",
       "      <td>3</td>\n",
       "      <td>1</td>\n",
       "      <td>1.0</td>\n",
       "      <td>13.0</td>\n",
       "      <td>0.0</td>\n",
       "      <td>0.0</td>\n",
       "      <td>0.0</td>\n",
       "      <td>1967.0</td>\n",
       "      <td>0.0</td>\n",
       "      <td>7.0</td>\n",
       "      <td>0.0</td>\n",
       "      <td>0.0</td>\n",
       "      <td>0.0</td>\n",
       "      <td>1.0</td>\n",
       "      <td>16.0</td>\n",
       "    </tr>\n",
       "    <tr>\n",
       "      <th>3</th>\n",
       "      <td>201700000002</td>\n",
       "      <td>1.0</td>\n",
       "      <td>1</td>\n",
       "      <td>1</td>\n",
       "      <td>1</td>\n",
       "      <td>0.0</td>\n",
       "      <td>11.0</td>\n",
       "      <td>0.0</td>\n",
       "      <td>0.0</td>\n",
       "      <td>0.0</td>\n",
       "      <td>1953.0</td>\n",
       "      <td>0.0</td>\n",
       "      <td>1.0</td>\n",
       "      <td>0.0</td>\n",
       "      <td>0.0</td>\n",
       "      <td>0.0</td>\n",
       "      <td>7.0</td>\n",
       "      <td>1.0</td>\n",
       "    </tr>\n",
       "    <tr>\n",
       "      <th>4</th>\n",
       "      <td>201700000002</td>\n",
       "      <td>1.0</td>\n",
       "      <td>1</td>\n",
       "      <td>3</td>\n",
       "      <td>1</td>\n",
       "      <td>5.0</td>\n",
       "      <td>22.0</td>\n",
       "      <td>0.0</td>\n",
       "      <td>0.0</td>\n",
       "      <td>0.0</td>\n",
       "      <td>1960.0</td>\n",
       "      <td>0.0</td>\n",
       "      <td>10.0</td>\n",
       "      <td>0.0</td>\n",
       "      <td>0.0</td>\n",
       "      <td>2.0</td>\n",
       "      <td>1.0</td>\n",
       "      <td>1.0</td>\n",
       "    </tr>\n",
       "    <tr>\n",
       "      <th>...</th>\n",
       "      <td>...</td>\n",
       "      <td>...</td>\n",
       "      <td>...</td>\n",
       "      <td>...</td>\n",
       "      <td>...</td>\n",
       "      <td>...</td>\n",
       "      <td>...</td>\n",
       "      <td>...</td>\n",
       "      <td>...</td>\n",
       "      <td>...</td>\n",
       "      <td>...</td>\n",
       "      <td>...</td>\n",
       "      <td>...</td>\n",
       "      <td>...</td>\n",
       "      <td>...</td>\n",
       "      <td>...</td>\n",
       "      <td>...</td>\n",
       "      <td>...</td>\n",
       "    </tr>\n",
       "    <tr>\n",
       "      <th>136016</th>\n",
       "      <td>201700060699</td>\n",
       "      <td>1.0</td>\n",
       "      <td>1</td>\n",
       "      <td>1</td>\n",
       "      <td>2</td>\n",
       "      <td>9.0</td>\n",
       "      <td>11.0</td>\n",
       "      <td>0.0</td>\n",
       "      <td>0.0</td>\n",
       "      <td>0.0</td>\n",
       "      <td>1974.0</td>\n",
       "      <td>NaN</td>\n",
       "      <td>NaN</td>\n",
       "      <td>NaN</td>\n",
       "      <td>NaN</td>\n",
       "      <td>NaN</td>\n",
       "      <td>NaN</td>\n",
       "      <td>NaN</td>\n",
       "    </tr>\n",
       "    <tr>\n",
       "      <th>136017</th>\n",
       "      <td>201700060700</td>\n",
       "      <td>1.0</td>\n",
       "      <td>1</td>\n",
       "      <td>1</td>\n",
       "      <td>2</td>\n",
       "      <td>9.0</td>\n",
       "      <td>11.0</td>\n",
       "      <td>0.0</td>\n",
       "      <td>0.0</td>\n",
       "      <td>0.0</td>\n",
       "      <td>1987.0</td>\n",
       "      <td>NaN</td>\n",
       "      <td>NaN</td>\n",
       "      <td>NaN</td>\n",
       "      <td>NaN</td>\n",
       "      <td>NaN</td>\n",
       "      <td>NaN</td>\n",
       "      <td>NaN</td>\n",
       "    </tr>\n",
       "    <tr>\n",
       "      <th>136018</th>\n",
       "      <td>201700060700</td>\n",
       "      <td>1.0</td>\n",
       "      <td>1</td>\n",
       "      <td>4</td>\n",
       "      <td>1</td>\n",
       "      <td>9.0</td>\n",
       "      <td>21.0</td>\n",
       "      <td>0.0</td>\n",
       "      <td>0.0</td>\n",
       "      <td>0.0</td>\n",
       "      <td>1991.0</td>\n",
       "      <td>NaN</td>\n",
       "      <td>NaN</td>\n",
       "      <td>NaN</td>\n",
       "      <td>NaN</td>\n",
       "      <td>NaN</td>\n",
       "      <td>NaN</td>\n",
       "      <td>NaN</td>\n",
       "    </tr>\n",
       "    <tr>\n",
       "      <th>136019</th>\n",
       "      <td>201700060700</td>\n",
       "      <td>2.0</td>\n",
       "      <td>2</td>\n",
       "      <td>4</td>\n",
       "      <td>2</td>\n",
       "      <td>9.0</td>\n",
       "      <td>21.0</td>\n",
       "      <td>0.0</td>\n",
       "      <td>0.0</td>\n",
       "      <td>0.0</td>\n",
       "      <td>1990.0</td>\n",
       "      <td>NaN</td>\n",
       "      <td>NaN</td>\n",
       "      <td>NaN</td>\n",
       "      <td>NaN</td>\n",
       "      <td>NaN</td>\n",
       "      <td>NaN</td>\n",
       "      <td>NaN</td>\n",
       "    </tr>\n",
       "    <tr>\n",
       "      <th>136020</th>\n",
       "      <td>201700060701</td>\n",
       "      <td>1.0</td>\n",
       "      <td>1</td>\n",
       "      <td>4</td>\n",
       "      <td>1</td>\n",
       "      <td>1.0</td>\n",
       "      <td>21.0</td>\n",
       "      <td>0.0</td>\n",
       "      <td>0.0</td>\n",
       "      <td>0.0</td>\n",
       "      <td>1992.0</td>\n",
       "      <td>NaN</td>\n",
       "      <td>NaN</td>\n",
       "      <td>NaN</td>\n",
       "      <td>NaN</td>\n",
       "      <td>NaN</td>\n",
       "      <td>NaN</td>\n",
       "      <td>NaN</td>\n",
       "    </tr>\n",
       "  </tbody>\n",
       "</table>\n",
       "<p>136021 rows × 18 columns</p>\n",
       "</div>"
      ],
      "text/plain": [
       "             Num_Acc  place  catu  grav  sexe  trajet  secu  locp  actp  \\\n",
       "0       201700000001    1.0     1     3     1     9.0  13.0   0.0   0.0   \n",
       "1       201700000001    2.0     2     3     2     9.0  11.0   0.0   0.0   \n",
       "2       201700000001    1.0     1     3     1     1.0  13.0   0.0   0.0   \n",
       "3       201700000002    1.0     1     1     1     0.0  11.0   0.0   0.0   \n",
       "4       201700000002    1.0     1     3     1     5.0  22.0   0.0   0.0   \n",
       "...              ...    ...   ...   ...   ...     ...   ...   ...   ...   \n",
       "136016  201700060699    1.0     1     1     2     9.0  11.0   0.0   0.0   \n",
       "136017  201700060700    1.0     1     1     2     9.0  11.0   0.0   0.0   \n",
       "136018  201700060700    1.0     1     4     1     9.0  21.0   0.0   0.0   \n",
       "136019  201700060700    2.0     2     4     2     9.0  21.0   0.0   0.0   \n",
       "136020  201700060701    1.0     1     4     1     1.0  21.0   0.0   0.0   \n",
       "\n",
       "        etatp  an_nais  senc  catv  occutc  obs  obsm  choc  manv  \n",
       "0         0.0   1968.0   0.0   7.0     0.0  0.0   2.0   3.0   9.0  \n",
       "1         0.0   1973.0   0.0  10.0     0.0  0.0   2.0   3.0  13.0  \n",
       "2         0.0   1967.0   0.0   7.0     0.0  0.0   0.0   1.0  16.0  \n",
       "3         0.0   1953.0   0.0   1.0     0.0  0.0   0.0   7.0   1.0  \n",
       "4         0.0   1960.0   0.0  10.0     0.0  0.0   2.0   1.0   1.0  \n",
       "...       ...      ...   ...   ...     ...  ...   ...   ...   ...  \n",
       "136016    0.0   1974.0   NaN   NaN     NaN  NaN   NaN   NaN   NaN  \n",
       "136017    0.0   1987.0   NaN   NaN     NaN  NaN   NaN   NaN   NaN  \n",
       "136018    0.0   1991.0   NaN   NaN     NaN  NaN   NaN   NaN   NaN  \n",
       "136019    0.0   1990.0   NaN   NaN     NaN  NaN   NaN   NaN   NaN  \n",
       "136020    0.0   1992.0   NaN   NaN     NaN  NaN   NaN   NaN   NaN  \n",
       "\n",
       "[136021 rows x 18 columns]"
      ]
     },
<<<<<<< Updated upstream
     "execution_count": 13,
=======
     "execution_count": 8,
>>>>>>> Stashed changes
     "metadata": {},
     "output_type": "execute_result"
    }
   ],
   "source": [
    "\n",
    "df = df_total.loc[:, df_total.isnull().mean() < .5]\n",
    "\n",
    "#Also we remove the colums in named \"num_veh\" because we will not need it and it's not numerical values   \n",
    "df = df.loc[:,~df.columns.duplicated()]\n",
    "df.drop(['num_veh'], axis=1, inplace=True)\n",
    "\n",
    "df"
   ]
  },
  {
   "cell_type": "markdown",
   "id": "5c4157e8-543f-4428-8803-7bd30cfa2fa1",
   "metadata": {},
   "source": [
    "4. Supprimer les variables dont la majorité des observations sont manquantes"
   ]
  },
  {
   "cell_type": "code",
<<<<<<< Updated upstream
   "execution_count": 14,
=======
   "execution_count": 9,
>>>>>>> Stashed changes
   "id": "2dcb3008-d789-4edd-8583-b08538003001",
   "metadata": {},
   "outputs": [
    {
     "name": "stdout",
     "output_type": "stream",
     "text": [
      "Removing column  locp\n",
      "Removing column  actp\n",
      "Removing column  etatp\n",
      "Removing column  occutc\n",
      "Removing column  obs\n"
     ]
    },
    {
     "data": {
      "text/html": [
       "<div>\n",
       "<style scoped>\n",
       "    .dataframe tbody tr th:only-of-type {\n",
       "        vertical-align: middle;\n",
       "    }\n",
       "\n",
       "    .dataframe tbody tr th {\n",
       "        vertical-align: top;\n",
       "    }\n",
       "\n",
       "    .dataframe thead th {\n",
       "        text-align: right;\n",
       "    }\n",
       "</style>\n",
       "<table border=\"1\" class=\"dataframe\">\n",
       "  <thead>\n",
       "    <tr style=\"text-align: right;\">\n",
       "      <th></th>\n",
       "      <th>Num_Acc</th>\n",
       "      <th>place</th>\n",
       "      <th>catu</th>\n",
       "      <th>grav</th>\n",
       "      <th>sexe</th>\n",
       "      <th>trajet</th>\n",
       "      <th>secu</th>\n",
       "      <th>an_nais</th>\n",
       "      <th>senc</th>\n",
       "      <th>catv</th>\n",
       "      <th>obsm</th>\n",
       "      <th>choc</th>\n",
       "      <th>manv</th>\n",
       "    </tr>\n",
       "  </thead>\n",
       "  <tbody>\n",
       "    <tr>\n",
       "      <th>0</th>\n",
       "      <td>201700000001</td>\n",
       "      <td>1.0</td>\n",
       "      <td>1</td>\n",
       "      <td>3</td>\n",
       "      <td>1</td>\n",
       "      <td>9.0</td>\n",
       "      <td>13.0</td>\n",
       "      <td>1968.0</td>\n",
       "      <td>0.0</td>\n",
       "      <td>7.0</td>\n",
       "      <td>2.0</td>\n",
       "      <td>3.0</td>\n",
       "      <td>9.0</td>\n",
       "    </tr>\n",
       "    <tr>\n",
       "      <th>1</th>\n",
       "      <td>201700000001</td>\n",
       "      <td>2.0</td>\n",
       "      <td>2</td>\n",
       "      <td>3</td>\n",
       "      <td>2</td>\n",
       "      <td>9.0</td>\n",
       "      <td>11.0</td>\n",
       "      <td>1973.0</td>\n",
       "      <td>0.0</td>\n",
       "      <td>10.0</td>\n",
       "      <td>2.0</td>\n",
       "      <td>3.0</td>\n",
       "      <td>13.0</td>\n",
       "    </tr>\n",
       "    <tr>\n",
       "      <th>2</th>\n",
       "      <td>201700000001</td>\n",
       "      <td>1.0</td>\n",
       "      <td>1</td>\n",
       "      <td>3</td>\n",
       "      <td>1</td>\n",
       "      <td>1.0</td>\n",
       "      <td>13.0</td>\n",
       "      <td>1967.0</td>\n",
       "      <td>0.0</td>\n",
       "      <td>7.0</td>\n",
       "      <td>0.0</td>\n",
       "      <td>1.0</td>\n",
       "      <td>16.0</td>\n",
       "    </tr>\n",
       "    <tr>\n",
       "      <th>3</th>\n",
       "      <td>201700000002</td>\n",
       "      <td>1.0</td>\n",
       "      <td>1</td>\n",
       "      <td>1</td>\n",
       "      <td>1</td>\n",
       "      <td>0.0</td>\n",
       "      <td>11.0</td>\n",
       "      <td>1953.0</td>\n",
       "      <td>0.0</td>\n",
       "      <td>1.0</td>\n",
       "      <td>0.0</td>\n",
       "      <td>7.0</td>\n",
       "      <td>1.0</td>\n",
       "    </tr>\n",
       "    <tr>\n",
       "      <th>4</th>\n",
       "      <td>201700000002</td>\n",
       "      <td>1.0</td>\n",
       "      <td>1</td>\n",
       "      <td>3</td>\n",
       "      <td>1</td>\n",
       "      <td>5.0</td>\n",
       "      <td>22.0</td>\n",
       "      <td>1960.0</td>\n",
       "      <td>0.0</td>\n",
       "      <td>10.0</td>\n",
       "      <td>2.0</td>\n",
       "      <td>1.0</td>\n",
       "      <td>1.0</td>\n",
       "    </tr>\n",
       "    <tr>\n",
       "      <th>...</th>\n",
       "      <td>...</td>\n",
       "      <td>...</td>\n",
       "      <td>...</td>\n",
       "      <td>...</td>\n",
       "      <td>...</td>\n",
       "      <td>...</td>\n",
       "      <td>...</td>\n",
       "      <td>...</td>\n",
       "      <td>...</td>\n",
       "      <td>...</td>\n",
       "      <td>...</td>\n",
       "      <td>...</td>\n",
       "      <td>...</td>\n",
       "    </tr>\n",
       "    <tr>\n",
       "      <th>136016</th>\n",
       "      <td>201700060699</td>\n",
       "      <td>1.0</td>\n",
       "      <td>1</td>\n",
       "      <td>1</td>\n",
       "      <td>2</td>\n",
       "      <td>9.0</td>\n",
       "      <td>11.0</td>\n",
       "      <td>1974.0</td>\n",
       "      <td>NaN</td>\n",
       "      <td>NaN</td>\n",
       "      <td>NaN</td>\n",
       "      <td>NaN</td>\n",
       "      <td>NaN</td>\n",
       "    </tr>\n",
       "    <tr>\n",
       "      <th>136017</th>\n",
       "      <td>201700060700</td>\n",
       "      <td>1.0</td>\n",
       "      <td>1</td>\n",
       "      <td>1</td>\n",
       "      <td>2</td>\n",
       "      <td>9.0</td>\n",
       "      <td>11.0</td>\n",
       "      <td>1987.0</td>\n",
       "      <td>NaN</td>\n",
       "      <td>NaN</td>\n",
       "      <td>NaN</td>\n",
       "      <td>NaN</td>\n",
       "      <td>NaN</td>\n",
       "    </tr>\n",
       "    <tr>\n",
       "      <th>136018</th>\n",
       "      <td>201700060700</td>\n",
       "      <td>1.0</td>\n",
       "      <td>1</td>\n",
       "      <td>4</td>\n",
       "      <td>1</td>\n",
       "      <td>9.0</td>\n",
       "      <td>21.0</td>\n",
       "      <td>1991.0</td>\n",
       "      <td>NaN</td>\n",
       "      <td>NaN</td>\n",
       "      <td>NaN</td>\n",
       "      <td>NaN</td>\n",
       "      <td>NaN</td>\n",
       "    </tr>\n",
       "    <tr>\n",
       "      <th>136019</th>\n",
       "      <td>201700060700</td>\n",
       "      <td>2.0</td>\n",
       "      <td>2</td>\n",
       "      <td>4</td>\n",
       "      <td>2</td>\n",
       "      <td>9.0</td>\n",
       "      <td>21.0</td>\n",
       "      <td>1990.0</td>\n",
       "      <td>NaN</td>\n",
       "      <td>NaN</td>\n",
       "      <td>NaN</td>\n",
       "      <td>NaN</td>\n",
       "      <td>NaN</td>\n",
       "    </tr>\n",
       "    <tr>\n",
       "      <th>136020</th>\n",
       "      <td>201700060701</td>\n",
       "      <td>1.0</td>\n",
       "      <td>1</td>\n",
       "      <td>4</td>\n",
       "      <td>1</td>\n",
       "      <td>1.0</td>\n",
       "      <td>21.0</td>\n",
       "      <td>1992.0</td>\n",
       "      <td>NaN</td>\n",
       "      <td>NaN</td>\n",
       "      <td>NaN</td>\n",
       "      <td>NaN</td>\n",
       "      <td>NaN</td>\n",
       "    </tr>\n",
       "  </tbody>\n",
       "</table>\n",
       "<p>136021 rows × 13 columns</p>\n",
       "</div>"
      ],
      "text/plain": [
       "             Num_Acc  place  catu  grav  sexe  trajet  secu  an_nais  senc  \\\n",
       "0       201700000001    1.0     1     3     1     9.0  13.0   1968.0   0.0   \n",
       "1       201700000001    2.0     2     3     2     9.0  11.0   1973.0   0.0   \n",
       "2       201700000001    1.0     1     3     1     1.0  13.0   1967.0   0.0   \n",
       "3       201700000002    1.0     1     1     1     0.0  11.0   1953.0   0.0   \n",
       "4       201700000002    1.0     1     3     1     5.0  22.0   1960.0   0.0   \n",
       "...              ...    ...   ...   ...   ...     ...   ...      ...   ...   \n",
       "136016  201700060699    1.0     1     1     2     9.0  11.0   1974.0   NaN   \n",
       "136017  201700060700    1.0     1     1     2     9.0  11.0   1987.0   NaN   \n",
       "136018  201700060700    1.0     1     4     1     9.0  21.0   1991.0   NaN   \n",
       "136019  201700060700    2.0     2     4     2     9.0  21.0   1990.0   NaN   \n",
       "136020  201700060701    1.0     1     4     1     1.0  21.0   1992.0   NaN   \n",
       "\n",
       "        catv  obsm  choc  manv  \n",
       "0        7.0   2.0   3.0   9.0  \n",
       "1       10.0   2.0   3.0  13.0  \n",
       "2        7.0   0.0   1.0  16.0  \n",
       "3        1.0   0.0   7.0   1.0  \n",
       "4       10.0   2.0   1.0   1.0  \n",
       "...      ...   ...   ...   ...  \n",
       "136016   NaN   NaN   NaN   NaN  \n",
       "136017   NaN   NaN   NaN   NaN  \n",
       "136018   NaN   NaN   NaN   NaN  \n",
       "136019   NaN   NaN   NaN   NaN  \n",
       "136020   NaN   NaN   NaN   NaN  \n",
       "\n",
       "[136021 rows x 13 columns]"
      ]
     },
<<<<<<< Updated upstream
     "execution_count": 14,
=======
     "execution_count": 9,
>>>>>>> Stashed changes
     "metadata": {},
     "output_type": "execute_result"
    }
   ],
   "source": [
    "# Count number of zeros in all columns of Dataframe\n",
    "for column_name in df.columns:\n",
    "    shape=df.shape[0]\n",
    "    column = df[column_name]\n",
    "    # Get the count of Zeros in column \n",
    "    count = (column == 0).sum()\n",
    "    pct=count/df.shape[0]\n",
    "    if(isinstance(pct, pd.Series)):\n",
    "        print(\"Can't process Series...\")\n",
    "    elif(pct > 0.5):\n",
    "        df.drop([column_name], axis=1, inplace=True)\n",
    "        print(\"Removing column \", column_name)\n",
    "    \n",
    "df"
   ]
  },
  {
   "cell_type": "markdown",
   "id": "a08aebc4-ccf4-45ad-8100-a5d3570b0f0e",
   "metadata": {},
   "source": [
    "5. Remplir les valeurs NaN par différentes méthodes"
   ]
  },
  {
   "cell_type": "code",
<<<<<<< Updated upstream
   "execution_count": 15,
=======
   "execution_count": 10,
>>>>>>> Stashed changes
   "id": "a7298fcc-a803-4d81-89f2-909b42520370",
   "metadata": {},
   "outputs": [
    {
     "name": "stdout",
     "output_type": "stream",
     "text": [
      "Num_Acc        0\n",
      "place      11802\n",
      "catu           0\n",
      "grav           0\n",
      "sexe           0\n",
      "trajet        11\n",
      "secu        8950\n",
      "an_nais       37\n",
      "senc       32543\n",
      "catv       32475\n",
      "obsm       32517\n",
      "choc       32510\n",
      "manv       32505\n",
      "dtype: int64\n",
      "183350\n",
      "0\n",
      "Num_Acc    0\n",
      "place      0\n",
      "catu       0\n",
      "grav       0\n",
      "sexe       0\n",
      "trajet     0\n",
      "secu       0\n",
      "an_nais    0\n",
      "senc       0\n",
      "catv       0\n",
      "obsm       0\n",
      "choc       0\n",
      "manv       0\n",
      "dtype: int64\n"
     ]
    }
   ],
   "source": [
    "def fill_nas_by_type(df, col_name):\n",
    "    \"\"\"Fill null values in df according to col_name type\n",
    "    \n",
    "    Parameters\n",
    "    ----------\n",
    "    df : dataframe, (default=None)\n",
    "        input dataframe\n",
    "    col_name : str, (default=None)\n",
    "        column with null values to fill\n",
    "        \n",
    "    Returns\n",
    "    -------\n",
    "    df with filled values in col_name\n",
    "    \"\"\"\n",
    "    if (col_name == \"trajet\"):\n",
    "        df[col_name] = df[col_name].fillna(value=9)\n",
    "    elif (col_name == \"place\"):\n",
    "        df[col_name] = df[col_name].fillna(df[col_name].value_counts()[:1].index.tolist()[0])\n",
    "    elif (col_name == \"an_nais\"):\n",
    "        df[col_name] = df[col_name].fillna(float(df[col_name].median()))\n",
    "    elif (col_name == \"catv\"):\n",
    "        df[col_name] = df[col_name].fillna(value=99)\n",
    "    elif (col_name == \"obsm\"):\n",
    "        df[col_name] = df[col_name].fillna(value=99)\n",
    "    elif (col_name == \"choc\"):\n",
    "        df[col_name] = df[col_name].fillna(value=9)\n",
    "    elif (col_name == \"manv\"):\n",
    "        df[col_name] = df[col_name].fillna(value=25)\n",
    "    elif (col_name == \"senc\"):\n",
    "        df[col_name] = df[col_name].fillna(df[col_name].value_counts()[:1].index.tolist()[0])\n",
    "    elif (col_name == \"num_veh\"):\n",
    "        df[col_name] = df[col_name].iloc[:, 0].fillna(pd.Series(np.random.choice(['A01', 'B01', 'C01'], p=[0.52, 0.30, 0.18], size=len(df))))\n",
    "        df[col_name] = df[col_name].iloc[:, 1].fillna(pd.Series(np.random.choice(['A01', 'B01', 'C01'], p=[0.52, 0.30, 0.18], size=len(df))))\n",
    "    elif (col_name == \"Num_Acc\"):\n",
    "        df[col_name] = df[col_name].fillna(method='ffill')\n",
    "    elif (col_name == \"secu\"):\n",
    "        df[col_name] = df[col_name].fillna(df[col_name].value_counts()[:1].index.tolist()[0])\n",
    "    return df\n",
    "\n",
    "cols_to_fill = list(df.columns)\n",
    "\n",
    "print(df.isnull().sum(axis = 0))\n",
    "\n",
    "print(df.isnull().sum().sum())\n",
    "for x in cols_to_fill:\n",
    "    df = fill_nas_by_type(df, x)\n",
    "print(df.isnull().sum().sum())\n",
    "print(df.isnull().sum(axis = 0))"
   ]
  },
  {
   "cell_type": "markdown",
   "id": "d60f6098-892c-427d-bbab-47eb8cc14f91",
   "metadata": {},
   "source": [
    "6. Analyser les données par les statistiques (min, max, médiane)"
   ]
  },
  {
   "cell_type": "code",
<<<<<<< Updated upstream
   "execution_count": 16,
=======
   "execution_count": 11,
>>>>>>> Stashed changes
   "id": "1f269676-c715-4fe3-9f7b-3caa66a60860",
   "metadata": {},
   "outputs": [
    {
     "name": "stdout",
     "output_type": "stream",
     "text": [
      "Column: place\n",
      "count    136021.000000\n",
      "mean          1.393300\n",
      "std           1.233188\n",
      "min           1.000000\n",
      "25%           1.000000\n",
      "50%           1.000000\n",
      "75%           1.000000\n",
      "max           9.000000\n",
      "Name: place, dtype: float64\n",
      "\n",
      " \n",
      "\n",
      "Column: catu\n",
      "count    136021.000000\n",
      "mean          1.349814\n",
      "std           0.639996\n",
      "min           1.000000\n",
      "25%           1.000000\n",
      "50%           1.000000\n",
      "75%           2.000000\n",
      "max           4.000000\n",
      "Name: catu, dtype: float64\n",
      "\n",
      " \n",
      "\n",
      "Column: grav\n",
      "count    136021.000000\n",
      "mean          2.492858\n",
      "std           1.330687\n",
      "min           1.000000\n",
      "25%           1.000000\n",
      "50%           3.000000\n",
      "75%           4.000000\n",
      "max           4.000000\n",
      "Name: grav, dtype: float64\n",
      "\n",
      " \n",
      "\n",
      "Column: sexe\n",
      "count    136021.000000\n",
      "mean          1.323016\n",
      "std           0.467631\n",
      "min           1.000000\n",
      "25%           1.000000\n",
      "50%           1.000000\n",
      "75%           2.000000\n",
      "max           2.000000\n",
      "Name: sexe, dtype: float64\n",
      "\n",
      " \n",
      "\n",
      "Column: trajet\n",
      "count    136021.000000\n",
      "mean          3.476713\n",
      "std           2.647390\n",
      "min           0.000000\n",
      "25%           1.000000\n",
      "50%           4.000000\n",
      "75%           5.000000\n",
      "max           9.000000\n",
      "Name: trajet, dtype: float64\n",
      "\n",
      " \n",
      "\n",
      "Column: secu\n",
      "count    136021.000000\n",
      "mean         17.393175\n",
      "std          17.277594\n",
      "min           1.000000\n",
      "25%          11.000000\n",
      "50%          11.000000\n",
      "75%          21.000000\n",
      "max          93.000000\n",
      "Name: secu, dtype: float64\n",
      "\n",
      " \n",
      "\n",
      "Column: an_nais\n",
      "count    136021.000000\n",
      "mean       1978.317797\n",
      "std          18.883170\n",
      "min        1914.000000\n",
      "25%        1965.000000\n",
      "50%        1982.000000\n",
      "75%        1993.000000\n",
      "max        2017.000000\n",
      "Name: an_nais, dtype: float64\n",
      "\n",
      " \n",
      "\n",
      "Column: senc\n",
      "count    136021.000000\n",
      "mean          1.114401\n",
      "std           0.612836\n",
      "min           0.000000\n",
      "25%           1.000000\n",
      "50%           1.000000\n",
      "75%           2.000000\n",
      "max           2.000000\n",
      "Name: senc, dtype: float64\n",
      "\n",
      " \n",
      "\n",
      "Column: catv\n",
      "count    136021.000000\n",
      "mean         32.817205\n",
      "std          38.390817\n",
      "min           1.000000\n",
      "25%           7.000000\n",
      "50%           7.000000\n",
      "75%          36.000000\n",
      "max          99.000000\n",
      "Name: catv, dtype: float64\n",
      "\n",
      " \n",
      "\n",
      "Column: obsm\n",
      "count    136021.000000\n",
      "mean         24.930540\n",
      "std          41.530365\n",
      "min           0.000000\n",
      "25%           2.000000\n",
      "50%           2.000000\n",
      "75%           9.000000\n",
      "max          99.000000\n",
      "Name: obsm, dtype: float64\n",
      "\n",
      " \n",
      "\n",
      "Column: choc\n",
      "count    136021.000000\n",
      "mean          4.377677\n",
      "std           3.353667\n",
      "min           0.000000\n",
      "25%           1.000000\n",
      "50%           3.000000\n",
      "75%           9.000000\n",
      "max           9.000000\n",
      "Name: choc, dtype: float64\n",
      "\n",
      " \n",
      "\n",
      "Column: manv\n",
      "count    136021.000000\n",
      "mean         10.862845\n",
      "std          10.156319\n",
      "min           0.000000\n",
      "25%           1.000000\n",
      "50%           9.000000\n",
      "75%          23.000000\n",
      "max          25.000000\n",
      "Name: manv, dtype: float64\n",
      "\n",
      " \n",
      "\n"
     ]
    }
   ],
   "source": [
    "## TO DO\n",
    "\n",
    "for col_name in df.columns:\n",
    "    \n",
    "    if(col_name != \"Num_Acc\"):\n",
    "        print(\"Column: \" + col_name)\n",
    "\n",
    "        print(df[col_name].describe())\n",
    "        print(\"\\n \\n\")"
   ]
  },
  {
   "cell_type": "markdown",
   "id": "86dcddf0-1b40-404f-a2b5-68e1816bec31",
   "metadata": {},
   "source": [
    "7. Expliquer la gravité des accidents en fonction des autres variables (créer une nouvelle variable \"mortalité\" qui indique si la victime est décédée ou non suite à l'accident : tué=1 non=0)"
   ]
  },
  {
   "cell_type": "code",
<<<<<<< Updated upstream
   "execution_count": 17,
=======
   "execution_count": 12,
>>>>>>> Stashed changes
   "id": "0a0c4ed9-f654-4858-b583-a3ec0db0a3e1",
   "metadata": {},
   "outputs": [
    {
     "data": {
      "text/html": [
       "<div>\n",
       "<style scoped>\n",
       "    .dataframe tbody tr th:only-of-type {\n",
       "        vertical-align: middle;\n",
       "    }\n",
       "\n",
       "    .dataframe tbody tr th {\n",
       "        vertical-align: top;\n",
       "    }\n",
       "\n",
       "    .dataframe thead th {\n",
       "        text-align: right;\n",
       "    }\n",
       "</style>\n",
       "<table border=\"1\" class=\"dataframe\">\n",
       "  <thead>\n",
       "    <tr style=\"text-align: right;\">\n",
       "      <th></th>\n",
       "      <th>Num_Acc</th>\n",
       "      <th>place</th>\n",
       "      <th>catu</th>\n",
       "      <th>grav</th>\n",
       "      <th>sexe</th>\n",
       "      <th>trajet</th>\n",
       "      <th>secu</th>\n",
       "      <th>an_nais</th>\n",
       "      <th>senc</th>\n",
       "      <th>catv</th>\n",
       "      <th>obsm</th>\n",
       "      <th>choc</th>\n",
       "      <th>manv</th>\n",
       "      <th>mortalite</th>\n",
       "    </tr>\n",
       "  </thead>\n",
       "  <tbody>\n",
       "    <tr>\n",
       "      <th>0</th>\n",
       "      <td>201700000001</td>\n",
       "      <td>1.0</td>\n",
       "      <td>1</td>\n",
       "      <td>3</td>\n",
       "      <td>1</td>\n",
       "      <td>9.0</td>\n",
       "      <td>13.0</td>\n",
       "      <td>1968.0</td>\n",
       "      <td>0.0</td>\n",
       "      <td>7.0</td>\n",
       "      <td>2.0</td>\n",
       "      <td>3.0</td>\n",
       "      <td>9.0</td>\n",
       "      <td>0.0</td>\n",
       "    </tr>\n",
       "    <tr>\n",
       "      <th>1</th>\n",
       "      <td>201700000001</td>\n",
       "      <td>2.0</td>\n",
       "      <td>2</td>\n",
       "      <td>3</td>\n",
       "      <td>2</td>\n",
       "      <td>9.0</td>\n",
       "      <td>11.0</td>\n",
       "      <td>1973.0</td>\n",
       "      <td>0.0</td>\n",
       "      <td>10.0</td>\n",
       "      <td>2.0</td>\n",
       "      <td>3.0</td>\n",
       "      <td>13.0</td>\n",
       "      <td>0.0</td>\n",
       "    </tr>\n",
       "    <tr>\n",
       "      <th>2</th>\n",
       "      <td>201700000001</td>\n",
       "      <td>1.0</td>\n",
       "      <td>1</td>\n",
       "      <td>3</td>\n",
       "      <td>1</td>\n",
       "      <td>1.0</td>\n",
       "      <td>13.0</td>\n",
       "      <td>1967.0</td>\n",
       "      <td>0.0</td>\n",
       "      <td>7.0</td>\n",
       "      <td>0.0</td>\n",
       "      <td>1.0</td>\n",
       "      <td>16.0</td>\n",
       "      <td>0.0</td>\n",
       "    </tr>\n",
       "    <tr>\n",
       "      <th>3</th>\n",
       "      <td>201700000002</td>\n",
       "      <td>1.0</td>\n",
       "      <td>1</td>\n",
       "      <td>1</td>\n",
       "      <td>1</td>\n",
       "      <td>0.0</td>\n",
       "      <td>11.0</td>\n",
       "      <td>1953.0</td>\n",
       "      <td>0.0</td>\n",
       "      <td>1.0</td>\n",
       "      <td>0.0</td>\n",
       "      <td>7.0</td>\n",
       "      <td>1.0</td>\n",
       "      <td>0.0</td>\n",
       "    </tr>\n",
       "    <tr>\n",
       "      <th>4</th>\n",
       "      <td>201700000002</td>\n",
       "      <td>1.0</td>\n",
       "      <td>1</td>\n",
       "      <td>3</td>\n",
       "      <td>1</td>\n",
       "      <td>5.0</td>\n",
       "      <td>22.0</td>\n",
       "      <td>1960.0</td>\n",
       "      <td>0.0</td>\n",
       "      <td>10.0</td>\n",
       "      <td>2.0</td>\n",
       "      <td>1.0</td>\n",
       "      <td>1.0</td>\n",
       "      <td>0.0</td>\n",
       "    </tr>\n",
       "    <tr>\n",
       "      <th>...</th>\n",
       "      <td>...</td>\n",
       "      <td>...</td>\n",
       "      <td>...</td>\n",
       "      <td>...</td>\n",
       "      <td>...</td>\n",
       "      <td>...</td>\n",
       "      <td>...</td>\n",
       "      <td>...</td>\n",
       "      <td>...</td>\n",
       "      <td>...</td>\n",
       "      <td>...</td>\n",
       "      <td>...</td>\n",
       "      <td>...</td>\n",
       "      <td>...</td>\n",
       "    </tr>\n",
       "    <tr>\n",
       "      <th>136016</th>\n",
       "      <td>201700060699</td>\n",
       "      <td>1.0</td>\n",
       "      <td>1</td>\n",
       "      <td>1</td>\n",
       "      <td>2</td>\n",
       "      <td>9.0</td>\n",
       "      <td>11.0</td>\n",
       "      <td>1974.0</td>\n",
       "      <td>1.0</td>\n",
       "      <td>99.0</td>\n",
       "      <td>99.0</td>\n",
       "      <td>9.0</td>\n",
       "      <td>25.0</td>\n",
       "      <td>0.0</td>\n",
       "    </tr>\n",
       "    <tr>\n",
       "      <th>136017</th>\n",
       "      <td>201700060700</td>\n",
       "      <td>1.0</td>\n",
       "      <td>1</td>\n",
       "      <td>1</td>\n",
       "      <td>2</td>\n",
       "      <td>9.0</td>\n",
       "      <td>11.0</td>\n",
       "      <td>1987.0</td>\n",
       "      <td>1.0</td>\n",
       "      <td>99.0</td>\n",
       "      <td>99.0</td>\n",
       "      <td>9.0</td>\n",
       "      <td>25.0</td>\n",
       "      <td>0.0</td>\n",
       "    </tr>\n",
       "    <tr>\n",
       "      <th>136018</th>\n",
       "      <td>201700060700</td>\n",
       "      <td>1.0</td>\n",
       "      <td>1</td>\n",
       "      <td>4</td>\n",
       "      <td>1</td>\n",
       "      <td>9.0</td>\n",
       "      <td>21.0</td>\n",
       "      <td>1991.0</td>\n",
       "      <td>1.0</td>\n",
       "      <td>99.0</td>\n",
       "      <td>99.0</td>\n",
       "      <td>9.0</td>\n",
       "      <td>25.0</td>\n",
       "      <td>1.0</td>\n",
       "    </tr>\n",
       "    <tr>\n",
       "      <th>136019</th>\n",
       "      <td>201700060700</td>\n",
       "      <td>2.0</td>\n",
       "      <td>2</td>\n",
       "      <td>4</td>\n",
       "      <td>2</td>\n",
       "      <td>9.0</td>\n",
       "      <td>21.0</td>\n",
       "      <td>1990.0</td>\n",
       "      <td>1.0</td>\n",
       "      <td>99.0</td>\n",
       "      <td>99.0</td>\n",
       "      <td>9.0</td>\n",
       "      <td>25.0</td>\n",
       "      <td>1.0</td>\n",
       "    </tr>\n",
       "    <tr>\n",
       "      <th>136020</th>\n",
       "      <td>201700060701</td>\n",
       "      <td>1.0</td>\n",
       "      <td>1</td>\n",
       "      <td>4</td>\n",
       "      <td>1</td>\n",
       "      <td>1.0</td>\n",
       "      <td>21.0</td>\n",
       "      <td>1992.0</td>\n",
       "      <td>1.0</td>\n",
       "      <td>99.0</td>\n",
       "      <td>99.0</td>\n",
       "      <td>9.0</td>\n",
       "      <td>25.0</td>\n",
       "      <td>1.0</td>\n",
       "    </tr>\n",
       "  </tbody>\n",
       "</table>\n",
       "<p>136021 rows × 14 columns</p>\n",
       "</div>"
      ],
      "text/plain": [
       "             Num_Acc  place  catu  grav  sexe  trajet  secu  an_nais  senc  \\\n",
       "0       201700000001    1.0     1     3     1     9.0  13.0   1968.0   0.0   \n",
       "1       201700000001    2.0     2     3     2     9.0  11.0   1973.0   0.0   \n",
       "2       201700000001    1.0     1     3     1     1.0  13.0   1967.0   0.0   \n",
       "3       201700000002    1.0     1     1     1     0.0  11.0   1953.0   0.0   \n",
       "4       201700000002    1.0     1     3     1     5.0  22.0   1960.0   0.0   \n",
       "...              ...    ...   ...   ...   ...     ...   ...      ...   ...   \n",
       "136016  201700060699    1.0     1     1     2     9.0  11.0   1974.0   1.0   \n",
       "136017  201700060700    1.0     1     1     2     9.0  11.0   1987.0   1.0   \n",
       "136018  201700060700    1.0     1     4     1     9.0  21.0   1991.0   1.0   \n",
       "136019  201700060700    2.0     2     4     2     9.0  21.0   1990.0   1.0   \n",
       "136020  201700060701    1.0     1     4     1     1.0  21.0   1992.0   1.0   \n",
       "\n",
       "        catv  obsm  choc  manv  mortalite  \n",
       "0        7.0   2.0   3.0   9.0        0.0  \n",
       "1       10.0   2.0   3.0  13.0        0.0  \n",
       "2        7.0   0.0   1.0  16.0        0.0  \n",
       "3        1.0   0.0   7.0   1.0        0.0  \n",
       "4       10.0   2.0   1.0   1.0        0.0  \n",
       "...      ...   ...   ...   ...        ...  \n",
       "136016  99.0  99.0   9.0  25.0        0.0  \n",
       "136017  99.0  99.0   9.0  25.0        0.0  \n",
       "136018  99.0  99.0   9.0  25.0        1.0  \n",
       "136019  99.0  99.0   9.0  25.0        1.0  \n",
       "136020  99.0  99.0   9.0  25.0        1.0  \n",
       "\n",
       "[136021 rows x 14 columns]"
      ]
     },
<<<<<<< Updated upstream
     "execution_count": 17,
=======
     "execution_count": 12,
>>>>>>> Stashed changes
     "metadata": {},
     "output_type": "execute_result"
    }
   ],
   "source": [
    "tue = df.grav == 2\n",
    "\n",
    "df['mortalite'] = np.where(tue, 1, np.where(np.logical_not(tue), 0, np.NaN))\n",
    "df"
   ]
  },
  {
   "cell_type": "code",
<<<<<<< Updated upstream
   "execution_count": 18,
=======
   "execution_count": 13,
>>>>>>> Stashed changes
   "id": "3d705d02-fb9d-47c0-aff7-c1bb06dc2571",
   "metadata": {},
   "outputs": [
    {
     "data": {
      "text/plain": [
       "0.0    65.330353\n",
       "1.0    34.669647\n",
       "Name: mortalite, dtype: float64"
      ]
     },
<<<<<<< Updated upstream
     "execution_count": 18,
=======
     "execution_count": 13,
>>>>>>> Stashed changes
     "metadata": {},
     "output_type": "execute_result"
    }
   ],
   "source": [
    "df['mortalite'].value_counts(normalize=True) * 100"
   ]
  },
  {
   "cell_type": "markdown",
   "id": "728c60f6-7342-42cb-be0d-dc63f831e2d3",
   "metadata": {},
   "source": [
    "## II - Visualisation et modélisation"
   ]
  },
  {
   "cell_type": "markdown",
   "id": "5412b25d-babe-4a56-b430-f748cf24cf49",
   "metadata": {},
   "source": [
    "1. Mettre en place les modèles de machine learning pour prédire et classifier la mortalité : Régression logistique, Decision Tree, Random Forest, etc"
   ]
  },
  {
   "cell_type": "code",
<<<<<<< Updated upstream
   "execution_count": 19,
=======
   "execution_count": 14,
>>>>>>> Stashed changes
   "id": "88f225aa-3c90-4ae8-8d44-5a2a8e102f9b",
   "metadata": {},
   "outputs": [
    {
     "name": "stdout",
     "output_type": "stream",
     "text": [
      "train shape (95214, 13) (95214,)\n",
      "test shape (40807, 13) (95214,)\n"
     ]
    }
   ],
   "source": [
    "y = df[\"mortalite\"]\n",
    "x = df.drop('mortalite', axis=1)\n",
    "\n",
    "x_train, x_test, y_train, y_test = train_test_split(x, y, test_size=0.3, random_state=100)\n",
    "print (\"train shape\", x_train.shape, y_train.shape)\n",
    "print (\"test shape\", x_test.shape, y_train.shape)"
   ]
  },
  {
   "cell_type": "markdown",
   "id": "cd98d2b4-e1c9-4980-beba-e63bb2b247bc",
   "metadata": {},
   "source": [
    "**Régression Logistique**"
   ]
  },
  {
   "cell_type": "code",
<<<<<<< Updated upstream
   "execution_count": 38,
=======
   "execution_count": 15,
>>>>>>> Stashed changes
   "id": "334f7217-7256-42be-bc3c-6f2a2edfd9a2",
   "metadata": {},
   "outputs": [
    {
     "name": "stdout",
     "output_type": "stream",
     "text": [
      "Precision \n",
      "65.46425858308623\n"
     ]
    }
   ],
   "source": [
    "modele_regLog = LogisticRegression(random_state = 0, solver = 'liblinear', multi_class = 'auto')\n",
    "modele_regLog.fit(x_train,y_train)\n",
    "precision = modele_regLog.score(x_test,y_test)\n",
    "print(\"Precision \")\n",
    "print(precision*100)\n"
   ]
  },
  {
   "cell_type": "markdown",
   "id": "b90a46d7-378a-4f30-bbff-e0936b5b90ba",
   "metadata": {},
   "source": [
    "**Decision Tree**"
   ]
  },
  {
   "cell_type": "code",
<<<<<<< Updated upstream
   "execution_count": 21,
=======
   "execution_count": 16,
>>>>>>> Stashed changes
   "id": "f26e72c0-4ddd-4617-b801-c80ece13ad1e",
   "metadata": {},
   "outputs": [
    {
     "name": "stdout",
     "output_type": "stream",
     "text": [
      "1.0\n"
     ]
    }
   ],
   "source": [
    "clf = DecisionTreeClassifier()\n",
    "clf.fit(x_train, y_train)\n",
    "\n",
    "predictions = clf.predict(x_test)\n",
    "print(metrics.accuracy_score(y_test, predictions))\n"
   ]
  },
  {
   "cell_type": "code",
<<<<<<< Updated upstream
   "execution_count": 22,
=======
   "execution_count": 17,
>>>>>>> Stashed changes
   "id": "385aa5d5-7140-48db-b13c-46c8855e321a",
   "metadata": {},
   "outputs": [
    {
     "name": "stdout",
     "output_type": "stream",
     "text": [
      "Fitting 5 folds for each of 168 candidates, totalling 840 fits\n",
      "{'criterion': 'gini', 'max_depth': None, 'max_features': None, 'splitter': 'best'}\n"
     ]
    }
   ],
   "source": [
    "from sklearn.model_selection import GridSearchCV\n",
    "\n",
    "params = {\n",
    "    'criterion':  ['gini', 'entropy'],\n",
    "    'max_depth':  [None, 2, 4, 6, 8, 10],\n",
    "    'max_features': [None, 'sqrt', 'log2', 0.2, 0.4, 0.6, 0.8],\n",
    "    'splitter': ['best', 'random']\n",
    "}\n",
    "\n",
    "clf = GridSearchCV(\n",
    "    estimator=DecisionTreeClassifier(),\n",
    "    param_grid=params,\n",
    "    cv=5,\n",
    "    n_jobs=5,\n",
    "    verbose=1,\n",
    ")\n",
    "\n",
    "clf.fit(x_train, y_train)\n",
    "print(clf.best_params_)"
   ]
  },
  {
   "cell_type": "code",
<<<<<<< Updated upstream
   "execution_count": 23,
=======
   "execution_count": 18,
>>>>>>> Stashed changes
   "id": "0758d2a8-78dd-476d-a783-f8e4ba56dd06",
   "metadata": {},
   "outputs": [
    {
     "name": "stdout",
     "output_type": "stream",
     "text": [
      "1.0\n"
     ]
    }
   ],
   "source": [
    "clf = DecisionTreeClassifier(criterion='gini', splitter='best')\n",
    "clf.fit(x_train, y_train)\n",
    "predictions = clf.predict(x_test)\n",
    "\n",
    "print(metrics.accuracy_score(y_test, predictions))\n"
   ]
  },
  {
   "cell_type": "markdown",
   "id": "8fa11e43-6c58-449e-9220-3ecd3771b40d",
   "metadata": {},
   "source": [
    "**Random Forest**"
   ]
  },
  {
   "cell_type": "code",
<<<<<<< Updated upstream
   "execution_count": 24,
=======
   "execution_count": 19,
>>>>>>> Stashed changes
   "id": "010f86e5-b960-4b47-97de-85be38444333",
   "metadata": {},
   "outputs": [
    {
     "name": "stdout",
     "output_type": "stream",
     "text": [
      "Precision: 0.772 (0.226)\n"
     ]
    }
   ],
   "source": [
    "from sklearn.ensemble import RandomForestClassifier\n",
    "\n",
    "clf = RandomForestClassifier(random_state=1, max_depth=2)\n",
    "\n",
    "# your code here\n",
    "n_scores = cross_val_score(clf, x, y, scoring='accuracy', cv=5)\n",
    "print('Precision: %.3f (%.3f)' % (np.mean(n_scores), np.std(n_scores)))"
   ]
  },
  {
   "cell_type": "markdown",
   "id": "1c9d3762-d026-4421-bca7-21ef94653fcc",
   "metadata": {},
   "source": [
    "2. Visualiser et expliquer la distribution de la variable 'mortalité' selon les différentes variables (le genre des victimes, l'Age, etc)"
   ]
  },
  {
   "cell_type": "markdown",
   "id": "831ce92a-4200-476a-b691-2556007b68fa",
   "metadata": {},
   "source": [
    "**Mortalité selon le genre des victimes**"
   ]
  },
  {
   "cell_type": "code",
<<<<<<< Updated upstream
   "execution_count": 25,
=======
   "execution_count": 20,
>>>>>>> Stashed changes
   "id": "a06670e4-65c5-4f93-ac2b-1714902466ca",
   "metadata": {},
   "outputs": [
    {
     "data": {
      "text/plain": [
       "<AxesSubplot:xlabel='genre', ylabel='percentage'>"
      ]
     },
<<<<<<< Updated upstream
     "execution_count": 25,
=======
     "execution_count": 20,
>>>>>>> Stashed changes
     "metadata": {},
     "output_type": "execute_result"
    },
    {
     "data": {
      "image/png": "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\n",
      "text/plain": [
       "<Figure size 432x288 with 1 Axes>"
      ]
     },
     "metadata": {},
     "output_type": "display_data"
    }
   ],
   "source": [
    "pct_genre = df[df['mortalite'] == 1]['sexe'].value_counts(normalize=True) * 100\n",
    "\n",
    "sns.set_theme(style=\"whitegrid\");\n",
    "g = pd.DataFrame(columns=['percentage', 'genre'])\n",
    "g['percentage'] = pct_genre\n",
    "g['genre'][:1] = \"Men\"\n",
    "g['genre'][1:2] = \"Women\"\n",
    "sns.barplot(x=\"genre\", y=\"percentage\", data=g)"
   ]
  },
  {
   "cell_type": "markdown",
   "id": "6483c4d7-a422-4289-95d7-f987c7476067",
   "metadata": {},
   "source": [
    "**Mortalité selon l'age**"
   ]
  },
  {
   "cell_type": "code",
<<<<<<< Updated upstream
   "execution_count": 26,
=======
   "execution_count": 21,
>>>>>>> Stashed changes
   "id": "459ef184-a10d-4e35-8ee9-344e147e78bb",
   "metadata": {},
   "outputs": [
    {
     "name": "stdout",
     "output_type": "stream",
     "text": [
      "         an_nais\n",
      "1997.0  3.141572\n",
      "1996.0  2.872173\n",
      "1998.0  2.829748\n",
      "1994.0  2.732171\n",
      "1992.0  2.691867\n",
      "...          ...\n",
      "1923.0  0.008485\n",
      "1920.0  0.008485\n",
      "1922.0  0.004243\n",
      "1918.0  0.002121\n",
      "1917.0  0.002121\n",
      "\n",
      "[101 rows x 1 columns]\n",
      "        an_nais   percent\n",
      "1997.0   1997.0  3.141572\n",
      "1996.0   1996.0  2.872173\n",
      "1998.0   1998.0  2.829748\n",
      "1994.0   1994.0  2.732171\n",
      "1992.0   1992.0  2.691867\n"
     ]
    },
    {
     "data": {
      "text/plain": [
       "<AxesSubplot:xlabel='an_nais', ylabel='percent'>"
      ]
     },
<<<<<<< Updated upstream
     "execution_count": 26,
=======
     "execution_count": 21,
>>>>>>> Stashed changes
     "metadata": {},
     "output_type": "execute_result"
    },
    {
     "data": {
      "image/png": "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\n",
      "text/plain": [
       "<Figure size 432x288 with 1 Axes>"
      ]
     },
     "metadata": {},
     "output_type": "display_data"
    }
   ],
   "source": [
    "pct_age = df_total[df['mortalite'] == 1]['an_nais'].value_counts(normalize=True) * 100\n",
    "print(pct_age.to_frame())\n",
    "\n",
    "sns.set_theme(style=\"whitegrid\");\n",
    "a = pd.DataFrame(columns=['an_nais', 'mortalite'])\n",
    "a['percent'] = pct_age\n",
    "a['an_nais'] = a.index\n",
    "a.reset_index()\n",
    "a.drop(['mortalite'], axis=1, inplace=True)\n",
    "print(a.head())\n",
    "sns.barplot(x=\"an_nais\", y=\"percent\", data=a)"
   ]
  },
  {
   "cell_type": "markdown",
   "id": "09346b6f-5304-4a7d-833a-952e35bf19b0",
   "metadata": {},
   "source": [
    "3. Normaliser les données et les appliquer aux modèles"
   ]
  },
  {
   "cell_type": "code",
<<<<<<< Updated upstream
   "execution_count": 27,
=======
   "execution_count": 22,
>>>>>>> Stashed changes
   "id": "5f82c9f1-13d5-4c4d-9f6b-934790203eab",
   "metadata": {},
   "outputs": [
    {
     "name": "stdout",
     "output_type": "stream",
     "text": [
      "['Num_Acc', 'place', 'catu', 'grav', 'sexe', 'trajet', 'secu', 'an_nais', 'senc', 'catv', 'obsm', 'choc', 'manv', 'mortalite']\n"
     ]
    },
    {
     "data": {
      "text/html": [
       "<div>\n",
       "<style scoped>\n",
       "    .dataframe tbody tr th:only-of-type {\n",
       "        vertical-align: middle;\n",
       "    }\n",
       "\n",
       "    .dataframe tbody tr th {\n",
       "        vertical-align: top;\n",
       "    }\n",
       "\n",
       "    .dataframe thead th {\n",
       "        text-align: right;\n",
       "    }\n",
       "</style>\n",
       "<table border=\"1\" class=\"dataframe\">\n",
       "  <thead>\n",
       "    <tr style=\"text-align: right;\">\n",
       "      <th></th>\n",
       "      <th>Num_Acc</th>\n",
       "      <th>place</th>\n",
       "      <th>catu</th>\n",
       "      <th>grav</th>\n",
       "      <th>sexe</th>\n",
       "      <th>trajet</th>\n",
       "      <th>secu</th>\n",
       "      <th>an_nais</th>\n",
       "      <th>senc</th>\n",
       "      <th>catv</th>\n",
       "      <th>obsm</th>\n",
       "      <th>choc</th>\n",
       "      <th>manv</th>\n",
       "      <th>mortalite</th>\n",
       "    </tr>\n",
       "  </thead>\n",
       "  <tbody>\n",
       "    <tr>\n",
       "      <th>0</th>\n",
       "      <td>0.000000</td>\n",
       "      <td>0.000</td>\n",
       "      <td>0.000000</td>\n",
       "      <td>0.666667</td>\n",
       "      <td>0.0</td>\n",
       "      <td>1.000000</td>\n",
       "      <td>0.130435</td>\n",
       "      <td>0.524272</td>\n",
       "      <td>0.0</td>\n",
       "      <td>0.061224</td>\n",
       "      <td>0.020202</td>\n",
       "      <td>0.333333</td>\n",
       "      <td>0.36</td>\n",
       "      <td>0.0</td>\n",
       "    </tr>\n",
       "    <tr>\n",
       "      <th>1</th>\n",
       "      <td>0.000000</td>\n",
       "      <td>0.125</td>\n",
       "      <td>0.333333</td>\n",
       "      <td>0.666667</td>\n",
       "      <td>1.0</td>\n",
       "      <td>1.000000</td>\n",
       "      <td>0.108696</td>\n",
       "      <td>0.572816</td>\n",
       "      <td>0.0</td>\n",
       "      <td>0.091837</td>\n",
       "      <td>0.020202</td>\n",
       "      <td>0.333333</td>\n",
       "      <td>0.52</td>\n",
       "      <td>0.0</td>\n",
       "    </tr>\n",
       "    <tr>\n",
       "      <th>2</th>\n",
       "      <td>0.000000</td>\n",
       "      <td>0.000</td>\n",
       "      <td>0.000000</td>\n",
       "      <td>0.666667</td>\n",
       "      <td>0.0</td>\n",
       "      <td>0.111111</td>\n",
       "      <td>0.130435</td>\n",
       "      <td>0.514563</td>\n",
       "      <td>0.0</td>\n",
       "      <td>0.061224</td>\n",
       "      <td>0.000000</td>\n",
       "      <td>0.111111</td>\n",
       "      <td>0.64</td>\n",
       "      <td>0.0</td>\n",
       "    </tr>\n",
       "    <tr>\n",
       "      <th>3</th>\n",
       "      <td>0.000016</td>\n",
       "      <td>0.000</td>\n",
       "      <td>0.000000</td>\n",
       "      <td>0.000000</td>\n",
       "      <td>0.0</td>\n",
       "      <td>0.000000</td>\n",
       "      <td>0.108696</td>\n",
       "      <td>0.378641</td>\n",
       "      <td>0.0</td>\n",
       "      <td>0.000000</td>\n",
       "      <td>0.000000</td>\n",
       "      <td>0.777778</td>\n",
       "      <td>0.04</td>\n",
       "      <td>0.0</td>\n",
       "    </tr>\n",
       "    <tr>\n",
       "      <th>4</th>\n",
       "      <td>0.000016</td>\n",
       "      <td>0.000</td>\n",
       "      <td>0.000000</td>\n",
       "      <td>0.666667</td>\n",
       "      <td>0.0</td>\n",
       "      <td>0.555556</td>\n",
       "      <td>0.228261</td>\n",
       "      <td>0.446602</td>\n",
       "      <td>0.0</td>\n",
       "      <td>0.091837</td>\n",
       "      <td>0.020202</td>\n",
       "      <td>0.111111</td>\n",
       "      <td>0.04</td>\n",
       "      <td>0.0</td>\n",
       "    </tr>\n",
       "    <tr>\n",
       "      <th>...</th>\n",
       "      <td>...</td>\n",
       "      <td>...</td>\n",
       "      <td>...</td>\n",
       "      <td>...</td>\n",
       "      <td>...</td>\n",
       "      <td>...</td>\n",
       "      <td>...</td>\n",
       "      <td>...</td>\n",
       "      <td>...</td>\n",
       "      <td>...</td>\n",
       "      <td>...</td>\n",
       "      <td>...</td>\n",
       "      <td>...</td>\n",
       "      <td>...</td>\n",
       "    </tr>\n",
       "    <tr>\n",
       "      <th>136016</th>\n",
       "      <td>0.999967</td>\n",
       "      <td>0.000</td>\n",
       "      <td>0.000000</td>\n",
       "      <td>0.000000</td>\n",
       "      <td>1.0</td>\n",
       "      <td>1.000000</td>\n",
       "      <td>0.108696</td>\n",
       "      <td>0.582524</td>\n",
       "      <td>0.5</td>\n",
       "      <td>1.000000</td>\n",
       "      <td>1.000000</td>\n",
       "      <td>1.000000</td>\n",
       "      <td>1.00</td>\n",
       "      <td>0.0</td>\n",
       "    </tr>\n",
       "    <tr>\n",
       "      <th>136017</th>\n",
       "      <td>0.999984</td>\n",
       "      <td>0.000</td>\n",
       "      <td>0.000000</td>\n",
       "      <td>0.000000</td>\n",
       "      <td>1.0</td>\n",
       "      <td>1.000000</td>\n",
       "      <td>0.108696</td>\n",
       "      <td>0.708738</td>\n",
       "      <td>0.5</td>\n",
       "      <td>1.000000</td>\n",
       "      <td>1.000000</td>\n",
       "      <td>1.000000</td>\n",
       "      <td>1.00</td>\n",
       "      <td>0.0</td>\n",
       "    </tr>\n",
       "    <tr>\n",
       "      <th>136018</th>\n",
       "      <td>0.999984</td>\n",
       "      <td>0.000</td>\n",
       "      <td>0.000000</td>\n",
       "      <td>1.000000</td>\n",
       "      <td>0.0</td>\n",
       "      <td>1.000000</td>\n",
       "      <td>0.217391</td>\n",
       "      <td>0.747573</td>\n",
       "      <td>0.5</td>\n",
       "      <td>1.000000</td>\n",
       "      <td>1.000000</td>\n",
       "      <td>1.000000</td>\n",
       "      <td>1.00</td>\n",
       "      <td>1.0</td>\n",
       "    </tr>\n",
       "    <tr>\n",
       "      <th>136019</th>\n",
       "      <td>0.999984</td>\n",
       "      <td>0.125</td>\n",
       "      <td>0.333333</td>\n",
       "      <td>1.000000</td>\n",
       "      <td>1.0</td>\n",
       "      <td>1.000000</td>\n",
       "      <td>0.217391</td>\n",
       "      <td>0.737864</td>\n",
       "      <td>0.5</td>\n",
       "      <td>1.000000</td>\n",
       "      <td>1.000000</td>\n",
       "      <td>1.000000</td>\n",
       "      <td>1.00</td>\n",
       "      <td>1.0</td>\n",
       "    </tr>\n",
       "    <tr>\n",
       "      <th>136020</th>\n",
       "      <td>1.000000</td>\n",
       "      <td>0.000</td>\n",
       "      <td>0.000000</td>\n",
       "      <td>1.000000</td>\n",
       "      <td>0.0</td>\n",
       "      <td>0.111111</td>\n",
       "      <td>0.217391</td>\n",
       "      <td>0.757282</td>\n",
       "      <td>0.5</td>\n",
       "      <td>1.000000</td>\n",
       "      <td>1.000000</td>\n",
       "      <td>1.000000</td>\n",
       "      <td>1.00</td>\n",
       "      <td>1.0</td>\n",
       "    </tr>\n",
       "  </tbody>\n",
       "</table>\n",
       "<p>136021 rows × 14 columns</p>\n",
       "</div>"
      ],
      "text/plain": [
       "         Num_Acc  place      catu      grav  sexe    trajet      secu  \\\n",
       "0       0.000000  0.000  0.000000  0.666667   0.0  1.000000  0.130435   \n",
       "1       0.000000  0.125  0.333333  0.666667   1.0  1.000000  0.108696   \n",
       "2       0.000000  0.000  0.000000  0.666667   0.0  0.111111  0.130435   \n",
       "3       0.000016  0.000  0.000000  0.000000   0.0  0.000000  0.108696   \n",
       "4       0.000016  0.000  0.000000  0.666667   0.0  0.555556  0.228261   \n",
       "...          ...    ...       ...       ...   ...       ...       ...   \n",
       "136016  0.999967  0.000  0.000000  0.000000   1.0  1.000000  0.108696   \n",
       "136017  0.999984  0.000  0.000000  0.000000   1.0  1.000000  0.108696   \n",
       "136018  0.999984  0.000  0.000000  1.000000   0.0  1.000000  0.217391   \n",
       "136019  0.999984  0.125  0.333333  1.000000   1.0  1.000000  0.217391   \n",
       "136020  1.000000  0.000  0.000000  1.000000   0.0  0.111111  0.217391   \n",
       "\n",
       "         an_nais  senc      catv      obsm      choc  manv  mortalite  \n",
       "0       0.524272   0.0  0.061224  0.020202  0.333333  0.36        0.0  \n",
       "1       0.572816   0.0  0.091837  0.020202  0.333333  0.52        0.0  \n",
       "2       0.514563   0.0  0.061224  0.000000  0.111111  0.64        0.0  \n",
       "3       0.378641   0.0  0.000000  0.000000  0.777778  0.04        0.0  \n",
       "4       0.446602   0.0  0.091837  0.020202  0.111111  0.04        0.0  \n",
       "...          ...   ...       ...       ...       ...   ...        ...  \n",
       "136016  0.582524   0.5  1.000000  1.000000  1.000000  1.00        0.0  \n",
       "136017  0.708738   0.5  1.000000  1.000000  1.000000  1.00        0.0  \n",
       "136018  0.747573   0.5  1.000000  1.000000  1.000000  1.00        1.0  \n",
       "136019  0.737864   0.5  1.000000  1.000000  1.000000  1.00        1.0  \n",
       "136020  0.757282   0.5  1.000000  1.000000  1.000000  1.00        1.0  \n",
       "\n",
       "[136021 rows x 14 columns]"
      ]
     },
<<<<<<< Updated upstream
     "execution_count": 27,
=======
     "execution_count": 22,
>>>>>>> Stashed changes
     "metadata": {},
     "output_type": "execute_result"
    }
   ],
   "source": [
    "min_max_scaler = preprocessing.MinMaxScaler()\n",
    "x_scaled = min_max_scaler.fit_transform(df)\n",
    "df_normalized = pd.DataFrame(x_scaled)\n",
    "print(df.columns.tolist())\n",
    "df_normalized.columns = df.columns.tolist()\n",
    "df_normalized\n"
   ]
  },
  {
   "cell_type": "markdown",
   "id": "3c5cf0ee-4a1d-42c2-82c6-82d9c0e3ac16",
   "metadata": {},
   "source": [
    "**Application des modèles sur les donéées normalisés**"
   ]
  },
  {
   "cell_type": "code",
<<<<<<< Updated upstream
   "execution_count": 28,
=======
   "execution_count": 23,
>>>>>>> Stashed changes
   "id": "27fe7536-5214-4ecc-8130-03c811aece2a",
   "metadata": {},
   "outputs": [
    {
     "name": "stdout",
     "output_type": "stream",
     "text": [
      "train shape (95214, 13) (95214,)\n",
      "test shape (40807, 13) (95214,)\n"
     ]
    }
   ],
   "source": [
    "y = df_normalized[\"mortalite\"]\n",
    "x = df_normalized.drop('mortalite', axis=1)\n",
    "\n",
    "x_train, x_test, y_train, y_test = train_test_split(x, y, test_size=0.3, random_state=100)\n",
    "print (\"train shape\", x_train.shape, y_train.shape)\n",
    "print (\"test shape\", x_test.shape, y_train.shape)"
   ]
  },
  {
   "cell_type": "markdown",
   "id": "fa778805-c879-474f-9337-7654ab570107",
   "metadata": {},
   "source": [
    "**Régression Logistique**"
   ]
  },
  {
   "cell_type": "code",
<<<<<<< Updated upstream
   "execution_count": 29,
=======
   "execution_count": 24,
>>>>>>> Stashed changes
   "id": "61783e99-cdaf-4748-a200-8f2436f6109e",
   "metadata": {},
   "outputs": [
    {
     "name": "stdout",
     "output_type": "stream",
     "text": [
      "Precision \n",
      "1.0\n"
     ]
    }
   ],
   "source": [
    "modele_regLog = LogisticRegression(random_state = 0, solver = 'liblinear', multi_class = 'auto')\n",
    "modele_regLog.fit(x_train,y_train)\n",
    "y_pred = modele_regLog.predict(x_test)\n",
    "precision = modele_regLog.score(x_test,y_test)\n",
    "print(\"Precision \")\n",
    "print(precision)"
   ]
  },
  {
   "cell_type": "code",
<<<<<<< Updated upstream
   "execution_count": 30,
=======
   "execution_count": 25,
>>>>>>> Stashed changes
   "id": "e34520ee-b74a-4730-aaf9-2730b1512fb7",
   "metadata": {},
   "outputs": [
    {
     "data": {
      "image/png": "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\n",
      "text/plain": [
       "<Figure size 432x288 with 2 Axes>"
      ]
     },
     "metadata": {},
     "output_type": "display_data"
    }
   ],
   "source": [
    "confusion_matrix = pd.crosstab(y_test, y_pred, rownames=['Actual'], colnames=['Predicted'])\n",
    "\n",
    "sns.heatmap(confusion_matrix, annot=True)\n",
    "plt.show()"
   ]
  },
  {
   "cell_type": "markdown",
   "id": "0a192727-4787-4938-8f18-ae2014f573b9",
   "metadata": {},
   "source": [
    "**Decision Tree**"
   ]
  },
  {
   "cell_type": "code",
<<<<<<< Updated upstream
   "execution_count": 31,
=======
   "execution_count": 26,
>>>>>>> Stashed changes
   "id": "2113b4c7-464b-4249-b405-c271d9a44f00",
   "metadata": {},
   "outputs": [
    {
     "name": "stdout",
     "output_type": "stream",
     "text": [
      "Fitting 5 folds for each of 168 candidates, totalling 840 fits\n",
      "{'criterion': 'gini', 'max_depth': None, 'max_features': None, 'splitter': 'best'}\n"
     ]
    }
   ],
   "source": [
    "from sklearn.model_selection import GridSearchCV\n",
    "\n",
    "params = {\n",
    "    'criterion':  ['gini', 'entropy'],\n",
    "    'max_depth':  [None, 2, 4, 6, 8, 10],\n",
    "    'max_features': [None, 'sqrt', 'log2', 0.2, 0.4, 0.6, 0.8],\n",
    "    'splitter': ['best', 'random']\n",
    "}\n",
    "\n",
    "clf = GridSearchCV(\n",
    "    estimator=DecisionTreeClassifier(),\n",
    "    param_grid=params,\n",
    "    cv=5,\n",
    "    n_jobs=5,\n",
    "    verbose=1,\n",
    ")\n",
    "\n",
    "clf.fit(x_train, y_train)\n",
    "print(clf.best_params_)"
   ]
  },
  {
   "cell_type": "code",
<<<<<<< Updated upstream
   "execution_count": 32,
=======
   "execution_count": 27,
>>>>>>> Stashed changes
   "id": "77e037fb-abfb-48af-84e5-970e8632cdac",
   "metadata": {},
   "outputs": [
    {
     "name": "stdout",
     "output_type": "stream",
     "text": [
      "1.0\n"
     ]
    }
   ],
   "source": [
    "clf = DecisionTreeClassifier(criterion='gini', splitter='best')\n",
    "clf.fit(x_train, y_train)\n",
    "predictions = clf.predict(x_test)\n",
    "print(metrics.accuracy_score(y_test, predictions))"
   ]
  },
  {
   "cell_type": "code",
<<<<<<< Updated upstream
   "execution_count": 33,
=======
   "execution_count": 28,
>>>>>>> Stashed changes
   "id": "0ff44a3d-6c64-4f12-9cb1-c068750f7165",
   "metadata": {},
   "outputs": [
    {
     "data": {
      "image/png": "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\n",
      "text/plain": [
       "<Figure size 432x288 with 2 Axes>"
      ]
     },
     "metadata": {},
     "output_type": "display_data"
    }
   ],
   "source": [
    "confusion_matrix = pd.crosstab(y_test, predictions, rownames=['Actual'], colnames=['Predicted'])\n",
    "\n",
    "sns.heatmap(confusion_matrix, annot=True)\n",
    "plt.show()\n"
   ]
  },
  {
   "cell_type": "markdown",
   "id": "ae4475c0-458b-4f1b-9637-12f7f9e23d93",
   "metadata": {},
   "source": [
    "**Random Forest**"
   ]
  },
  {
   "cell_type": "code",
<<<<<<< Updated upstream
   "execution_count": 42,
=======
   "execution_count": 29,
>>>>>>> Stashed changes
   "id": "af442519-2bd9-470c-94fa-387073f0c930",
   "metadata": {},
   "outputs": [
    {
     "name": "stdout",
     "output_type": "stream",
     "text": [
      "Precision: 0.756 (0.244)\n"
     ]
    }
   ],
   "source": [
    "from sklearn.ensemble import RandomForestClassifier\n",
    "\n",
    "clf = RandomForestClassifier(random_state=1, max_depth=2)\n",
    "clf.fit(x_train,y_train)\n",
    "n_scores = cross_val_score(clf, x, y, scoring='accuracy', cv=5)\n",
    "print('Precision: %.3f (%.3f)' % (np.mean(n_scores), np.std(n_scores)))"
   ]
  },
  {
   "cell_type": "code",
   "execution_count": 43,
   "id": "cefddd2d-d957-48e5-b5ea-36003f906341",
   "metadata": {},
   "outputs": [],
   "source": [
    "y_pred = clf.predict(x_test)\n",
    "confusion_matrix = pd.crosstab(y_test, y_pred, rownames=['Actual'], colnames=['Predicted'])\n",
    "\n",
    "sns.heatmap(confusion_matrix, annot=True)\n",
    "plt.show()"
   ]
  },
  {
   "cell_type": "markdown",
   "id": "28bb6620-7c05-428a-9591-ff097c5fdb01",
   "metadata": {},
   "source": [
    "4. Analyser, visualiser et expliquer le niveau de corrélation entre les variables"
   ]
  },
  {
   "cell_type": "code",
<<<<<<< Updated upstream
   "execution_count": 35,
=======
   "execution_count": 30,
>>>>>>> Stashed changes
   "id": "c3944275-1713-4f74-a579-ffc54e1455df",
   "metadata": {},
   "outputs": [
    {
     "name": "stdout",
     "output_type": "stream",
     "text": [
      "mortalite    1.000000\n",
      "grav         0.825082\n",
      "catu         0.157193\n",
      "Num_Acc      0.153598\n",
      "obsm         0.117776\n",
      "catv         0.114714\n",
      "sexe         0.100265\n",
      "an_nais      0.099340\n",
      "manv         0.098101\n",
      "choc         0.091772\n",
      "secu         0.050672\n",
      "place        0.021105\n",
      "senc        -0.004889\n",
      "trajet      -0.022908\n",
      "Name: mortalite, dtype: float64\n"
     ]
    }
   ],
   "source": [
    "print(df_normalized.corr(method ='pearson')['mortalite'].sort_values(ascending=False))"
   ]
  },
  {
   "cell_type": "markdown",
   "id": "dd3fa450-0c1f-46c4-8517-7e5c9a5cfc9f",
   "metadata": {},
   "source": [
    "5. Analyser à la base du temps : Nombre d'accidents en années, Nombre d'accidents en mois, etc"
   ]
  },
  {
   "cell_type": "code",
<<<<<<< Updated upstream
   "execution_count": 36,
=======
   "execution_count": 31,
>>>>>>> Stashed changes
   "id": "caef3999-c324-41d8-a91e-f1baa176c98c",
   "metadata": {},
   "outputs": [
    {
     "data": {
      "text/plain": [
       "<AxesSubplot:xlabel='mois', ylabel='percent'>"
      ]
     },
<<<<<<< Updated upstream
     "execution_count": 36,
=======
     "execution_count": 31,
>>>>>>> Stashed changes
     "metadata": {},
     "output_type": "execute_result"
    },
    {
     "data": {
      "image/png": "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\n",
      "text/plain": [
       "<Figure size 432x288 with 1 Axes>"
      ]
     },
     "metadata": {},
     "output_type": "display_data"
    }
   ],
   "source": [
    "pct_mois = df_total['mois'].value_counts(normalize=True) * 100\n",
    "mort = df_total['grav']\n",
    "\n",
    "sns.set_theme(style=\"whitegrid\");\n",
    "d_mois = pd.DataFrame(columns=['mois', 'pct','grav'])\n",
    "d_mois['percent'] = pct_mois\n",
    "d_mois['mois'] = d_mois.index\n",
    "d_mois['grav'] = mort\n",
    "d_mois.reset_index()\n",
    "d_mois.drop(['pct'], axis=1, inplace=True)\n",
    "sns.barplot(x=\"mois\", y=\"percent\", hue=\"grav\", data=d_mois)\n"
   ]
  },
  {
   "cell_type": "markdown",
   "id": "a2cb4ea1-759f-4498-81ad-60dd8143870d",
   "metadata": {},
   "source": [
    "6. Trouver l’heure de la journée la plus dangereuse"
   ]
  },
  {
   "cell_type": "code",
<<<<<<< Updated upstream
   "execution_count": 37,
=======
   "execution_count": 32,
>>>>>>> Stashed changes
   "id": "1d38d536-d156-4a66-8407-a7c86a6649d1",
   "metadata": {},
   "outputs": [
    {
     "data": {
      "text/plain": [
       "<AxesSubplot:xlabel='hrmn', ylabel='percent'>"
      ]
     },
<<<<<<< Updated upstream
     "execution_count": 37,
=======
     "execution_count": 32,
>>>>>>> Stashed changes
     "metadata": {},
     "output_type": "execute_result"
    },
    {
     "data": {
      "image/png": "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\n",
      "text/plain": [
       "<Figure size 432x288 with 1 Axes>"
      ]
     },
     "metadata": {},
     "output_type": "display_data"
    }
   ],
   "source": [
    "pct_heure = df_total['hrmn'].value_counts(normalize=True) * 100\n",
    "mort = df_total['grav']\n",
    "\n",
    "sns.set_theme(style=\"whitegrid\");\n",
    "d_heure = pd.DataFrame(columns=['heure', 'pct','grav'])\n",
    "d_heure['percent'] = pct_heure\n",
    "d_heure['hrmn'] = d_heure.index\n",
    "d_heure['grav'] = mort\n",
    "d_heure.reset_index()\n",
    "d_heure.drop(['pct'], axis=1, inplace=True)\n",
    "sns.scatterplot(x=\"hrmn\", y=\"percent\", hue=\"grav\", data=d_heure)\n"
   ]
  },
  {
   "cell_type": "code",
   "execution_count": null,
<<<<<<< Updated upstream
   "id": "db488ab9-7788-4ee7-bfa1-71e0efb34b6a",
=======
   "id": "8cd3959c-88d2-4b26-bb9e-1d71461f51d2",
>>>>>>> Stashed changes
   "metadata": {},
   "outputs": [],
   "source": []
  },
  {
   "cell_type": "code",
   "execution_count": null,
<<<<<<< Updated upstream
   "id": "9c2300b7-16bc-4ff7-80fe-7dcfd55132ba",
=======
   "id": "caf253f2-d64d-46ea-b11f-c7f1f43a8dc9",
>>>>>>> Stashed changes
   "metadata": {},
   "outputs": [],
   "source": []
  }
 ],
 "metadata": {
  "kernelspec": {
   "display_name": "Python 3 (ipykernel)",
   "language": "python",
   "name": "python3"
  },
  "language_info": {
   "codemirror_mode": {
    "name": "ipython",
    "version": 3
   },
   "file_extension": ".py",
   "mimetype": "text/x-python",
   "name": "python",
   "nbconvert_exporter": "python",
   "pygments_lexer": "ipython3",
   "version": "3.9.7"
  }
 },
 "nbformat": 4,
 "nbformat_minor": 5
}
