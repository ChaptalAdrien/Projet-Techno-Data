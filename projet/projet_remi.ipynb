{
 "cells": [
  {
   "cell_type": "markdown",
   "id": "b5ba2fcd-81b4-4f77-9ea4-4bd0ca876071",
   "metadata": {
    "tags": []
   },
   "source": [
    "# PROJET TECHNO DATA"
   ]
  },
  {
   "cell_type": "markdown",
   "id": "50e80422-4a5f-4d2b-a97b-f91893443d1b",
   "metadata": {},
   "source": [
    "## Auteurs\n",
    "\n",
    "Rémi Mokrane\n",
    "\n",
    "Aymen Zamoum"
   ]
  },
  {
   "cell_type": "markdown",
   "id": "c01692ea-3219-461b-b2bb-0d15f79a849e",
   "metadata": {},
   "source": [
    "## Declaration librairies"
   ]
  },
  {
   "cell_type": "code",
   "execution_count": 2,
   "id": "721681a4-39e1-426d-97ad-8013313fed50",
   "metadata": {},
   "outputs": [],
   "source": [
    "# imports\n",
    "import numpy as np\n",
    "import pandas as pd\n",
    "import matplotlib.pyplot as plt\n",
    "import seaborn as sns\n",
    "# show plots in the notebook\n",
    "%matplotlib inline\n",
    "import glob"
   ]
  },
  {
   "cell_type": "markdown",
   "id": "5df9451d-a89a-4da3-ae4a-bfcbbb276498",
   "metadata": {
    "tags": []
   },
   "source": [
    "## I - Analyse et Preparation des données"
   ]
  },
  {
   "cell_type": "markdown",
   "id": "0c70db99-3e20-4a50-9049-147ef9a2cf3a",
   "metadata": {
    "tags": []
   },
   "source": [
    "1. Etudier les données en affichants les informations correspondantes (colonnes, indice, etc) :"
   ]
  },
  {
   "cell_type": "code",
   "execution_count": 3,
   "id": "48c787e3-fbce-4495-84bd-0e3e4597e91d",
   "metadata": {},
   "outputs": [
    {
     "name": "stdout",
     "output_type": "stream",
     "text": [
      "['./bdd/caracteristiques-2017.csv']\n"
     ]
    },
    {
     "data": {
      "text/plain": [
       "(60701, 16)"
      ]
     },
     "execution_count": 3,
     "metadata": {},
     "output_type": "execute_result"
    }
   ],
   "source": [
    "## TO DO\n",
    "filenames = glob.glob('./bdd/caracteristiques-2017.csv')\n",
    "print(filenames)\n",
    "list_of_dfs = [pd.read_csv(filename, encoding=\"latin1\") for filename in filenames]\n",
    "df_caracteristiques = pd.concat(list_of_dfs, ignore_index=True)\n",
    "df_caracteristiques.shape"
   ]
  },
  {
   "cell_type": "code",
   "execution_count": 4,
   "id": "43c78c27-1e42-4f65-8460-bc1c757e0bd3",
   "metadata": {},
   "outputs": [
    {
     "name": "stdout",
     "output_type": "stream",
     "text": [
      "['./bdd/lieux-2017.csv']\n"
     ]
    },
    {
     "name": "stderr",
     "output_type": "stream",
     "text": [
      "C:\\Users\\mimip\\AppData\\Local\\Temp/ipykernel_14556/1916315995.py:3: DtypeWarning: Columns (2) have mixed types.Specify dtype option on import or set low_memory=False.\n",
      "  list_of_dfs = [pd.read_csv(filename, encoding=\"latin1\") for filename in filenames]\n"
     ]
    },
    {
     "data": {
      "text/plain": [
       "(60701, 18)"
      ]
     },
     "execution_count": 4,
     "metadata": {},
     "output_type": "execute_result"
    }
   ],
   "source": [
    "filenames = glob.glob('./bdd/lieux-2017.csv')\n",
    "print(filenames)\n",
    "list_of_dfs = [pd.read_csv(filename, encoding=\"latin1\") for filename in filenames]\n",
    "df_lieux = pd.concat(list_of_dfs, ignore_index=True)\n",
    "df_lieux.shape"
   ]
  },
  {
   "cell_type": "code",
   "execution_count": 5,
   "id": "aedcd54b-7d29-4869-825c-8b9c1f067cda",
   "metadata": {},
   "outputs": [
    {
     "name": "stdout",
     "output_type": "stream",
     "text": [
      "['./bdd/usagers-2017.csv']\n"
     ]
    },
    {
     "data": {
      "text/plain": [
       "(136021, 12)"
      ]
     },
     "execution_count": 5,
     "metadata": {},
     "output_type": "execute_result"
    }
   ],
   "source": [
    "filenames = glob.glob('./bdd/usagers-2017.csv')\n",
    "print(filenames)\n",
    "list_of_dfs = [pd.read_csv(filename, encoding=\"latin1\") for filename in filenames]\n",
    "df_usagers = pd.concat(list_of_dfs, ignore_index=True)\n",
    "df_usagers.shape"
   ]
  },
  {
   "cell_type": "code",
   "execution_count": 6,
   "id": "386154de-c509-4e40-96fa-5e6810f3997c",
   "metadata": {},
   "outputs": [
    {
     "name": "stdout",
     "output_type": "stream",
     "text": [
      "['./bdd/vehicules-2017.csv']\n"
     ]
    },
    {
     "data": {
      "text/plain": [
       "(103546, 9)"
      ]
     },
     "execution_count": 6,
     "metadata": {},
     "output_type": "execute_result"
    }
   ],
   "source": [
    "filenames = glob.glob('./bdd/vehicules-2017.csv')\n",
    "print(filenames)\n",
    "list_of_dfs = [pd.read_csv(filename, encoding=\"latin1\") for filename in filenames]\n",
    "df_vehicules = pd.concat(list_of_dfs)\n",
    "df_vehicules.shape"
   ]
  },
  {
   "cell_type": "markdown",
   "id": "7fe73fdd-90a5-4efd-9388-b45d867d8724",
   "metadata": {},
   "source": [
    "2. Fusionner les fichiers de donnés "
   ]
  },
  {
   "cell_type": "code",
   "execution_count": 7,
   "id": "56382c46-c813-417e-9ee4-b5cd73accc88",
   "metadata": {},
   "outputs": [
    {
     "name": "stdout",
     "output_type": "stream",
     "text": [
      "(136021, 55)\n"
     ]
    }
   ],
   "source": [
    "frames = [df_caracteristiques, df_lieux, df_usagers, df_vehicules]\n",
    "accident_df = pd.concat(frames, axis=1)\n",
    "base_acc_df = pd.concat(frames, axis=1) # used later to keep date related information which are removed from accident_df\n",
    "print(accident_df.shape)\n",
    "\n"
   ]
  },
  {
   "cell_type": "markdown",
   "id": "d0a01f98-fd97-40e6-b4ed-93419ad199cc",
   "metadata": {},
   "source": [
    "3. Nettoyer la base de données\n",
    "\n",
    "Ex : Identifier le pourcentage de valeurs NaN dans la base et éliminez les colonnes où la majorité\n",
    "des valeurs sont NaN."
   ]
  },
  {
   "cell_type": "code",
   "execution_count": 8,
   "id": "b0e1e355-273b-4c6e-b87c-44f8d8bc2df4",
   "metadata": {},
   "outputs": [
    {
     "name": "stdout",
     "output_type": "stream",
     "text": [
      "(136021, 21)\n"
     ]
    }
   ],
   "source": [
    "perc = 50.0 # Like N %\n",
    "min_count =  int(((100-perc)/100)*accident_df.shape[0] + 1)\n",
    "accident_df = accident_df.dropna( axis=1, \n",
    "                thresh=min_count)\n",
    "print(accident_df.shape)\n",
    "\n",
    "accident_df = accident_df.loc[:,~accident_df.columns.duplicated()]"
   ]
  },
  {
   "cell_type": "markdown",
   "id": "5c4157e8-543f-4428-8803-7bd30cfa2fa1",
   "metadata": {},
   "source": [
    "4. Supprimer les variables dont la majorité des observations sont manquantes"
   ]
  },
  {
   "cell_type": "code",
   "execution_count": 9,
   "id": "2dcb3008-d789-4edd-8583-b08538003001",
   "metadata": {},
   "outputs": [
    {
     "name": "stdout",
     "output_type": "stream",
     "text": [
      "Removing column  locp\n",
      "Removing column  actp\n",
      "Removing column  etatp\n",
      "Removing column  occutc\n",
      "Removing column  obs\n"
     ]
    }
   ],
   "source": [
    "# Count number of zeros in all columns of Dataframe\n",
    "for column_name in accident_df.columns:\n",
    "    shape=accident_df.shape[0]\n",
    "    column = accident_df[column_name]\n",
    "    # Get the count of Zeros in column \n",
    "    count = (column == 0).sum()\n",
    "    pct=count/accident_df.shape[0]\n",
    "    if(isinstance(pct, pd.Series)):\n",
    "        print(\"Can't process Series...\")\n",
    "    elif(pct > 0.5):\n",
    "        accident_df.drop([column_name], axis=1, inplace=True)\n",
    "        print(\"Removing column \", column_name)"
   ]
  },
  {
   "cell_type": "markdown",
   "id": "a08aebc4-ccf4-45ad-8100-a5d3570b0f0e",
   "metadata": {},
   "source": [
    "5. Remplir les valeurs NaN par différentes méthodes"
   ]
  },
  {
   "cell_type": "code",
   "execution_count": 10,
   "id": "a7298fcc-a803-4d81-89f2-909b42520370",
   "metadata": {
    "scrolled": true
   },
   "outputs": [
    {
     "name": "stdout",
     "output_type": "stream",
     "text": [
      "Num_Acc        0\n",
      "place      11802\n",
      "catu           0\n",
      "grav           0\n",
      "sexe           0\n",
      "trajet        11\n",
      "secu        8950\n",
      "an_nais       37\n",
      "senc       32543\n",
      "catv       32475\n",
      "obsm       32517\n",
      "choc       32510\n",
      "manv       32505\n",
      "dtype: int64\n",
      "183350\n",
      "0\n",
      "Num_Acc    0\n",
      "place      0\n",
      "catu       0\n",
      "grav       0\n",
      "sexe       0\n",
      "trajet     0\n",
      "secu       0\n",
      "an_nais    0\n",
      "senc       0\n",
      "catv       0\n",
      "obsm       0\n",
      "choc       0\n",
      "manv       0\n",
      "dtype: int64\n"
     ]
    }
   ],
   "source": [
    "def fill_nas_by_type(df, col_name):\n",
    "    \"\"\"Fill null values in df according to col_name type\n",
    "    \n",
    "    Parameters\n",
    "    ----------\n",
    "    df : dataframe, (default=None)\n",
    "        input dataframe\n",
    "    col_name : str, (default=None)\n",
    "        column with null values to fill\n",
    "        \n",
    "    Returns\n",
    "    -------\n",
    "    df with filled values in col_name\n",
    "    \"\"\"\n",
    "    if (col_name == \"trajet\"):\n",
    "        df[col_name] = df[col_name].fillna(value=9)\n",
    "    elif (col_name == \"place\"):\n",
    "        df[col_name] = df[col_name].fillna(df[col_name].value_counts()[:1].index.tolist()[0])\n",
    "    elif (col_name == \"an_nais\"):\n",
    "        df[col_name] = df[col_name].fillna(float(df[col_name].median()))\n",
    "    elif (col_name == \"catv\"):\n",
    "        df[col_name] = df[col_name].fillna(value=99)\n",
    "    elif (col_name == \"obsm\"):\n",
    "        df[col_name] = df[col_name].fillna(value=99)\n",
    "    elif (col_name == \"choc\"):\n",
    "        df[col_name] = df[col_name].fillna(value=9)\n",
    "    elif (col_name == \"manv\"):\n",
    "        df[col_name] = df[col_name].fillna(value=25)\n",
    "    elif (col_name == \"senc\"):\n",
    "        df[col_name] = df[col_name].fillna(df[col_name].value_counts()[:1].index.tolist()[0])\n",
    "    elif (col_name == \"Num_Acc\"):\n",
    "        df[col_name] = df[col_name].fillna(method='ffill')\n",
    "    elif (col_name == \"secu\"):\n",
    "        df[col_name] = df[col_name].fillna(df[col_name].value_counts()[:1].index.tolist()[0])\n",
    "    return df\n",
    "\n",
    "for col in accident_df.columns:\n",
    "    if(col == \"num_veh\"):\n",
    "        accident_df.drop(col, inplace=True, axis=1)\n",
    "\n",
    "cols_to_fill = list(accident_df.columns)\n",
    "\n",
    "print(accident_df.isnull().sum(axis = 0))\n",
    "\n",
    "print(accident_df.isnull().sum().sum())\n",
    "for x in cols_to_fill:\n",
    "    accident_df = fill_nas_by_type(accident_df, x)\n",
    "print(accident_df.isnull().sum().sum())\n",
    "print(accident_df.isnull().sum(axis = 0))"
   ]
  },
  {
   "cell_type": "markdown",
   "id": "d60f6098-892c-427d-bbab-47eb8cc14f91",
   "metadata": {},
   "source": [
    "6. Analyser les données par les statistiques (min, max, médiane)"
   ]
  },
  {
   "cell_type": "code",
   "execution_count": 11,
   "id": "1f269676-c715-4fe3-9f7b-3caa66a60860",
   "metadata": {
    "scrolled": true
   },
   "outputs": [
    {
     "name": "stdout",
     "output_type": "stream",
     "text": [
      "medians of Each Column:\n",
      "Num_Acc    2.017000e+11\n",
      "place      1.000000e+00\n",
      "catu       1.000000e+00\n",
      "grav       3.000000e+00\n",
      "sexe       1.000000e+00\n",
      "trajet     4.000000e+00\n",
      "secu       1.100000e+01\n",
      "an_nais    1.982000e+03\n",
      "senc       1.000000e+00\n",
      "catv       7.000000e+00\n",
      "obsm       2.000000e+00\n",
      "choc       3.000000e+00\n",
      "manv       9.000000e+00\n",
      "dtype: float64\n",
      "mins of Each Column:\n",
      "Num_Acc    2.017000e+11\n",
      "place      1.000000e+00\n",
      "catu       1.000000e+00\n",
      "grav       1.000000e+00\n",
      "sexe       1.000000e+00\n",
      "trajet     0.000000e+00\n",
      "secu       1.000000e+00\n",
      "an_nais    1.914000e+03\n",
      "senc       0.000000e+00\n",
      "catv       1.000000e+00\n",
      "obsm       0.000000e+00\n",
      "choc       0.000000e+00\n",
      "manv       0.000000e+00\n",
      "dtype: float64\n",
      "maxs of Each Column:\n",
      "Num_Acc    2.017001e+11\n",
      "place      9.000000e+00\n",
      "catu       4.000000e+00\n",
      "grav       4.000000e+00\n",
      "sexe       2.000000e+00\n",
      "trajet     9.000000e+00\n",
      "secu       9.300000e+01\n",
      "an_nais    2.017000e+03\n",
      "senc       2.000000e+00\n",
      "catv       9.900000e+01\n",
      "obsm       9.900000e+01\n",
      "choc       9.000000e+00\n",
      "manv       2.500000e+01\n",
      "dtype: float64\n"
     ]
    }
   ],
   "source": [
    "medians=accident_df.median()\n",
    "print(\"medians of Each Column:\")\n",
    "print(medians)\n",
    "\n",
    "mini=accident_df.min()\n",
    "print(\"mins of Each Column:\")\n",
    "print(mini)\n",
    "\n",
    "maxi=accident_df.max()\n",
    "print(\"maxs of Each Column:\")\n",
    "print(maxi)"
   ]
  },
  {
   "cell_type": "markdown",
   "id": "86dcddf0-1b40-404f-a2b5-68e1816bec31",
   "metadata": {},
   "source": [
    "7. Expliquer la gravité des accidents en fonction des autres variables (créer une nouvelle variable \"mortalité\" qui indique si la victime est décédée ou non suite à l'accident : tué=1 non=0)"
   ]
  },
  {
   "cell_type": "code",
   "execution_count": 12,
   "id": "0a0c4ed9-f654-4858-b583-a3ec0db0a3e1",
   "metadata": {},
   "outputs": [
    {
     "name": "stdout",
     "output_type": "stream",
     "text": [
      "1    41.368612\n",
      "4    34.669647\n",
      "3    21.315091\n",
      "2     2.646650\n",
      "Name: grav, dtype: float64\n",
      "0    97.35335\n",
      "1     2.64665\n",
      "Name: mortalite, dtype: float64\n",
      "mortalite    1.000000\n",
      "secu         0.037220\n",
      "catu         0.023449\n",
      "trajet       0.020204\n",
      "senc         0.001282\n",
      "place       -0.005195\n",
      "sexe        -0.035637\n",
      "choc        -0.045022\n",
      "manv        -0.049638\n",
      "grav        -0.061069\n",
      "obsm        -0.061198\n",
      "catv        -0.061970\n",
      "an_nais     -0.064513\n",
      "Num_Acc     -0.093130\n",
      "Name: mortalite, dtype: float64\n"
     ]
    }
   ],
   "source": [
    "labels = [\n",
    "    accident_df['grav'] == 1,\n",
    "    accident_df['grav'] == 2,\n",
    "    accident_df['grav'] == 3,\n",
    "    accident_df['grav'] == 4,\n",
    "]\n",
    "\n",
    "outputs = [\n",
    "    0,\n",
    "    1,\n",
    "    0,\n",
    "    0,\n",
    "]\n",
    "\n",
    "accident_df['mortalite'] = np.select(labels, outputs)\n",
    "print(accident_df['grav'].value_counts(normalize=True) * 100)\n",
    "print(accident_df['mortalite'].value_counts(normalize=True) * 100)\n",
    "\n",
    "print(accident_df.corr(method ='pearson')['mortalite'].sort_values(ascending=False))"
   ]
  },
  {
   "cell_type": "markdown",
   "id": "728c60f6-7342-42cb-be0d-dc63f831e2d3",
   "metadata": {},
   "source": [
    "## II - Visualisation et modélisation"
   ]
  },
  {
   "cell_type": "code",
   "execution_count": 13,
   "id": "b46fa9e3-494a-42ad-ba47-66b271878137",
   "metadata": {},
   "outputs": [
    {
     "name": "stderr",
     "output_type": "stream",
     "text": [
      "C:\\Users\\mimip\\AppData\\Local\\Temp/ipykernel_14556/3238255847.py:6: SettingWithCopyWarning: \n",
      "A value is trying to be set on a copy of a slice from a DataFrame\n",
      "\n",
      "See the caveats in the documentation: https://pandas.pydata.org/pandas-docs/stable/user_guide/indexing.html#returning-a-view-versus-a-copy\n",
      "  d['sexe'][:1] = \"Men\"\n",
      "C:\\Users\\mimip\\AppData\\Local\\Temp/ipykernel_14556/3238255847.py:7: SettingWithCopyWarning: \n",
      "A value is trying to be set on a copy of a slice from a DataFrame\n",
      "\n",
      "See the caveats in the documentation: https://pandas.pydata.org/pandas-docs/stable/user_guide/indexing.html#returning-a-view-versus-a-copy\n",
      "  d['sexe'][1:2] = \"Women\"\n"
     ]
    },
    {
     "data": {
      "text/plain": [
       "<AxesSubplot:xlabel='sexe', ylabel='percent'>"
      ]
     },
     "execution_count": 13,
     "metadata": {},
     "output_type": "execute_result"
    },
    {
     "data": {
      "image/png": "[encoded data removed]",
      "text/plain": [
       "<Figure size 432x288 with 1 Axes>"
      ]
     },
     "metadata": {},
     "output_type": "display_data"
    }
   ],
   "source": [
    "percentage = accident_df[accident_df['mortalite'] == 1]['sexe'].value_counts(normalize=True) * 100\n",
    "\n",
    "sns.set_theme(style=\"whitegrid\");\n",
    "d = pd.DataFrame(columns=['percent', 'sexe'])\n",
    "d['percent'] = percentage\n",
    "d['sexe'][:1] = \"Men\"\n",
    "d['sexe'][1:2] = \"Women\"\n",
    "sns.barplot(x=\"sexe\", y=\"percent\", data=d)"
   ]
  },
  {
   "cell_type": "markdown",
   "id": "909a11d9",
   "metadata": {},
   "source": [
    "### Mortality based on sex\n",
    "men are more likely to die than women in car accident, we'll try to dig a bit deeper and find which other variables could increase the chance of dying."
   ]
  },
  {
   "cell_type": "code",
   "execution_count": 14,
   "id": "75800f64",
   "metadata": {},
   "outputs": [
    {
     "name": "stdout",
     "output_type": "stream",
     "text": [
      "         an_nais\n",
      "1996.0  2.861111\n",
      "1995.0  2.750000\n",
      "1997.0  2.722222\n",
      "1992.0  2.388889\n",
      "1998.0  2.111111\n",
      "...          ...\n",
      "2010.0  0.111111\n",
      "2009.0  0.083333\n",
      "1923.0  0.055556\n",
      "1921.0  0.055556\n",
      "1920.0  0.027778\n",
      "\n",
      "[98 rows x 1 columns]\n",
      "        an_nais   percent\n",
      "1996.0   1996.0  2.861111\n",
      "1995.0   1995.0  2.750000\n",
      "1997.0   1997.0  2.722222\n",
      "1992.0   1992.0  2.388889\n",
      "1998.0   1998.0  2.111111\n",
      "...         ...       ...\n",
      "2010.0   2010.0  0.111111\n",
      "2009.0   2009.0  0.083333\n",
      "1923.0   1923.0  0.055556\n",
      "1921.0   1921.0  0.055556\n",
      "1920.0   1920.0  0.027778\n",
      "\n",
      "[98 rows x 2 columns]\n"
     ]
    },
    {
     "data": {
      "text/plain": [
       "<AxesSubplot:xlabel='an_nais', ylabel='percent'>"
      ]
     },
     "execution_count": 14,
     "metadata": {},
     "output_type": "execute_result"
    },
    {
     "data": {
      "image/png": "[encoded data removed]",
      "text/plain": [
       "<Figure size 432x288 with 1 Axes>"
      ]
     },
     "metadata": {},
     "output_type": "display_data"
    }
   ],
   "source": [
    "pct = accident_df[accident_df['mortalite'] == 1]['an_nais'].value_counts(normalize=True) * 100\n",
    "print(pct.to_frame())\n",
    "\n",
    "sns.set_theme(style=\"whitegrid\");\n",
    "a = pd.DataFrame(columns=['an_nais', 'mortalite'])\n",
    "a['percent'] = pct\n",
    "a['an_nais'] = a.index\n",
    "a.reset_index()\n",
    "a.drop(['mortalite'], axis=1, inplace=True)\n",
    "print(a)\n",
    "sns.barplot(x=\"an_nais\", y=\"percent\", data=a)"
   ]
  },
  {
   "cell_type": "markdown",
   "id": "07fb719e",
   "metadata": {},
   "source": [
    "### Mortality based on age"
   ]
  },
  {
   "cell_type": "markdown",
   "id": "eb5d9b7b",
   "metadata": {},
   "source": [
    "Mortality based on age seems to quite logical based on the distribution of age (see below), some surmortality can be found on specific age range such as older population which has a high percentage representation in death while not being many present in the overall data set (meaning few old involved in car accident compared to the total)"
   ]
  },
  {
   "cell_type": "code",
   "execution_count": 15,
   "id": "8e86a6a3",
   "metadata": {},
   "outputs": [
    {
     "name": "stdout",
     "output_type": "stream",
     "text": [
      "1982.0\n",
      "1978.3177965167142\n",
      "        an_nais   percent\n",
      "1997.0   1997.0  2.856912\n",
      "1996.0   1996.0  2.728255\n",
      "1995.0   1995.0  2.685615\n",
      "1994.0   1994.0  2.580484\n",
      "1998.0   1998.0  2.554753\n",
      "...         ...       ...\n",
      "1919.0   1919.0  0.008822\n",
      "1918.0   1918.0  0.002941\n",
      "1916.0   1916.0  0.001470\n",
      "1917.0   1917.0  0.001470\n",
      "1914.0   1914.0  0.000735\n",
      "\n",
      "[103 rows x 2 columns]\n"
     ]
    },
    {
     "data": {
      "text/plain": [
       "<AxesSubplot:xlabel='an_nais', ylabel='percent'>"
      ]
     },
     "execution_count": 15,
     "metadata": {},
     "output_type": "execute_result"
    },
    {
     "data": {
      "image/png": "[encoded data removed]",
      "text/plain": [
       "<Figure size 432x288 with 1 Axes>"
      ]
     },
     "metadata": {},
     "output_type": "display_data"
    }
   ],
   "source": [
    "print(accident_df['an_nais'].median())\n",
    "print(accident_df['an_nais'].mean())\n",
    "pc = accident_df['an_nais'].value_counts(normalize=True) * 100\n",
    "\n",
    "sns.set_theme(style=\"whitegrid\");\n",
    "b = pd.DataFrame(columns=['an_nais', 'pct'])\n",
    "b['percent'] = pc\n",
    "b['an_nais'] = b.index\n",
    "b.reset_index()\n",
    "b.drop(['pct'], axis=1, inplace=True)\n",
    "print(b)\n",
    "sns.barplot(x=\"an_nais\", y=\"percent\", data=b)"
   ]
  },
  {
   "cell_type": "code",
   "execution_count": 16,
   "id": "34844ad9",
   "metadata": {},
   "outputs": [
    {
     "name": "stdout",
     "output_type": "stream",
     "text": [
      "        Num_Acc  place  catu  grav  sexe  trajet  secu  an_nais  senc  catv  \\\n",
      "0  201700000001    1.0     1     3     1     9.0  13.0   1968.0   0.0   7.0   \n",
      "1  201700000001    2.0     2     3     2     9.0  11.0   1973.0   0.0  10.0   \n",
      "2  201700000001    1.0     1     3     1     1.0  13.0   1967.0   0.0   7.0   \n",
      "3  201700000002    1.0     1     1     1     0.0  11.0   1953.0   0.0   1.0   \n",
      "4  201700000002    1.0     1     3     1     5.0  22.0   1960.0   0.0  10.0   \n",
      "\n",
      "   obsm  choc  manv  mortalite  \n",
      "0   2.0   3.0   9.0          0  \n",
      "1   2.0   3.0  13.0          0  \n",
      "2   0.0   1.0  16.0          0  \n",
      "3   0.0   7.0   1.0          0  \n",
      "4   2.0   1.0   1.0          0  \n",
      "train shape (95214, 13) (95214,)\n",
      "test shape (40807, 13) (95214,)\n"
     ]
    }
   ],
   "source": [
    "print(accident_df.head())\n",
    "\n",
    "y = accident_df[\"mortalite\"]\n",
    "X = accident_df.drop('mortalite', axis=1)\n",
    "\n",
    "from sklearn.model_selection import train_test_split\n",
    "X_train, X_test, y_train, y_test = train_test_split(X, y, test_size=0.3, random_state=123)\n",
    "print (\"train shape\", X_train.shape, y_train.shape)\n",
    "print (\"test shape\", X_test.shape, y_train.shape)"
   ]
  },
  {
   "cell_type": "code",
   "execution_count": 26,
   "id": "b8f96dc7",
   "metadata": {},
   "outputs": [
    {
     "name": "stderr",
     "output_type": "stream",
     "text": [
      "C:\\Users\\mimip\\anaconda3\\lib\\site-packages\\sklearn\\linear_model\\_logistic.py:763: ConvergenceWarning: lbfgs failed to converge (status=2):\n",
      "ABNORMAL_TERMINATION_IN_LNSRCH.\n",
      "\n",
      "Increase the number of iterations (max_iter) or scale the data as shown in:\n",
      "    https://scikit-learn.org/stable/modules/preprocessing.html\n",
      "Please also refer to the documentation for alternative solver options:\n",
      "    https://scikit-learn.org/stable/modules/linear_model.html#logistic-regression\n",
      "  n_iter_i = _check_optimize_result(\n",
      "C:\\Users\\mimip\\anaconda3\\lib\\site-packages\\sklearn\\linear_model\\_logistic.py:763: ConvergenceWarning: lbfgs failed to converge (status=2):\n",
      "ABNORMAL_TERMINATION_IN_LNSRCH.\n",
      "\n",
      "Increase the number of iterations (max_iter) or scale the data as shown in:\n",
      "    https://scikit-learn.org/stable/modules/preprocessing.html\n",
      "Please also refer to the documentation for alternative solver options:\n",
      "    https://scikit-learn.org/stable/modules/linear_model.html#logistic-regression\n",
      "  n_iter_i = _check_optimize_result(\n",
      "C:\\Users\\mimip\\anaconda3\\lib\\site-packages\\sklearn\\linear_model\\_logistic.py:763: ConvergenceWarning: lbfgs failed to converge (status=2):\n",
      "ABNORMAL_TERMINATION_IN_LNSRCH.\n",
      "\n",
      "Increase the number of iterations (max_iter) or scale the data as shown in:\n",
      "    https://scikit-learn.org/stable/modules/preprocessing.html\n",
      "Please also refer to the documentation for alternative solver options:\n",
      "    https://scikit-learn.org/stable/modules/linear_model.html#logistic-regression\n",
      "  n_iter_i = _check_optimize_result(\n",
      "C:\\Users\\mimip\\anaconda3\\lib\\site-packages\\sklearn\\linear_model\\_logistic.py:763: ConvergenceWarning: lbfgs failed to converge (status=2):\n",
      "ABNORMAL_TERMINATION_IN_LNSRCH.\n",
      "\n",
      "Increase the number of iterations (max_iter) or scale the data as shown in:\n",
      "    https://scikit-learn.org/stable/modules/preprocessing.html\n",
      "Please also refer to the documentation for alternative solver options:\n",
      "    https://scikit-learn.org/stable/modules/linear_model.html#logistic-regression\n",
      "  n_iter_i = _check_optimize_result(\n",
      "C:\\Users\\mimip\\anaconda3\\lib\\site-packages\\sklearn\\linear_model\\_logistic.py:763: ConvergenceWarning: lbfgs failed to converge (status=2):\n",
      "ABNORMAL_TERMINATION_IN_LNSRCH.\n",
      "\n",
      "Increase the number of iterations (max_iter) or scale the data as shown in:\n",
      "    https://scikit-learn.org/stable/modules/preprocessing.html\n",
      "Please also refer to the documentation for alternative solver options:\n",
      "    https://scikit-learn.org/stable/modules/linear_model.html#logistic-regression\n",
      "  n_iter_i = _check_optimize_result(\n"
     ]
    },
    {
     "name": "stdout",
     "output_type": "stream",
     "text": [
      "Accuracy: 0.974 (0.000)\n"
     ]
    },
    {
     "name": "stderr",
     "output_type": "stream",
     "text": [
      "C:\\Users\\mimip\\anaconda3\\lib\\site-packages\\sklearn\\linear_model\\_logistic.py:763: ConvergenceWarning: lbfgs failed to converge (status=2):\n",
      "ABNORMAL_TERMINATION_IN_LNSRCH.\n",
      "\n",
      "Increase the number of iterations (max_iter) or scale the data as shown in:\n",
      "    https://scikit-learn.org/stable/modules/preprocessing.html\n",
      "Please also refer to the documentation for alternative solver options:\n",
      "    https://scikit-learn.org/stable/modules/linear_model.html#logistic-regression\n",
      "  n_iter_i = _check_optimize_result(\n"
     ]
    }
   ],
   "source": [
    "from numpy import mean\n",
    "from numpy import std\n",
    "from sklearn.model_selection import cross_val_score\n",
    "from sklearn.model_selection import RepeatedStratifiedKFold\n",
    "from sklearn.ensemble import RandomForestClassifier\n",
    "from sklearn.model_selection import train_test_split\n",
    "from sklearn.linear_model import LogisticRegression\n",
    "import matplotlib.pyplot as plt\n",
    "%matplotlib inline\n",
    "\n",
    "\n",
    "regressor = LogisticRegression()\n",
    "regressor.fit(X_train, y_train)\n",
    "y_pred = regressor.predict(X_test)\n",
    "\n",
    "from sklearn import metrics\n",
    "n_scores = cross_val_score(regressor, X, y, scoring='accuracy', cv=5)\n",
    "n_scores\n",
    "print('Accuracy: %.3f (%.3f)' % (mean(n_scores), std(n_scores)))"
   ]
  },
  {
   "cell_type": "code",
   "execution_count": 27,
   "id": "9ba92430",
   "metadata": {},
   "outputs": [
    {
     "data": {
      "text/plain": [
       "Text(0.5, 257.44, 'Predicted label')"
      ]
     },
     "execution_count": 27,
     "metadata": {},
     "output_type": "execute_result"
    },
    {
     "data": {
      "image/png": "[encoded data removed]",
      "text/plain": [
       "<Figure size 432x288 with 2 Axes>"
      ]
     },
     "metadata": {
      "needs_background": "light"
     },
     "output_type": "display_data"
    }
   ],
   "source": [
    "from sklearn.metrics import confusion_matrix\n",
    "cnf_matrix = confusion_matrix(y_test, y_pred)\n",
    "class_names=[0,1] # name  of classes\n",
    "fig, ax = plt.subplots()\n",
    "tick_marks = np.arange(len(class_names))\n",
    "plt.xticks(tick_marks, class_names)\n",
    "plt.yticks(tick_marks, class_names)\n",
    "# create heatmap\n",
    "sns.heatmap(pd.DataFrame(cnf_matrix), annot=True, cmap=\"YlGnBu\" ,fmt='g')\n",
    "ax.xaxis.set_label_position(\"top\")\n",
    "plt.tight_layout()\n",
    "plt.title('Confusion matrix', y=1.1)\n",
    "plt.ylabel('Actual label')\n",
    "plt.xlabel('Predicted label')"
   ]
  },
  {
   "cell_type": "code",
   "execution_count": 28,
   "id": "9c2f6eb9",
   "metadata": {},
   "outputs": [
    {
     "name": "stdout",
     "output_type": "stream",
     "text": [
      "              precision    recall  f1-score   support\n",
      "\n",
      "           0       0.97      1.00      0.99     39723\n",
      "           1       0.00      0.00      0.00      1084\n",
      "\n",
      "    accuracy                           0.97     40807\n",
      "   macro avg       0.49      0.50      0.49     40807\n",
      "weighted avg       0.95      0.97      0.96     40807\n",
      "\n"
     ]
    },
    {
     "name": "stderr",
     "output_type": "stream",
     "text": [
      "C:\\Users\\mimip\\anaconda3\\lib\\site-packages\\sklearn\\metrics\\_classification.py:1248: UndefinedMetricWarning: Precision and F-score are ill-defined and being set to 0.0 in labels with no predicted samples. Use `zero_division` parameter to control this behavior.\n",
      "  _warn_prf(average, modifier, msg_start, len(result))\n",
      "C:\\Users\\mimip\\anaconda3\\lib\\site-packages\\sklearn\\metrics\\_classification.py:1248: UndefinedMetricWarning: Precision and F-score are ill-defined and being set to 0.0 in labels with no predicted samples. Use `zero_division` parameter to control this behavior.\n",
      "  _warn_prf(average, modifier, msg_start, len(result))\n",
      "C:\\Users\\mimip\\anaconda3\\lib\\site-packages\\sklearn\\metrics\\_classification.py:1248: UndefinedMetricWarning: Precision and F-score are ill-defined and being set to 0.0 in labels with no predicted samples. Use `zero_division` parameter to control this behavior.\n",
      "  _warn_prf(average, modifier, msg_start, len(result))\n"
     ]
    }
   ],
   "source": [
    "from sklearn.metrics import classification_report\n",
    "print(classification_report(y_test, y_pred))"
   ]
  },
  {
   "cell_type": "code",
   "execution_count": 29,
   "id": "96974b2f",
   "metadata": {},
   "outputs": [
    {
     "name": "stdout",
     "output_type": "stream",
     "text": [
      "Accuracy: 0.974 (0.000)\n"
     ]
    }
   ],
   "source": [
    "from sklearn.ensemble import RandomForestClassifier\n",
    "\n",
    "clf = RandomForestClassifier(random_state=1, max_depth=2)\n",
    "\n",
    "# your code here\n",
    "n_scores = cross_val_score(clf, X, y, scoring='accuracy', cv=5)\n",
    "print('Accuracy: %.3f (%.3f)' % (mean(n_scores), std(n_scores)))"
   ]
  },
  {
   "cell_type": "markdown",
   "id": "da747d93",
   "metadata": {},
   "source": [
    "We'll now try to rerun the models using normalized data, some data value differences can lead to some models error, thus normalizing the data can ensure less processing errors can be made."
   ]
  },
  {
   "cell_type": "code",
   "execution_count": 30,
   "id": "eeb3de0f",
   "metadata": {},
   "outputs": [
    {
     "name": "stdout",
     "output_type": "stream",
     "text": [
      "['Num_Acc', 'place', 'catu', 'grav', 'sexe', 'trajet', 'secu', 'an_nais', 'senc', 'catv', 'obsm', 'choc', 'manv', 'mortalite']\n",
      "         Num_Acc  place      catu      grav  sexe    trajet      secu  \\\n",
      "0       0.000000  0.000  0.000000  0.666667   0.0  1.000000  0.130435   \n",
      "1       0.000000  0.125  0.333333  0.666667   1.0  1.000000  0.108696   \n",
      "2       0.000000  0.000  0.000000  0.666667   0.0  0.111111  0.130435   \n",
      "3       0.000016  0.000  0.000000  0.000000   0.0  0.000000  0.108696   \n",
      "4       0.000016  0.000  0.000000  0.666667   0.0  0.555556  0.228261   \n",
      "...          ...    ...       ...       ...   ...       ...       ...   \n",
      "136016  0.999967  0.000  0.000000  0.000000   1.0  1.000000  0.108696   \n",
      "136017  0.999984  0.000  0.000000  0.000000   1.0  1.000000  0.108696   \n",
      "136018  0.999984  0.000  0.000000  1.000000   0.0  1.000000  0.217391   \n",
      "136019  0.999984  0.125  0.333333  1.000000   1.0  1.000000  0.217391   \n",
      "136020  1.000000  0.000  0.000000  1.000000   0.0  0.111111  0.217391   \n",
      "\n",
      "         an_nais  senc      catv      obsm      choc  manv  mortalite  \n",
      "0       0.524272   0.0  0.061224  0.020202  0.333333  0.36        0.0  \n",
      "1       0.572816   0.0  0.091837  0.020202  0.333333  0.52        0.0  \n",
      "2       0.514563   0.0  0.061224  0.000000  0.111111  0.64        0.0  \n",
      "3       0.378641   0.0  0.000000  0.000000  0.777778  0.04        0.0  \n",
      "4       0.446602   0.0  0.091837  0.020202  0.111111  0.04        0.0  \n",
      "...          ...   ...       ...       ...       ...   ...        ...  \n",
      "136016  0.582524   0.5  1.000000  1.000000  1.000000  1.00        0.0  \n",
      "136017  0.708738   0.5  1.000000  1.000000  1.000000  1.00        0.0  \n",
      "136018  0.747573   0.5  1.000000  1.000000  1.000000  1.00        0.0  \n",
      "136019  0.737864   0.5  1.000000  1.000000  1.000000  1.00        0.0  \n",
      "136020  0.757282   0.5  1.000000  1.000000  1.000000  1.00        0.0  \n",
      "\n",
      "[136021 rows x 14 columns]\n"
     ]
    }
   ],
   "source": [
    "import pandas as pd\n",
    "from sklearn import preprocessing\n",
    "\n",
    "min_max_scaler = preprocessing.MinMaxScaler()\n",
    "x_scaled = min_max_scaler.fit_transform(accident_df)\n",
    "df_normalized = pd.DataFrame(x_scaled)\n",
    "print(accident_df.columns.tolist())\n",
    "df_normalized.columns = accident_df.columns.tolist()\n",
    "print(df_normalized)"
   ]
  },
  {
   "cell_type": "code",
   "execution_count": 31,
   "id": "48049607",
   "metadata": {},
   "outputs": [
    {
     "name": "stdout",
     "output_type": "stream",
     "text": [
      "train shape (95214, 13) (95214,)\n",
      "test shape (40807, 13) (95214,)\n"
     ]
    }
   ],
   "source": [
    "y = df_normalized[\"mortalite\"]\n",
    "X = df_normalized.drop('mortalite', axis=1)\n",
    "\n",
    "from sklearn.model_selection import train_test_split\n",
    "X_train, X_test, y_train, y_test = train_test_split(X, y, test_size=0.3, random_state=123)\n",
    "print (\"train shape\", X_train.shape, y_train.shape)\n",
    "print (\"test shape\", X_test.shape, y_train.shape)"
   ]
  },
  {
   "cell_type": "code",
   "execution_count": 32,
   "id": "ae6cf493",
   "metadata": {},
   "outputs": [
    {
     "name": "stdout",
     "output_type": "stream",
     "text": [
      "Accuracy: 0.974 (0.001)\n"
     ]
    }
   ],
   "source": [
    "from sklearn.ensemble import RandomForestClassifier\n",
    "\n",
    "clf = RandomForestClassifier(random_state=1, max_depth=2)\n",
    "\n",
    "# your code here\n",
    "n_scores = cross_val_score(clf, X, y, scoring='accuracy', cv=5)\n",
    "print('Accuracy: %.3f (%.3f)' % (mean(n_scores), std(n_scores)))"
   ]
  },
  {
   "cell_type": "code",
   "execution_count": 34,
   "id": "c1e34ad9",
   "metadata": {},
   "outputs": [
    {
     "name": "stdout",
     "output_type": "stream",
     "text": [
      " Results from Grid Search \n",
      "\n",
      " The best estimator across ALL searched params:\n",
      " RandomForestClassifier(max_depth=2, n_estimators=20, random_state=42)\n",
      "\n",
      " The best score across ALL searched params:\n",
      " 0.9735753146532321\n",
      "\n",
      " The best parameters across ALL searched params:\n",
      " {'max_depth': 2, 'min_samples_leaf': 1, 'min_samples_split': 2, 'n_estimators': 20}\n"
     ]
    }
   ],
   "source": [
    "from sklearn.ensemble import GradientBoostingClassifier\n",
    "from sklearn.model_selection import GridSearchCV\n",
    "GBC = GradientBoostingClassifier()\n",
    "rfc=RandomForestClassifier(max_depth=7, n_estimators=500, random_state=42)\n",
    "param_grid = { \n",
    "    'min_samples_leaf': [1, 4, 7],\n",
    "    'min_samples_split': [2, 4, 6, 8, 10],\n",
    "    'max_depth' : [2,3],\n",
    "    'n_estimators' :[20, 30, 40]\n",
    "}\n",
    "clf_rf3 = GridSearchCV(estimator=rfc, param_grid=param_grid)\n",
    "\n",
    "\n",
    "grid_GBC = GridSearchCV(estimator=rfc, param_grid = param_grid, cv = 5, n_jobs=-1)\n",
    "grid_GBC.fit(X_train, y_train)\n",
    "\n",
    "print(\" Results from Grid Search \" )\n",
    "print(\"\\n The best estimator across ALL searched params:\\n\",grid_GBC.best_estimator_)\n",
    "print(\"\\n The best score across ALL searched params:\\n\",grid_GBC.best_score_)\n",
    "print(\"\\n The best parameters across ALL searched params:\\n\",grid_GBC.best_params_)"
   ]
  },
  {
   "cell_type": "code",
   "execution_count": 35,
   "id": "4a874d7e",
   "metadata": {},
   "outputs": [
    {
     "name": "stdout",
     "output_type": "stream",
     "text": [
      "0.9789589766210851\n",
      "0.8056313177724682\n"
     ]
    }
   ],
   "source": [
    "from sklearn.ensemble import RandomForestClassifier\n",
    "from sklearn.ensemble import ExtraTreesClassifier\n",
    "from sklearn.tree import DecisionTreeClassifier\n",
    "from sklearn.ensemble import GradientBoostingClassifier\n",
    "\n",
    "clf = ExtraTreesClassifier(n_estimators=10, max_depth=None,min_samples_split=2, random_state=0)\n",
    "param_grid = { \n",
    "    'n_estimators': [500],\n",
    "    'max_features': ['auto'],\n",
    "    'max_depth' : [7],\n",
    "    'criterion' :['gini']\n",
    "}\n",
    "clf_rf4 = GridSearchCV(estimator=clf, param_grid=param_grid)\n",
    "n_scores = cross_val_score(clf_rf4, X, y, scoring='accuracy', cv=5)\n",
    "\n",
    "print(n_scores.mean())\n",
    "\n",
    "cl0 = GradientBoostingClassifier(n_estimators=100, learning_rate=1.0,max_depth=1, random_state=0)\n",
    "param_grid = { \n",
    "    'n_estimators': [100],\n",
    "    'max_features': ['auto'],\n",
    "    'max_depth' : [7],\n",
    "\n",
    "}\n",
    "clf_rf5 = GridSearchCV(estimator=cl0, param_grid=param_grid)\n",
    "n_scores = cross_val_score(clf_rf5, X, y, scoring='accuracy', cv=5)\n",
    "\n",
    "print(n_scores.mean())"
   ]
  },
  {
   "cell_type": "code",
   "execution_count": 36,
   "id": "791137e3",
   "metadata": {},
   "outputs": [
    {
     "name": "stdout",
     "output_type": "stream",
     "text": [
      "mortalite    1.000000\n",
      "secu         0.037220\n",
      "catu         0.023449\n",
      "trajet       0.020204\n",
      "senc         0.001282\n",
      "place       -0.005195\n",
      "sexe        -0.035637\n",
      "choc        -0.045022\n",
      "manv        -0.049638\n",
      "grav        -0.061069\n",
      "obsm        -0.061198\n",
      "catv        -0.061970\n",
      "an_nais     -0.064513\n",
      "Num_Acc     -0.093130\n",
      "Name: mortalite, dtype: float64\n"
     ]
    }
   ],
   "source": [
    "print(df_normalized.corr(method ='pearson')['mortalite'].sort_values(ascending=False))"
   ]
  },
  {
   "cell_type": "markdown",
   "id": "7f464144",
   "metadata": {},
   "source": [
    "### Accident based on time information\n",
    "We will now try to understand what information can time give us relating to accident frequency and accident gravity.\n"
   ]
  },
  {
   "cell_type": "code",
   "execution_count": 50,
   "id": "40805fdc",
   "metadata": {},
   "outputs": [
    {
     "name": "stdout",
     "output_type": "stream",
     "text": [
      "        an  percent\n",
      "17.0  17.0    100.0\n"
     ]
    },
    {
     "name": "stderr",
     "output_type": "stream",
     "text": [
      "C:\\Users\\mimip\\AppData\\Local\\Temp/ipykernel_14556/1539604272.py:17: SettingWithCopyWarning: \n",
      "A value is trying to be set on a copy of a slice from a DataFrame.\n",
      "Try using .loc[row_indexer,col_indexer] = value instead\n",
      "\n",
      "See the caveats in the documentation: https://pandas.pydata.org/pandas-docs/stable/user_guide/indexing.html#returning-a-view-versus-a-copy\n",
      "  selected_rows['mortalite'] = np.select(labels, outputs)\n"
     ]
    },
    {
     "data": {
      "text/plain": [
       "<AxesSubplot:xlabel='an', ylabel='percent'>"
      ]
     },
     "execution_count": 50,
     "metadata": {},
     "output_type": "execute_result"
    },
    {
     "data": {
      "image/png": "[encoded data removed]",
      "text/plain": [
       "<Figure size 432x288 with 1 Axes>"
      ]
     },
     "metadata": {},
     "output_type": "display_data"
    }
   ],
   "source": [
    "selected_rows = base_acc_df[~base_acc_df['an'].isnull()]\n",
    "\n",
    "labels = [\n",
    "    selected_rows['grav'] == 1,\n",
    "    selected_rows['grav'] == 2,\n",
    "    selected_rows['grav'] == 3,\n",
    "    selected_rows['grav'] == 4,\n",
    "]\n",
    "\n",
    "outputs = [\n",
    "    0,\n",
    "    1,\n",
    "    0,\n",
    "    0,\n",
    "]\n",
    "\n",
    "selected_rows['mortalite'] = np.select(labels, outputs)\n",
    "\n",
    "pct_an = selected_rows['an'].value_counts(normalize=True) * 100\n",
    "\n",
    "sns.set_theme(style=\"whitegrid\");\n",
    "c = pd.DataFrame(columns=['an', 'pct'])\n",
    "c['percent'] = pct_an\n",
    "c['an'] = c.index\n",
    "c.reset_index()\n",
    "c.drop(['pct'], axis=1, inplace=True)\n",
    "print(c)\n",
    "sns.barplot(x=\"an\", y=\"percent\", data=c)"
   ]
  },
  {
   "cell_type": "code",
   "execution_count": 62,
   "id": "30e39db4",
   "metadata": {},
   "outputs": [
    {
     "data": {
      "text/plain": [
       "<AxesSubplot:xlabel='mois', ylabel='percent'>"
      ]
     },
     "execution_count": 62,
     "metadata": {},
     "output_type": "execute_result"
    },
    {
     "data": {
      "image/png": "[encoded data removed]",
      "text/plain": [
       "<Figure size 432x288 with 1 Axes>"
      ]
     },
     "metadata": {},
     "output_type": "display_data"
    }
   ],
   "source": [
    "pct_mois = selected_rows['mois'].value_counts(normalize=True) * 100\n",
    "mort = selected_rows['grav']\n",
    "\n",
    "sns.set_theme(style=\"whitegrid\");\n",
    "d = pd.DataFrame(columns=['mois', 'pct','grav'])\n",
    "d['percent'] = pct_mois\n",
    "d['mois'] = d.index\n",
    "d['grav'] = mort\n",
    "d.reset_index()\n",
    "d.drop(['pct'], axis=1, inplace=True)\n",
    "sns.barplot(x=\"mois\", y=\"percent\", hue=\"grav\", data=d)"
   ]
  },
  {
   "cell_type": "markdown",
   "id": "927c4aa4",
   "metadata": {},
   "source": [
    "Regarding accident/months, June has the highest numbers of accidents as well as most of them being dangerous (deadly/dangerous)\n",
    "The safest month is august, being mostly non harming accident, as well as a low amount of accident. Might be the result of having low density circulation in this month."
   ]
  },
  {
   "cell_type": "code",
   "execution_count": 67,
   "id": "5e5b4e55",
   "metadata": {},
   "outputs": [
    {
     "data": {
      "text/plain": [
       "<AxesSubplot:xlabel='hrmn', ylabel='percent'>"
      ]
     },
     "execution_count": 67,
     "metadata": {},
     "output_type": "execute_result"
    },
    {
     "data": {
      "image/png": "[encoded data removed]",
      "text/plain": [
       "<Figure size 432x288 with 1 Axes>"
      ]
     },
     "metadata": {},
     "output_type": "display_data"
    }
   ],
   "source": [
    "pct_heure = selected_rows['hrmn'].value_counts(normalize=True) * 100\n",
    "mort = selected_rows['grav']\n",
    "\n",
    "sns.set_theme(style=\"whitegrid\");\n",
    "e = pd.DataFrame(columns=['hrmn', 'pct','grav'])\n",
    "e['percent'] = pct_heure\n",
    "e['hrmn'] = e.index\n",
    "e['grav'] = mort\n",
    "e.reset_index()\n",
    "e.drop(['pct'], axis=1, inplace=True)\n",
    "sns.scatterplot(x=\"hrmn\", y=\"percent\", hue=\"grav\", data=e)"
   ]
  },
  {
   "cell_type": "code",
   "execution_count": null,
   "id": "0767af27",
   "metadata": {},
   "outputs": [],
   "source": [
    "Nb of accident based on our seems to overlap with road usage throughout the day, "
   ]
  },
  {
   "cell_type": "code",
   "execution_count": null,
   "id": "f016ca5d",
   "metadata": {},
   "outputs": [],
   "source": []
  }
 ],
 "metadata": {
  "kernelspec": {
   "display_name": "Python 3 (ipykernel)",
   "language": "python",
   "name": "python3"
  },
  "language_info": {
   "codemirror_mode": {
    "name": "ipython",
    "version": 3
   },
   "file_extension": ".py",
   "mimetype": "text/x-python",
   "name": "python",
   "nbconvert_exporter": "python",
   "pygments_lexer": "ipython3",
   "version": "3.9.7"
  }
 },
 "nbformat": 4,
 "nbformat_minor": 5
}
